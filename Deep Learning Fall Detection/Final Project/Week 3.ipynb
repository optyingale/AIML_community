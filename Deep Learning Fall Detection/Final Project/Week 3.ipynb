{
 "cells": [
  {
   "cell_type": "code",
   "execution_count": 1,
   "metadata": {},
   "outputs": [],
   "source": [
    "# Importing necessities\n",
    "\n",
    "import warnings\n",
    "warnings.filterwarnings(\"ignore\")\n",
    "\n",
    "import tensorflow as tf\n",
    "import cv2\n",
    "import os\n",
    "import posenet\n",
    "import time\n",
    "import pandas as pd\n",
    "import numpy as np\n"
   ]
  },
  {
   "cell_type": "code",
   "execution_count": 2,
   "metadata": {},
   "outputs": [
    {
     "name": "stdout",
     "output_type": "stream",
     "text": [
      "['bhavesh_ingale_pushups.mp4', 'bhavesh_ingale_sit.mp4', 'bhavesh_ingale_walking-with-hands-up.mp4', 'bhavesh_ingale_walking.mp4', 'edward_praveen_pushups.mp4', 'online_fall.mp4', 'online_pushups.mp4', 'online_sit.mp4', 'online_walking.mp4', 'rahul_gupta_actions1.mp4']\n"
     ]
    },
    {
     "data": {
      "text/plain": [
       "'.\\\\data\\\\bhavesh_ingale_pushups.mp4'"
      ]
     },
     "execution_count": 2,
     "metadata": {},
     "output_type": "execute_result"
    }
   ],
   "source": [
    "# Directory of videos to be considered\n",
    "dir_ = \".\\data\"\n",
    "\n",
    "files = os.listdir(dir_)\n",
    "#file = files[0]\n",
    "print(files)\n",
    "os.path.join(dir_, files[0])"
   ]
  },
  {
   "cell_type": "code",
   "execution_count": 3,
   "metadata": {},
   "outputs": [],
   "source": [
    "# Configuring my cudnn for tensorflow 1\n",
    "# Needed for my laptop, unsure for others\n",
    "\n",
    "config = tf.ConfigProto()\n",
    "config.gpu_options.allow_growth = True\n",
    "sess = tf.Session(config=config)"
   ]
  },
  {
   "cell_type": "markdown",
   "metadata": {},
   "source": [
    "```python\n",
    "csv_name = 'my_csv.csv'\n",
    "with tf.Session() as sess:\n",
    "    \n",
    "    # Setting ouput stride to 16\n",
    "    output_stride = 16\n",
    "    model_id = 101\n",
    "    model_cfg, model_outputs = posenet.load_model(model_id, sess)\n",
    "    \n",
    "    # change to for loop after testing on single file\n",
    "    file = files[0]\n",
    "    action = files[0].split(\"_\")[-1].split(\".\")[0]\n",
    "    cap = cv2.VideoCapture(os.path.join(dir_, file))\n",
    "    input_image, display_image, output_scale = posenet.read_cap(cap)\n",
    "    \n",
    "    start = time.time()\n",
    "    frame_count = 0\n",
    "    while True:\n",
    "        \n",
    "        input_image, display_image, output_scale = posenet.read_cap(cap)\n",
    "\n",
    "        heatmaps_result, offsets_result, displacement_fwd_result, displacement_bwd_result = sess.run(\n",
    "            model_outputs,\n",
    "            feed_dict={'image:0': input_image})\n",
    "\n",
    "        # print(heatmaps_result.shape) # (1, 33, 58, 17)\n",
    "\n",
    "        pose_scores, keypoint_scores, keypoint_coords = posenet.decode_multi.decode_multiple_poses(\n",
    "            heatmaps_result.squeeze(axis=0),\n",
    "            offsets_result.squeeze(axis=0),\n",
    "            displacement_fwd_result.squeeze(axis=0),\n",
    "            displacement_bwd_result.squeeze(axis=0),\n",
    "            output_stride=output_stride,\n",
    "            max_pose_detections=10,\n",
    "            min_pose_score=0.15)\n",
    "\n",
    "        keypoint_coords *= output_scale\n",
    "\n",
    "        # TODO this isn't particularly fast, use GL for drawing and display someday...\n",
    "        overlay_image = posenet.draw_skel_and_kp(\n",
    "            display_image, pose_scores, keypoint_scores, keypoint_coords,\n",
    "            min_pose_score=0.15, min_part_score=0.3)\n",
    "        # setting min_pose_score and min_part_score =0 prints the estimated value\n",
    "\n",
    "        x = keypoint_coords[0][:,0]\n",
    "        y = keypoint_coords[0][:,1]\n",
    "        data = {'action': action, \n",
    "                'frame_number': frame_count+1, \n",
    "                'input_number': np.arange(1, posenet.NUM_KEYPOINTS+1), \n",
    "                'x_inputs': x, 'y_inputs': y}\n",
    "        temp = pd.DataFrame(data=data)\n",
    "        \n",
    "        if csv_name not in os.listdir():\n",
    "            temp.to_csv(csv_name, \n",
    "                        header=True, \n",
    "                        index=False)\n",
    "        else:\n",
    "            temp.to_csv(csv_name, \n",
    "                        mode='a', \n",
    "                        header=False, \n",
    "                        index=False)\n",
    "        \n",
    "        cv2.imshow('posenet', overlay_image)\n",
    "        frame_count += 1\n",
    "        if cv2.waitKey(1) & 0xFF == ord('q'):\n",
    "            break\n",
    "\n",
    "    # print(cap.get(cv2.CAP_PROP_FPS)) -> frame rate\n",
    "    print('Average FPS: ', frame_count / (time.time() - start))\n",
    "    print(frame_count)```\n"
   ]
  },
  {
   "cell_type": "markdown",
   "metadata": {},
   "source": [
    "### Since not all videos from drives are to be taken into account, I'll download them manually"
   ]
  },
  {
   "cell_type": "code",
   "execution_count": 4,
   "metadata": {},
   "outputs": [
    {
     "name": "stdout",
     "output_type": "stream",
     "text": [
      "WARNING:tensorflow:From E:\\AIML community\\Deep Learning Fall Detection\\Final\\posenet\\model.py:46: The name tf.gfile.GFile is deprecated. Please use tf.io.gfile.GFile instead.\n",
      "\n",
      "WARNING:tensorflow:From E:\\AIML community\\Deep Learning Fall Detection\\Final\\posenet\\model.py:47: The name tf.GraphDef is deprecated. Please use tf.compat.v1.GraphDef instead.\n",
      "\n",
      "Completed Writing bhavesh_ingale_pushups.mp4 data\n",
      "Completed Writing bhavesh_ingale_sit.mp4 data\n",
      "Completed Writing bhavesh_ingale_walking-with-hands-up.mp4 data\n",
      "Completed Writing bhavesh_ingale_walking.mp4 data\n",
      "Completed Writing edward_praveen_pushups.mp4 data\n",
      "Completed Writing online_fall.mp4 data\n",
      "Completed Writing online_pushups.mp4 data\n",
      "Completed Writing online_sit.mp4 data\n",
      "Completed Writing online_walking.mp4 data\n",
      "Completed Writing rahul_gupta_actions1.mp4 data\n",
      "time taken = 0.5766624410947164 mins\n"
     ]
    }
   ],
   "source": [
    "csv_name = 'entire_data.csv'\n",
    "with tf.Session() as sess:\n",
    "    for file in files:\n",
    "        # Setting ouput stride to 16\n",
    "        output_stride = 16\n",
    "        model_id = 101\n",
    "        model_cfg, model_outputs = posenet.load_model(model_id, sess)\n",
    "\n",
    "        # change to for loop after testing on single file\n",
    "        #file = files[0]\n",
    "        action = file.split(\"_\")[-1].split(\".\")[0]\n",
    "        cap = cv2.VideoCapture(os.path.join(dir_, file))\n",
    "        input_image, display_image, output_scale = posenet.read_cap(cap)\n",
    "\n",
    "        start = time.time()\n",
    "        frame_count = 0\n",
    "        check = True\n",
    "        while check:\n",
    "            try:\n",
    "                input_image, display_image, output_scale = posenet.read_cap(cap)\n",
    "\n",
    "                heatmaps_result, offsets_result, displacement_fwd_result, displacement_bwd_result = sess.run(\n",
    "                    model_outputs,\n",
    "                    feed_dict={'image:0': input_image})\n",
    "\n",
    "                # print(heatmaps_result.shape) # (1, 33, 58, 17)\n",
    "\n",
    "                pose_scores, keypoint_scores, keypoint_coords = posenet.decode_multi.decode_multiple_poses(\n",
    "                    heatmaps_result.squeeze(axis=0),\n",
    "                    offsets_result.squeeze(axis=0),\n",
    "                    displacement_fwd_result.squeeze(axis=0),\n",
    "                    displacement_bwd_result.squeeze(axis=0),\n",
    "                    output_stride=output_stride,\n",
    "                    max_pose_detections=10,\n",
    "                    min_pose_score=0.15)\n",
    "\n",
    "                keypoint_coords *= output_scale\n",
    "\n",
    "                # TODO this isn't particularly fast, use GL for drawing and display someday...\n",
    "                overlay_image = posenet.draw_skel_and_kp(\n",
    "                    display_image, pose_scores, keypoint_scores, keypoint_coords,\n",
    "                    min_pose_score=0.15, min_part_score=0.3)\n",
    "                # setting min_pose_score and min_part_score =0 prints the estimated value\n",
    "\n",
    "                x = keypoint_coords[0][:,0]\n",
    "                y = keypoint_coords[0][:,1]\n",
    "                data = {'action': action, \n",
    "                        'frame_number': frame_count+1, \n",
    "                        'input_number': np.arange(1, posenet.NUM_KEYPOINTS+1), \n",
    "                        'x_inputs': x, 'y_inputs': y}\n",
    "                temp = pd.DataFrame(data=data)\n",
    "\n",
    "                if csv_name not in os.listdir():\n",
    "                    temp.to_csv(csv_name, \n",
    "                                header=True, \n",
    "                                index=False)\n",
    "                else:\n",
    "                    temp.to_csv(csv_name, \n",
    "                                mode='a', \n",
    "                                header=False, \n",
    "                                index=False)\n",
    "\n",
    "                #cv2.imshow('posenet', overlay_image)\n",
    "                frame_count += 1\n",
    "                if cv2.waitKey(1) & 0xFF == ord('q'):\n",
    "                    break\n",
    "            except:\n",
    "                print(f\"Completed Writing {file} data\")\n",
    "                cap.release()\n",
    "                check = False\n",
    "            \n",
    "    # print(cap.get(cv2.CAP_PROP_FPS)) -> frame rate\n",
    "    #print('Average FPS: ', frame_count / (time.time() - start))\n",
    "    #print(frame_count)\n",
    "    print(f'time taken = {(time.time() - start)/60} mins')\n"
   ]
  },
  {
   "cell_type": "code",
   "execution_count": null,
   "metadata": {},
   "outputs": [],
   "source": []
  },
  {
   "cell_type": "code",
   "execution_count": null,
   "metadata": {},
   "outputs": [],
   "source": []
  }
 ],
 "metadata": {
  "kernelspec": {
   "display_name": "Python 3",
   "language": "python",
   "name": "python3"
  },
  "language_info": {
   "codemirror_mode": {
    "name": "ipython",
    "version": 3
   },
   "file_extension": ".py",
   "mimetype": "text/x-python",
   "name": "python",
   "nbconvert_exporter": "python",
   "pygments_lexer": "ipython3",
   "version": "3.7.6"
  }
 },
 "nbformat": 4,
 "nbformat_minor": 4
}
