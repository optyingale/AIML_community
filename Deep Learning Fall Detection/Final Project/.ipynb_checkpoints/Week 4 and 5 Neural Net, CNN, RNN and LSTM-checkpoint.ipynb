{
 "cells": [
  {
   "cell_type": "code",
   "execution_count": 1,
   "metadata": {},
   "outputs": [],
   "source": [
    "import pandas as pd\n",
    "from sklearn import model_selection\n",
    "import numpy as np"
   ]
  },
  {
   "cell_type": "markdown",
   "metadata": {},
   "source": [
    "### Exploration of Dataset"
   ]
  },
  {
   "cell_type": "code",
   "execution_count": 2,
   "metadata": {},
   "outputs": [
    {
     "name": "stdout",
     "output_type": "stream",
     "text": [
      "number of classes =  6\n",
      "names of classes  =  ['walking' 'sit' 'pushups' 'fall' 'walking-with-hands-up' 'actions1']\n",
      "\n",
      "Percentage of each class in the dataset :\n",
      " [34.43654529733884, 24.59890479392833, 17.43923527716399, 12.926313766932463, 7.383033912959938, 3.215966951676434]\n",
      "\n",
      "Each class in the dataset :\n",
      " walking                  14338\n",
      "sit                      10242\n",
      "pushups                   7261\n",
      "fall                      5382\n",
      "walking-with-hands-up     3074\n",
      "actions1                  1339\n",
      "Name: action, dtype: int64\n"
     ]
    }
   ],
   "source": [
    "df = pd.read_csv(\"cumulative.csv\")\n",
    "\n",
    "print('number of classes = ', len(df['action'].value_counts()))\n",
    "print('names of classes  = ', df['action'].value_counts().index.values)\n",
    "print('\\nPercentage of each class in the dataset :\\n', [i/len(df)*100 for i in df['action'].value_counts()])\n",
    "print('\\nEach class in the dataset :\\n', df['action'].value_counts())"
   ]
  },
  {
   "cell_type": "code",
   "execution_count": 3,
   "metadata": {},
   "outputs": [
    {
     "name": "stdout",
     "output_type": "stream",
     "text": [
      "<class 'pandas.core.frame.DataFrame'>\n",
      "RangeIndex: 41636 entries, 0 to 41635\n",
      "Data columns (total 35 columns):\n",
      " #   Column           Non-Null Count  Dtype  \n",
      "---  ------           --------------  -----  \n",
      " 0   nose_x           41636 non-null  float64\n",
      " 1   nose_y           41636 non-null  float64\n",
      " 2   leftEye_x        41636 non-null  float64\n",
      " 3   leftEye_y        41636 non-null  float64\n",
      " 4   rightEye_x       41636 non-null  float64\n",
      " 5   rightEye_y       41636 non-null  float64\n",
      " 6   leftEar_x        41636 non-null  float64\n",
      " 7   leftEar_y        41636 non-null  float64\n",
      " 8   rightEar_x       41636 non-null  float64\n",
      " 9   rightEar_y       41636 non-null  float64\n",
      " 10  leftShoulder_x   41636 non-null  float64\n",
      " 11  leftShoulder_y   41636 non-null  float64\n",
      " 12  rightShoulder_x  41636 non-null  float64\n",
      " 13  rightShoulder_y  41636 non-null  float64\n",
      " 14  leftElbow_x      41636 non-null  float64\n",
      " 15  leftElbow_y      41636 non-null  float64\n",
      " 16  rightElbow_x     41636 non-null  float64\n",
      " 17  rightElbow_y     41636 non-null  float64\n",
      " 18  leftWrist_x      41636 non-null  float64\n",
      " 19  leftWrist_y      41636 non-null  float64\n",
      " 20  rightWrist_x     41636 non-null  float64\n",
      " 21  rightWrist_y     41636 non-null  float64\n",
      " 22  leftHip_x        41636 non-null  float64\n",
      " 23  leftHip_y        41636 non-null  float64\n",
      " 24  rightHip_x       41636 non-null  float64\n",
      " 25  rightHip_y       41636 non-null  float64\n",
      " 26  leftKnee_x       41636 non-null  float64\n",
      " 27  leftKnee_y       41636 non-null  float64\n",
      " 28  rightKnee_x      41636 non-null  float64\n",
      " 29  rightKnee_y      41636 non-null  float64\n",
      " 30  leftAnkle_x      41636 non-null  float64\n",
      " 31  leftAnkle_y      41636 non-null  float64\n",
      " 32  rightAnkle_x     41636 non-null  float64\n",
      " 33  rightAnkle_y     41636 non-null  float64\n",
      " 34  action           41636 non-null  object \n",
      "dtypes: float64(34), object(1)\n",
      "memory usage: 11.1+ MB\n"
     ]
    }
   ],
   "source": [
    "df.info()"
   ]
  },
  {
   "cell_type": "markdown",
   "metadata": {},
   "source": [
    "##### We can see only 6 since there is clash in naming \n",
    "For example there are two videos ending with **\"sit\"** and the above is a result of only unique values"
   ]
  },
  {
   "cell_type": "code",
   "execution_count": 4,
   "metadata": {},
   "outputs": [
    {
     "name": "stdout",
     "output_type": "stream",
     "text": [
      "TRAIN: [ 4611 18661 26973 ... 33765 38878 12168] TEST: [32813 17267 41480 ... 10590  9227  5273]\n"
     ]
    }
   ],
   "source": [
    "sss = model_selection.StratifiedShuffleSplit(n_splits=1, test_size=0.2)\n",
    "\n",
    "X = df.iloc[:, :-1]\n",
    "y = df.iloc[:, -1]\n",
    "\n",
    "# the for loop is for when we want to see the index of train and test from one or more splits\n",
    "for train_index, test_index in sss.split(X, y):\n",
    "    print(\"TRAIN:\", train_index, \"TEST:\", test_index)\n",
    "    X_train, X_test = X.iloc[train_index], X.iloc[test_index]\n",
    "    y_train, y_test = y[train_index], y[test_index]"
   ]
  },
  {
   "cell_type": "code",
   "execution_count": 5,
   "metadata": {},
   "outputs": [
    {
     "name": "stdout",
     "output_type": "stream",
     "text": [
      "Percentage of each class after split :\n",
      " [34.436171490332654, 24.597694247628198, 17.44025459349105, 12.927825147111804, 7.38261078419599, 3.2154437372403026]\n"
     ]
    }
   ],
   "source": [
    "print('Percentage of each class after split :\\n', [i/len(y_train)*100 for i in y_train.value_counts()])"
   ]
  },
  {
   "cell_type": "markdown",
   "metadata": {},
   "source": [
    "### We can observe that the percentage of class is preserved\n",
    "Moving ahead we could choose to **downsample** the data so all can match with the lowest data we have or **upsample** and create new data so as to match with the highest data sample we have"
   ]
  },
  {
   "cell_type": "markdown",
   "metadata": {},
   "source": [
    "##### The below two blocks of code are to provide a base to compare DL models to ML model (Random Forest)"
   ]
  },
  {
   "cell_type": "markdown",
   "metadata": {},
   "source": [
    "# Random Forest Classifier (RFC)"
   ]
  },
  {
   "cell_type": "code",
   "execution_count": null,
   "metadata": {},
   "outputs": [],
   "source": [
    "# Applying Random Forest\n",
    "\n",
    "from sklearn.model_selection import GridSearchCV\n",
    "from sklearn.ensemble import RandomForestClassifier\n",
    "\n",
    "rfc = RandomForestClassifier(max_features=None, n_jobs=-1, verbose=3,)\n",
    "params = {'criterion' : ['gini', 'entropy'],\n",
    "          'n_estimators' : [10, 100, 1000, 10000]}\n",
    "\n",
    "model = GridSearchCV(rfc, params).fit(X_train, y_train)\n",
    "print('Best estimator = ', model.best_estimator_,'\\nBest score = ',model.best_score_,'\\nBest Params =',model.best_params_)"
   ]
  },
  {
   "cell_type": "code",
   "execution_count": 8,
   "metadata": {},
   "outputs": [
    {
     "name": "stderr",
     "output_type": "stream",
     "text": [
      "[Parallel(n_jobs=12)]: Using backend ThreadingBackend with 12 concurrent workers.\n",
      "[Parallel(n_jobs=12)]: Done   8 tasks      | elapsed:    0.0s\n",
      "[Parallel(n_jobs=12)]: Done 104 tasks      | elapsed:    0.0s\n",
      "[Parallel(n_jobs=12)]: Done 264 tasks      | elapsed:    0.0s\n",
      "[Parallel(n_jobs=12)]: Done 488 tasks      | elapsed:    0.1s\n",
      "[Parallel(n_jobs=12)]: Done 776 tasks      | elapsed:    0.2s\n",
      "[Parallel(n_jobs=12)]: Done 1000 out of 1000 | elapsed:    0.3s finished\n"
     ]
    },
    {
     "data": {
      "text/plain": [
       "array([[ 267,    0,    1,    0,    0,    0],\n",
       "       [   0, 1070,    4,    2,    0,    0],\n",
       "       [   0,    2, 1450,    0,    0,    0],\n",
       "       [   0,    3,    0, 2043,    3,    0],\n",
       "       [   0,    0,    0,    0, 2868,    0],\n",
       "       [   0,    0,    0,    0,    0,  615]], dtype=int64)"
      ]
     },
     "execution_count": 8,
     "metadata": {},
     "output_type": "execute_result"
    }
   ],
   "source": [
    "from sklearn.metrics import confusion_matrix, multilabel_confusion_matrix\n",
    "import pickle\n",
    "\n",
    "filename = \"RFC.pickle\"\n",
    "#pickle.dump(model, open(filename, \"wb\"))\n",
    "\n",
    "model = pickle.load(open(filename, 'rb'))\n",
    "\n",
    "y_pred = model.predict(X_test)\n",
    "confusion_matrix(y_test, y_pred)"
   ]
  },
  {
   "cell_type": "code",
   "execution_count": 9,
   "metadata": {},
   "outputs": [
    {
     "data": {
      "text/plain": [
       "array([[[8060,    0],\n",
       "        [   1,  267]],\n",
       "\n",
       "       [[7247,    5],\n",
       "        [   6, 1070]],\n",
       "\n",
       "       [[6871,    5],\n",
       "        [   2, 1450]],\n",
       "\n",
       "       [[6277,    2],\n",
       "        [   6, 2043]],\n",
       "\n",
       "       [[5457,    3],\n",
       "        [   0, 2868]],\n",
       "\n",
       "       [[7713,    0],\n",
       "        [   0,  615]]], dtype=int64)"
      ]
     },
     "execution_count": 9,
     "metadata": {},
     "output_type": "execute_result"
    }
   ],
   "source": [
    "multilabel_confusion_matrix(y_test, y_pred)"
   ]
  },
  {
   "cell_type": "markdown",
   "metadata": {},
   "source": [
    "# Artificial Neural Network"
   ]
  },
  {
   "cell_type": "code",
   "execution_count": 10,
   "metadata": {},
   "outputs": [
    {
     "name": "stderr",
     "output_type": "stream",
     "text": [
      "D:\\ProgramData\\Anaconda3\\lib\\site-packages\\sklearn\\preprocessing\\_label.py:235: DataConversionWarning: A column-vector y was passed when a 1d array was expected. Please change the shape of y to (n_samples, ), for example using ravel().\n",
      "  y = column_or_1d(y, warn=True)\n",
      "D:\\ProgramData\\Anaconda3\\lib\\site-packages\\sklearn\\preprocessing\\_label.py:268: DataConversionWarning: A column-vector y was passed when a 1d array was expected. Please change the shape of y to (n_samples, ), for example using ravel().\n",
      "  y = column_or_1d(y, warn=True)\n"
     ]
    },
    {
     "data": {
      "text/plain": [
       "array(['actions1', 'fall', 'pushups', 'sit', 'walking',\n",
       "       'walking-with-hands-up'], dtype=object)"
      ]
     },
     "execution_count": 10,
     "metadata": {},
     "output_type": "execute_result"
    }
   ],
   "source": [
    "from sklearn.preprocessing import LabelEncoder\n",
    "enc = LabelEncoder().fit(df.iloc[:, -1].values.reshape(-1,1))\n",
    "df[\"Transformed\"] = enc.transform(df.iloc[:, -1].values.reshape(-1,1))\n",
    "df['Transformed'] = df['Transformed'].astype('category')\n",
    "\n",
    "enc.classes_"
   ]
  },
  {
   "cell_type": "code",
   "execution_count": 11,
   "metadata": {},
   "outputs": [
    {
     "name": "stderr",
     "output_type": "stream",
     "text": [
      "D:\\ProgramData\\Anaconda3\\lib\\site-packages\\tensorflow\\python\\framework\\dtypes.py:516: FutureWarning: Passing (type, 1) or '1type' as a synonym of type is deprecated; in a future version of numpy, it will be understood as (type, (1,)) / '(1,)type'.\n",
      "  _np_qint8 = np.dtype([(\"qint8\", np.int8, 1)])\n",
      "D:\\ProgramData\\Anaconda3\\lib\\site-packages\\tensorflow\\python\\framework\\dtypes.py:517: FutureWarning: Passing (type, 1) or '1type' as a synonym of type is deprecated; in a future version of numpy, it will be understood as (type, (1,)) / '(1,)type'.\n",
      "  _np_quint8 = np.dtype([(\"quint8\", np.uint8, 1)])\n",
      "D:\\ProgramData\\Anaconda3\\lib\\site-packages\\tensorflow\\python\\framework\\dtypes.py:518: FutureWarning: Passing (type, 1) or '1type' as a synonym of type is deprecated; in a future version of numpy, it will be understood as (type, (1,)) / '(1,)type'.\n",
      "  _np_qint16 = np.dtype([(\"qint16\", np.int16, 1)])\n",
      "D:\\ProgramData\\Anaconda3\\lib\\site-packages\\tensorflow\\python\\framework\\dtypes.py:519: FutureWarning: Passing (type, 1) or '1type' as a synonym of type is deprecated; in a future version of numpy, it will be understood as (type, (1,)) / '(1,)type'.\n",
      "  _np_quint16 = np.dtype([(\"quint16\", np.uint16, 1)])\n",
      "D:\\ProgramData\\Anaconda3\\lib\\site-packages\\tensorflow\\python\\framework\\dtypes.py:520: FutureWarning: Passing (type, 1) or '1type' as a synonym of type is deprecated; in a future version of numpy, it will be understood as (type, (1,)) / '(1,)type'.\n",
      "  _np_qint32 = np.dtype([(\"qint32\", np.int32, 1)])\n",
      "D:\\ProgramData\\Anaconda3\\lib\\site-packages\\tensorflow\\python\\framework\\dtypes.py:525: FutureWarning: Passing (type, 1) or '1type' as a synonym of type is deprecated; in a future version of numpy, it will be understood as (type, (1,)) / '(1,)type'.\n",
      "  np_resource = np.dtype([(\"resource\", np.ubyte, 1)])\n",
      "D:\\ProgramData\\Anaconda3\\lib\\site-packages\\tensorboard\\compat\\tensorflow_stub\\dtypes.py:541: FutureWarning: Passing (type, 1) or '1type' as a synonym of type is deprecated; in a future version of numpy, it will be understood as (type, (1,)) / '(1,)type'.\n",
      "  _np_qint8 = np.dtype([(\"qint8\", np.int8, 1)])\n",
      "D:\\ProgramData\\Anaconda3\\lib\\site-packages\\tensorboard\\compat\\tensorflow_stub\\dtypes.py:542: FutureWarning: Passing (type, 1) or '1type' as a synonym of type is deprecated; in a future version of numpy, it will be understood as (type, (1,)) / '(1,)type'.\n",
      "  _np_quint8 = np.dtype([(\"quint8\", np.uint8, 1)])\n",
      "D:\\ProgramData\\Anaconda3\\lib\\site-packages\\tensorboard\\compat\\tensorflow_stub\\dtypes.py:543: FutureWarning: Passing (type, 1) or '1type' as a synonym of type is deprecated; in a future version of numpy, it will be understood as (type, (1,)) / '(1,)type'.\n",
      "  _np_qint16 = np.dtype([(\"qint16\", np.int16, 1)])\n",
      "D:\\ProgramData\\Anaconda3\\lib\\site-packages\\tensorboard\\compat\\tensorflow_stub\\dtypes.py:544: FutureWarning: Passing (type, 1) or '1type' as a synonym of type is deprecated; in a future version of numpy, it will be understood as (type, (1,)) / '(1,)type'.\n",
      "  _np_quint16 = np.dtype([(\"quint16\", np.uint16, 1)])\n",
      "D:\\ProgramData\\Anaconda3\\lib\\site-packages\\tensorboard\\compat\\tensorflow_stub\\dtypes.py:545: FutureWarning: Passing (type, 1) or '1type' as a synonym of type is deprecated; in a future version of numpy, it will be understood as (type, (1,)) / '(1,)type'.\n",
      "  _np_qint32 = np.dtype([(\"qint32\", np.int32, 1)])\n",
      "D:\\ProgramData\\Anaconda3\\lib\\site-packages\\tensorboard\\compat\\tensorflow_stub\\dtypes.py:550: FutureWarning: Passing (type, 1) or '1type' as a synonym of type is deprecated; in a future version of numpy, it will be understood as (type, (1,)) / '(1,)type'.\n",
      "  np_resource = np.dtype([(\"resource\", np.ubyte, 1)])\n"
     ]
    }
   ],
   "source": [
    "import tensorflow as tf\n",
    "\n",
    "config = tf.ConfigProto()\n",
    "config.gpu_options.allow_growth = True\n",
    "sess = tf.Session(config=config)"
   ]
  },
  {
   "cell_type": "code",
   "execution_count": 13,
   "metadata": {
    "scrolled": true
   },
   "outputs": [
    {
     "name": "stdout",
     "output_type": "stream",
     "text": [
      "Model: \"sequential_1\"\n",
      "_________________________________________________________________\n",
      "Layer (type)                 Output Shape              Param #   \n",
      "=================================================================\n",
      "Dense_1 (Dense)              (None, 1024)              35840     \n",
      "_________________________________________________________________\n",
      "Batch_Norm (BatchNormalizati (None, 1024)              4096      \n",
      "_________________________________________________________________\n",
      "Dense_2 (Dense)              (None, 720)               738000    \n",
      "_________________________________________________________________\n",
      "dropout_2 (Dropout)          (None, 720)               0         \n",
      "_________________________________________________________________\n",
      "Dense_3 (Dense)              (None, 480)               346080    \n",
      "_________________________________________________________________\n",
      "Dense_4 (Dense)              (None, 360)               173160    \n",
      "_________________________________________________________________\n",
      "dropout_3 (Dropout)          (None, 360)               0         \n",
      "_________________________________________________________________\n",
      "Dense_5 (Dense)              (None, 180)               64980     \n",
      "_________________________________________________________________\n",
      "Dense_OP (Dense)             (None, 6)                 1086      \n",
      "=================================================================\n",
      "Total params: 1,363,242\n",
      "Trainable params: 1,361,194\n",
      "Non-trainable params: 2,048\n",
      "_________________________________________________________________\n"
     ]
    }
   ],
   "source": [
    "# tf.__version__ = 1.14.0\n",
    "\n",
    "#x = tf.placeholder(dtype = tf.float32, shape = [34,1])\n",
    "#y = tf.placeholder(dtype = tf.int32, shape = [None])\n",
    "\n",
    "\n",
    "model = tf.keras.Sequential([tf.keras.layers.Dense(1024, activation=\"relu\", name=\"Dense_1\", \n",
    "                                                   input_dim=df.T.iloc[:-2, 1].values.reshape(-1, 1).shape[0]),\n",
    "                             tf.keras.layers.BatchNormalization(name=\"Batch_Norm\"),\n",
    "                             tf.keras.layers.Dense(720, activation=\"relu\", name=\"Dense_2\"),\n",
    "                             tf.keras.layers.Dropout(0.5),\n",
    "                             tf.keras.layers.Dense(480, activation=\"relu\", name=\"Dense_3\"),\n",
    "                             tf.keras.layers.Dense(360, activation=\"relu\", name=\"Dense_4\"),\n",
    "                             tf.keras.layers.Dropout(0.2),\n",
    "                             tf.keras.layers.Dense(180, activation=\"relu\", name=\"Dense_5\"),\n",
    "                             tf.keras.layers.Dense(len(enc.classes_), activation=\"softmax\", name=\"Dense_OP\")])\n",
    "#print(model.weights)\n",
    "model.compile(loss='categorical_crossentropy', \n",
    "              optimizer='adam', \n",
    "              metrics=['accuracy'])\n",
    "model.summary()"
   ]
  },
  {
   "cell_type": "code",
   "execution_count": 14,
   "metadata": {
    "scrolled": true
   },
   "outputs": [
    {
     "name": "stdout",
     "output_type": "stream",
     "text": [
      "Train on 33308 samples, validate on 8328 samples\n",
      "Epoch 1/200\n",
      "33308/33308 [==============================] - 3s 84us/sample - loss: 0.4367 - acc: 0.8466 - val_loss: 1.1621 - val_acc: 0.7368\n",
      "Epoch 2/200\n",
      "33308/33308 [==============================] - 2s 64us/sample - loss: 0.2968 - acc: 0.8935 - val_loss: 1.1208 - val_acc: 0.5518\n",
      "Epoch 3/200\n",
      "33308/33308 [==============================] - 2s 65us/sample - loss: 0.2483 - acc: 0.9119 - val_loss: 0.9148 - val_acc: 0.5859\n",
      "Epoch 4/200\n",
      "33308/33308 [==============================] - 2s 68us/sample - loss: 0.2238 - acc: 0.9220 - val_loss: 0.9643 - val_acc: 0.7190\n",
      "Epoch 5/200\n",
      "33308/33308 [==============================] - 2s 67us/sample - loss: 0.1898 - acc: 0.9330 - val_loss: 0.3958 - val_acc: 0.8870\n",
      "Epoch 6/200\n",
      "33308/33308 [==============================] - 2s 68us/sample - loss: 0.1762 - acc: 0.9389 - val_loss: 0.1205 - val_acc: 0.9558\n",
      "Epoch 7/200\n",
      "33308/33308 [==============================] - 2s 68us/sample - loss: 0.1454 - acc: 0.9493 - val_loss: 0.0801 - val_acc: 0.9759\n",
      "Epoch 8/200\n",
      "33308/33308 [==============================] - 2s 67us/sample - loss: 0.1289 - acc: 0.9552 - val_loss: 0.1861 - val_acc: 0.9316\n",
      "Epoch 9/200\n",
      "33308/33308 [==============================] - 2s 67us/sample - loss: 0.1244 - acc: 0.9568 - val_loss: 0.7095 - val_acc: 0.8097\n",
      "Epoch 10/200\n",
      "33308/33308 [==============================] - 2s 63us/sample - loss: 0.1131 - acc: 0.9611 - val_loss: 0.0817 - val_acc: 0.9748\n",
      "Epoch 11/200\n",
      "33308/33308 [==============================] - 2s 64us/sample - loss: 0.1042 - acc: 0.9640 - val_loss: 0.1303 - val_acc: 0.9549\n",
      "Epoch 12/200\n",
      "33308/33308 [==============================] - 2s 65us/sample - loss: 0.1007 - acc: 0.9642 - val_loss: 0.1242 - val_acc: 0.9574\n",
      "Epoch 13/200\n",
      "33308/33308 [==============================] - 2s 66us/sample - loss: 0.0968 - acc: 0.9657 - val_loss: 0.5602 - val_acc: 0.8392\n",
      "Epoch 14/200\n",
      "33308/33308 [==============================] - 2s 68us/sample - loss: 0.0959 - acc: 0.9683 - val_loss: 0.5277 - val_acc: 0.7917\n",
      "Epoch 15/200\n",
      "33308/33308 [==============================] - 2s 67us/sample - loss: 0.0908 - acc: 0.9687 - val_loss: 0.3303 - val_acc: 0.8989\n",
      "Epoch 16/200\n",
      "33308/33308 [==============================] - 2s 68us/sample - loss: 0.0952 - acc: 0.9682 - val_loss: 0.3964 - val_acc: 0.8595\n",
      "Epoch 17/200\n",
      "33308/33308 [==============================] - 2s 67us/sample - loss: 0.1109 - acc: 0.9615 - val_loss: 0.1227 - val_acc: 0.9630\n",
      "Epoch 18/200\n",
      "33308/33308 [==============================] - 2s 68us/sample - loss: 0.0902 - acc: 0.9685 - val_loss: 0.2922 - val_acc: 0.9123\n",
      "Epoch 19/200\n",
      "33308/33308 [==============================] - 2s 67us/sample - loss: 0.0847 - acc: 0.9711 - val_loss: 0.1911 - val_acc: 0.9266\n",
      "Epoch 20/200\n",
      "33308/33308 [==============================] - 2s 67us/sample - loss: 0.0772 - acc: 0.9725 - val_loss: 0.1131 - val_acc: 0.9595\n",
      "Epoch 21/200\n",
      "33308/33308 [==============================] - 2s 68us/sample - loss: 0.0816 - acc: 0.9725 - val_loss: 0.1539 - val_acc: 0.9438\n",
      "Epoch 22/200\n",
      "33308/33308 [==============================] - 2s 67us/sample - loss: 0.0755 - acc: 0.9754 - val_loss: 0.1037 - val_acc: 0.9700\n",
      "Epoch 23/200\n",
      "33308/33308 [==============================] - 2s 67us/sample - loss: 0.0736 - acc: 0.9754 - val_loss: 0.0679 - val_acc: 0.9777\n",
      "Epoch 24/200\n",
      "33308/33308 [==============================] - 2s 67us/sample - loss: 0.0664 - acc: 0.9777 - val_loss: 0.3431 - val_acc: 0.9242\n",
      "Epoch 25/200\n",
      "33308/33308 [==============================] - 2s 67us/sample - loss: 0.0726 - acc: 0.9758 - val_loss: 0.0662 - val_acc: 0.9796\n",
      "Epoch 26/200\n",
      "33308/33308 [==============================] - 2s 68us/sample - loss: 0.0673 - acc: 0.9782 - val_loss: 0.3430 - val_acc: 0.8904\n",
      "Epoch 27/200\n",
      "33308/33308 [==============================] - 2s 68us/sample - loss: 0.0665 - acc: 0.9769 - val_loss: 0.1130 - val_acc: 0.9603\n",
      "Epoch 28/200\n",
      "33308/33308 [==============================] - 2s 67us/sample - loss: 0.0598 - acc: 0.9799 - val_loss: 0.1311 - val_acc: 0.9482\n",
      "Epoch 29/200\n",
      "33308/33308 [==============================] - 2s 69us/sample - loss: 0.0672 - acc: 0.9781 - val_loss: 0.2567 - val_acc: 0.9374\n",
      "Epoch 30/200\n",
      "33308/33308 [==============================] - 2s 70us/sample - loss: 0.0622 - acc: 0.9790 - val_loss: 0.1341 - val_acc: 0.9496\n",
      "Epoch 31/200\n",
      "33308/33308 [==============================] - 2s 66us/sample - loss: 0.0682 - acc: 0.9779 - val_loss: 0.0455 - val_acc: 0.9868\n",
      "Epoch 32/200\n",
      "33308/33308 [==============================] - 2s 64us/sample - loss: 0.0583 - acc: 0.9806 - val_loss: 0.1119 - val_acc: 0.9643\n",
      "Epoch 33/200\n",
      "33308/33308 [==============================] - 2s 67us/sample - loss: 0.0588 - acc: 0.9795 - val_loss: 0.0588 - val_acc: 0.9796\n",
      "Epoch 34/200\n",
      "33308/33308 [==============================] - 2s 71us/sample - loss: 0.0625 - acc: 0.9808 - val_loss: 0.1011 - val_acc: 0.9688\n",
      "Epoch 35/200\n",
      "33308/33308 [==============================] - 2s 64us/sample - loss: 0.0596 - acc: 0.9800 - val_loss: 0.0410 - val_acc: 0.9875\n",
      "Epoch 36/200\n",
      "33308/33308 [==============================] - 2s 63us/sample - loss: 0.0534 - acc: 0.9821 - val_loss: 0.1304 - val_acc: 0.9568\n",
      "Epoch 37/200\n",
      "33308/33308 [==============================] - 2s 66us/sample - loss: 0.0550 - acc: 0.9811 - val_loss: 0.0829 - val_acc: 0.9748\n",
      "Epoch 38/200\n",
      "33308/33308 [==============================] - 2s 67us/sample - loss: 0.0593 - acc: 0.9809 - val_loss: 0.0568 - val_acc: 0.9831\n",
      "Epoch 39/200\n",
      "33308/33308 [==============================] - 2s 67us/sample - loss: 0.0545 - acc: 0.9817 - val_loss: 0.1275 - val_acc: 0.9569\n",
      "Epoch 40/200\n",
      "33308/33308 [==============================] - 2s 64us/sample - loss: 0.0543 - acc: 0.9823 - val_loss: 0.1024 - val_acc: 0.9687\n",
      "Epoch 41/200\n",
      "33308/33308 [==============================] - 2s 66us/sample - loss: 0.0490 - acc: 0.9833 - val_loss: 0.1055 - val_acc: 0.9679\n",
      "Epoch 42/200\n",
      "33308/33308 [==============================] - 2s 67us/sample - loss: 0.0485 - acc: 0.9841 - val_loss: 0.0352 - val_acc: 0.9898\n",
      "Epoch 43/200\n",
      "33308/33308 [==============================] - 2s 67us/sample - loss: 0.0491 - acc: 0.9825 - val_loss: 0.1647 - val_acc: 0.9487\n",
      "Epoch 44/200\n",
      "33308/33308 [==============================] - 2s 68us/sample - loss: 0.0546 - acc: 0.9811 - val_loss: 0.2637 - val_acc: 0.9164\n",
      "Epoch 45/200\n",
      "33308/33308 [==============================] - 2s 67us/sample - loss: 0.0560 - acc: 0.9816 - val_loss: 0.1551 - val_acc: 0.9493\n",
      "Epoch 46/200\n",
      "33308/33308 [==============================] - 2s 67us/sample - loss: 0.0556 - acc: 0.9822 - val_loss: 0.2617 - val_acc: 0.9414\n",
      "Epoch 47/200\n",
      "33308/33308 [==============================] - 2s 68us/sample - loss: 0.0447 - acc: 0.9848 - val_loss: 0.1858 - val_acc: 0.9418\n",
      "Epoch 48/200\n",
      "33308/33308 [==============================] - 2s 67us/sample - loss: 0.0475 - acc: 0.9842 - val_loss: 0.1794 - val_acc: 0.9530\n",
      "Epoch 49/200\n",
      "33308/33308 [==============================] - 2s 68us/sample - loss: 0.0513 - acc: 0.9830 - val_loss: 0.0327 - val_acc: 0.9906\n",
      "Epoch 50/200\n",
      "33308/33308 [==============================] - 2s 67us/sample - loss: 0.0467 - acc: 0.9845 - val_loss: 0.2876 - val_acc: 0.9065\n",
      "Epoch 51/200\n",
      "33308/33308 [==============================] - 2s 67us/sample - loss: 0.0469 - acc: 0.9835 - val_loss: 0.1922 - val_acc: 0.9171\n",
      "Epoch 52/200\n",
      "33308/33308 [==============================] - 2s 67us/sample - loss: 0.0478 - acc: 0.9844 - val_loss: 0.1586 - val_acc: 0.9600\n",
      "Epoch 53/200\n",
      "33308/33308 [==============================] - 2s 67us/sample - loss: 0.0521 - acc: 0.9836 - val_loss: 0.0387 - val_acc: 0.9879\n",
      "Epoch 54/200\n",
      "33308/33308 [==============================] - 2s 67us/sample - loss: 0.0439 - acc: 0.9858 - val_loss: 0.0385 - val_acc: 0.9870\n",
      "Epoch 55/200\n",
      "33308/33308 [==============================] - 2s 67us/sample - loss: 0.0558 - acc: 0.9822 - val_loss: 0.0545 - val_acc: 0.9832\n",
      "Epoch 56/200\n",
      "33308/33308 [==============================] - 2s 67us/sample - loss: 0.0509 - acc: 0.9828 - val_loss: 0.1917 - val_acc: 0.9449\n",
      "Epoch 57/200\n",
      "33308/33308 [==============================] - 2s 67us/sample - loss: 0.0440 - acc: 0.9854 - val_loss: 0.0511 - val_acc: 0.9823\n",
      "Epoch 58/200\n",
      "33308/33308 [==============================] - 2s 66us/sample - loss: 0.0438 - acc: 0.9856 - val_loss: 0.1320 - val_acc: 0.9574\n"
     ]
    },
    {
     "name": "stdout",
     "output_type": "stream",
     "text": [
      "Epoch 59/200\n",
      "33308/33308 [==============================] - 2s 67us/sample - loss: 0.0433 - acc: 0.9854 - val_loss: 0.1313 - val_acc: 0.9657\n",
      "Epoch 60/200\n",
      "33308/33308 [==============================] - 2s 67us/sample - loss: 0.0445 - acc: 0.9849 - val_loss: 0.0577 - val_acc: 0.9825\n",
      "Epoch 61/200\n",
      "33308/33308 [==============================] - 2s 67us/sample - loss: 0.0437 - acc: 0.9846 - val_loss: 0.1074 - val_acc: 0.9655\n",
      "Epoch 62/200\n",
      "33308/33308 [==============================] - 2s 67us/sample - loss: 0.0461 - acc: 0.9853 - val_loss: 0.1677 - val_acc: 0.9470\n",
      "Epoch 63/200\n",
      "33308/33308 [==============================] - 2s 67us/sample - loss: 0.0436 - acc: 0.9859 - val_loss: 0.0585 - val_acc: 0.9828\n",
      "Epoch 64/200\n",
      "33308/33308 [==============================] - 2s 66us/sample - loss: 0.0399 - acc: 0.9877 - val_loss: 0.0398 - val_acc: 0.9881\n",
      "Epoch 65/200\n",
      "33308/33308 [==============================] - 2s 67us/sample - loss: 0.0392 - acc: 0.9870 - val_loss: 0.0677 - val_acc: 0.9787\n",
      "Epoch 66/200\n",
      "33308/33308 [==============================] - 2s 68us/sample - loss: 0.0343 - acc: 0.9890 - val_loss: 0.0537 - val_acc: 0.9844\n",
      "Epoch 67/200\n",
      "33308/33308 [==============================] - 2s 67us/sample - loss: 0.0494 - acc: 0.9841 - val_loss: 0.0907 - val_acc: 0.9715\n",
      "Epoch 68/200\n",
      "33308/33308 [==============================] - 2s 68us/sample - loss: 0.0490 - acc: 0.9847 - val_loss: 0.0445 - val_acc: 0.9882\n",
      "Epoch 69/200\n",
      "33308/33308 [==============================] - 2s 67us/sample - loss: 0.0346 - acc: 0.9881 - val_loss: 0.1575 - val_acc: 0.9579\n",
      "Epoch 70/200\n",
      "33308/33308 [==============================] - 2s 68us/sample - loss: 0.0411 - acc: 0.9868 - val_loss: 0.0586 - val_acc: 0.9814\n",
      "Epoch 71/200\n",
      "33308/33308 [==============================] - 2s 67us/sample - loss: 0.0469 - acc: 0.9842 - val_loss: 0.0459 - val_acc: 0.9867\n",
      "Epoch 72/200\n",
      "33308/33308 [==============================] - 2s 68us/sample - loss: 0.0397 - acc: 0.9870 - val_loss: 0.0864 - val_acc: 0.9750\n",
      "Epoch 73/200\n",
      "33308/33308 [==============================] - 2s 68us/sample - loss: 0.0433 - acc: 0.9868 - val_loss: 0.0427 - val_acc: 0.9875\n",
      "Epoch 74/200\n",
      "33308/33308 [==============================] - 2s 68us/sample - loss: 0.0477 - acc: 0.9841 - val_loss: 0.2423 - val_acc: 0.9254\n",
      "Epoch 75/200\n",
      "33308/33308 [==============================] - 2s 69us/sample - loss: 0.0397 - acc: 0.9867 - val_loss: 0.0403 - val_acc: 0.9917\n",
      "Epoch 76/200\n",
      "33308/33308 [==============================] - 2s 69us/sample - loss: 0.0398 - acc: 0.9869 - val_loss: 0.0750 - val_acc: 0.9790\n",
      "Epoch 77/200\n",
      "33308/33308 [==============================] - 2s 65us/sample - loss: 0.0346 - acc: 0.9889 - val_loss: 0.4043 - val_acc: 0.8864\n",
      "Epoch 78/200\n",
      "33308/33308 [==============================] - 2s 68us/sample - loss: 0.0335 - acc: 0.9890 - val_loss: 0.0618 - val_acc: 0.9810\n",
      "Epoch 79/200\n",
      "33308/33308 [==============================] - 2s 69us/sample - loss: 0.0405 - acc: 0.9870 - val_loss: 0.0662 - val_acc: 0.9860\n",
      "Epoch 80/200\n",
      "33308/33308 [==============================] - 2s 68us/sample - loss: 0.0372 - acc: 0.9879 - val_loss: 0.0426 - val_acc: 0.9879\n",
      "Epoch 81/200\n",
      "33308/33308 [==============================] - 2s 69us/sample - loss: 0.0386 - acc: 0.9875 - val_loss: 0.0720 - val_acc: 0.9760\n",
      "Epoch 82/200\n",
      "33308/33308 [==============================] - 2s 64us/sample - loss: 0.0380 - acc: 0.9874 - val_loss: 0.5450 - val_acc: 0.8673\n",
      "Epoch 83/200\n",
      "33308/33308 [==============================] - 2s 66us/sample - loss: 0.0365 - acc: 0.9891 - val_loss: 0.0400 - val_acc: 0.9906\n",
      "Epoch 84/200\n",
      "33308/33308 [==============================] - 2s 65us/sample - loss: 0.0332 - acc: 0.9897 - val_loss: 0.0410 - val_acc: 0.9870\n",
      "Epoch 85/200\n",
      "33308/33308 [==============================] - 2s 65us/sample - loss: 0.0404 - acc: 0.9877 - val_loss: 0.0563 - val_acc: 0.9838\n",
      "Epoch 86/200\n",
      "33308/33308 [==============================] - 2s 72us/sample - loss: 0.0331 - acc: 0.9888 - val_loss: 0.5541 - val_acc: 0.8015\n",
      "Epoch 87/200\n",
      "33308/33308 [==============================] - 2s 75us/sample - loss: 0.0343 - acc: 0.9887 - val_loss: 3.9027 - val_acc: 0.7813\n",
      "Epoch 88/200\n",
      "33308/33308 [==============================] - 3s 78us/sample - loss: 0.0395 - acc: 0.9870 - val_loss: 0.1488 - val_acc: 0.9589\n",
      "Epoch 89/200\n",
      "33308/33308 [==============================] - 3s 76us/sample - loss: 0.0350 - acc: 0.9879 - val_loss: 0.1777 - val_acc: 0.9612\n",
      "Epoch 90/200\n",
      "33308/33308 [==============================] - 2s 70us/sample - loss: 0.0491 - acc: 0.9853 - val_loss: 0.0639 - val_acc: 0.9792\n",
      "Epoch 91/200\n",
      "33308/33308 [==============================] - 2s 68us/sample - loss: 0.0402 - acc: 0.9871 - val_loss: 0.0471 - val_acc: 0.9876\n",
      "Epoch 92/200\n",
      "33308/33308 [==============================] - 2s 69us/sample - loss: 0.0292 - acc: 0.9908 - val_loss: 0.0859 - val_acc: 0.9778\n",
      "Epoch 93/200\n",
      "33308/33308 [==============================] - 2s 69us/sample - loss: 0.0320 - acc: 0.9900 - val_loss: 0.0434 - val_acc: 0.9880\n",
      "Epoch 94/200\n",
      "33308/33308 [==============================] - 2s 68us/sample - loss: 0.0340 - acc: 0.9895 - val_loss: 0.0666 - val_acc: 0.9834\n",
      "Epoch 95/200\n",
      "33308/33308 [==============================] - 2s 68us/sample - loss: 0.0317 - acc: 0.9901 - val_loss: 0.0764 - val_acc: 0.9755\n",
      "Epoch 96/200\n",
      "33308/33308 [==============================] - 2s 68us/sample - loss: 0.0374 - acc: 0.9879 - val_loss: 0.0539 - val_acc: 0.9837\n",
      "Epoch 97/200\n",
      "33308/33308 [==============================] - 2s 68us/sample - loss: 0.0311 - acc: 0.9900 - val_loss: 0.0768 - val_acc: 0.9848\n",
      "Epoch 98/200\n",
      "33308/33308 [==============================] - 2s 68us/sample - loss: 0.0334 - acc: 0.9892 - val_loss: 0.0569 - val_acc: 0.9941\n",
      "Epoch 99/200\n",
      "33308/33308 [==============================] - 2s 68us/sample - loss: 0.0294 - acc: 0.9908 - val_loss: 0.0931 - val_acc: 0.9822\n",
      "Epoch 100/200\n",
      "33308/33308 [==============================] - 2s 70us/sample - loss: 0.0316 - acc: 0.9900 - val_loss: 0.0381 - val_acc: 0.9905\n",
      "Epoch 101/200\n",
      "33308/33308 [==============================] - 2s 68us/sample - loss: 0.0371 - acc: 0.9885 - val_loss: 0.0497 - val_acc: 0.9874\n",
      "Epoch 102/200\n",
      "33308/33308 [==============================] - 2s 64us/sample - loss: 0.0336 - acc: 0.9895 - val_loss: 0.1341 - val_acc: 0.9628\n",
      "Epoch 103/200\n",
      "33308/33308 [==============================] - 2s 67us/sample - loss: 0.0396 - acc: 0.9883 - val_loss: 0.3225 - val_acc: 0.9394\n",
      "Epoch 104/200\n",
      "33308/33308 [==============================] - 2s 68us/sample - loss: 0.0356 - acc: 0.9894 - val_loss: 0.0466 - val_acc: 0.9861\n",
      "Epoch 105/200\n",
      "33308/33308 [==============================] - 2s 67us/sample - loss: 0.0338 - acc: 0.9895 - val_loss: 0.0318 - val_acc: 0.9930\n",
      "Epoch 106/200\n",
      "33308/33308 [==============================] - 2s 68us/sample - loss: 0.0305 - acc: 0.9905 - val_loss: 0.1775 - val_acc: 0.9631\n",
      "Epoch 107/200\n",
      "33308/33308 [==============================] - 2s 68us/sample - loss: 0.0377 - acc: 0.9884 - val_loss: 0.0746 - val_acc: 0.9870\n",
      "Epoch 108/200\n",
      "33308/33308 [==============================] - 2s 68us/sample - loss: 0.0343 - acc: 0.9899 - val_loss: 0.0385 - val_acc: 0.9873\n",
      "Epoch 109/200\n",
      "33308/33308 [==============================] - 2s 69us/sample - loss: 0.0340 - acc: 0.9889 - val_loss: 0.0461 - val_acc: 0.9880\n",
      "Epoch 110/200\n",
      "33308/33308 [==============================] - 2s 67us/sample - loss: 0.0346 - acc: 0.9891 - val_loss: 0.0564 - val_acc: 0.9920\n",
      "Epoch 111/200\n",
      "33308/33308 [==============================] - 2s 67us/sample - loss: 0.0388 - acc: 0.9880 - val_loss: 0.0306 - val_acc: 0.9928\n",
      "Epoch 112/200\n",
      "33308/33308 [==============================] - 2s 68us/sample - loss: 0.0263 - acc: 0.9915 - val_loss: 0.0393 - val_acc: 0.9887\n",
      "Epoch 113/200\n",
      "33308/33308 [==============================] - 2s 68us/sample - loss: 0.0298 - acc: 0.9901 - val_loss: 0.0751 - val_acc: 0.9844\n",
      "Epoch 114/200\n",
      "33308/33308 [==============================] - 2s 68us/sample - loss: 0.0340 - acc: 0.9899 - val_loss: 0.0480 - val_acc: 0.9876\n",
      "Epoch 115/200\n",
      "33308/33308 [==============================] - 2s 68us/sample - loss: 0.0294 - acc: 0.9895 - val_loss: 0.0583 - val_acc: 0.9917\n",
      "Epoch 116/200\n",
      "33308/33308 [==============================] - 2s 68us/sample - loss: 0.0347 - acc: 0.9894 - val_loss: 1.5032 - val_acc: 0.5953\n"
     ]
    },
    {
     "name": "stdout",
     "output_type": "stream",
     "text": [
      "Epoch 117/200\n",
      "33308/33308 [==============================] - 2s 67us/sample - loss: 0.0274 - acc: 0.9907 - val_loss: 0.1162 - val_acc: 0.9705\n",
      "Epoch 118/200\n",
      "33308/33308 [==============================] - 2s 66us/sample - loss: 0.0297 - acc: 0.9906 - val_loss: 2.1842 - val_acc: 0.8302\n",
      "Epoch 119/200\n",
      "33308/33308 [==============================] - 2s 66us/sample - loss: 0.0347 - acc: 0.9887 - val_loss: 0.0374 - val_acc: 0.9922\n",
      "Epoch 120/200\n",
      "33308/33308 [==============================] - 2s 67us/sample - loss: 0.0303 - acc: 0.9901 - val_loss: 0.2801 - val_acc: 0.9008\n",
      "Epoch 121/200\n",
      "33308/33308 [==============================] - 2s 67us/sample - loss: 0.0378 - acc: 0.9890 - val_loss: 0.0334 - val_acc: 0.9924\n",
      "Epoch 122/200\n",
      "33308/33308 [==============================] - 2s 68us/sample - loss: 0.0361 - acc: 0.9890 - val_loss: 0.0209 - val_acc: 0.9936\n",
      "Epoch 123/200\n",
      "33308/33308 [==============================] - 2s 67us/sample - loss: 0.0312 - acc: 0.9909 - val_loss: 0.0366 - val_acc: 0.9906\n",
      "Epoch 124/200\n",
      "33308/33308 [==============================] - 2s 68us/sample - loss: 0.0389 - acc: 0.9884 - val_loss: 0.0371 - val_acc: 0.9898\n",
      "Epoch 125/200\n",
      "33308/33308 [==============================] - 2s 67us/sample - loss: 0.0335 - acc: 0.9898 - val_loss: 0.0212 - val_acc: 0.9972\n",
      "Epoch 126/200\n",
      "33308/33308 [==============================] - 2s 68us/sample - loss: 0.0301 - acc: 0.9913 - val_loss: 0.1413 - val_acc: 0.9624\n",
      "Epoch 127/200\n",
      "33308/33308 [==============================] - 2s 67us/sample - loss: 0.0296 - acc: 0.9908 - val_loss: 0.0738 - val_acc: 0.9825\n",
      "Epoch 128/200\n",
      "33308/33308 [==============================] - 2s 69us/sample - loss: 0.0300 - acc: 0.9905 - val_loss: 0.1402 - val_acc: 0.9646\n",
      "Epoch 129/200\n",
      "33308/33308 [==============================] - 2s 73us/sample - loss: 0.0298 - acc: 0.9903 - val_loss: 0.0627 - val_acc: 0.9793\n",
      "Epoch 130/200\n",
      "33308/33308 [==============================] - 2s 69us/sample - loss: 0.0302 - acc: 0.9914 - val_loss: 0.0942 - val_acc: 0.9785\n",
      "Epoch 131/200\n",
      "33308/33308 [==============================] - 2s 65us/sample - loss: 0.0405 - acc: 0.9878 - val_loss: 0.1489 - val_acc: 0.9581\n",
      "Epoch 132/200\n",
      "33308/33308 [==============================] - 2s 66us/sample - loss: 0.0342 - acc: 0.9894 - val_loss: 0.2227 - val_acc: 0.9304\n",
      "Epoch 133/200\n",
      "33308/33308 [==============================] - 2s 72us/sample - loss: 0.0362 - acc: 0.9899 - val_loss: 0.0498 - val_acc: 0.9902\n",
      "Epoch 134/200\n",
      "33308/33308 [==============================] - 2s 64us/sample - loss: 0.0249 - acc: 0.9919 - val_loss: 0.0546 - val_acc: 0.9915\n",
      "Epoch 135/200\n",
      "33308/33308 [==============================] - 2s 70us/sample - loss: 0.0276 - acc: 0.9908 - val_loss: 0.0917 - val_acc: 0.9815\n",
      "Epoch 136/200\n",
      "33308/33308 [==============================] - 2s 69us/sample - loss: 0.0290 - acc: 0.9908 - val_loss: 0.0954 - val_acc: 0.9672\n",
      "Epoch 137/200\n",
      "33308/33308 [==============================] - 2s 69us/sample - loss: 0.0312 - acc: 0.9900 - val_loss: 0.1164 - val_acc: 0.9598\n",
      "Epoch 138/200\n",
      "33308/33308 [==============================] - 2s 69us/sample - loss: 0.0254 - acc: 0.9922 - val_loss: 0.0494 - val_acc: 0.9920\n",
      "Epoch 139/200\n",
      "33308/33308 [==============================] - 2s 69us/sample - loss: 0.0308 - acc: 0.9913 - val_loss: 0.0612 - val_acc: 0.9825\n",
      "Epoch 140/200\n",
      "33308/33308 [==============================] - 2s 67us/sample - loss: 0.0284 - acc: 0.9913 - val_loss: 0.0554 - val_acc: 0.9867\n",
      "Epoch 141/200\n",
      "33308/33308 [==============================] - 2s 68us/sample - loss: 0.0324 - acc: 0.9894 - val_loss: 0.0801 - val_acc: 0.9727\n",
      "Epoch 142/200\n",
      "33308/33308 [==============================] - 2s 66us/sample - loss: 0.0282 - acc: 0.9912 - val_loss: 0.0695 - val_acc: 0.9791\n",
      "Epoch 143/200\n",
      "33308/33308 [==============================] - 2s 65us/sample - loss: 0.0260 - acc: 0.9922 - val_loss: 0.0650 - val_acc: 0.9878\n",
      "Epoch 144/200\n",
      "33308/33308 [==============================] - 2s 65us/sample - loss: 0.0358 - acc: 0.9900 - val_loss: 0.0593 - val_acc: 0.9869\n",
      "Epoch 145/200\n",
      "33308/33308 [==============================] - 2s 65us/sample - loss: 0.0319 - acc: 0.9902 - val_loss: 0.0575 - val_acc: 0.9912\n",
      "Epoch 146/200\n",
      "33308/33308 [==============================] - 2s 67us/sample - loss: 0.0219 - acc: 0.9923 - val_loss: 0.0676 - val_acc: 0.9848\n",
      "Epoch 147/200\n",
      "33308/33308 [==============================] - 2s 64us/sample - loss: 0.0328 - acc: 0.9901 - val_loss: 0.0939 - val_acc: 0.9768\n",
      "Epoch 148/200\n",
      "33308/33308 [==============================] - 2s 66us/sample - loss: 0.0335 - acc: 0.9898 - val_loss: 0.0885 - val_acc: 0.9815\n",
      "Epoch 149/200\n",
      "33308/33308 [==============================] - 2s 67us/sample - loss: 0.0260 - acc: 0.9920 - val_loss: 0.0286 - val_acc: 0.9935\n",
      "Epoch 150/200\n",
      "33308/33308 [==============================] - 2s 66us/sample - loss: 0.0272 - acc: 0.9918 - val_loss: 0.0583 - val_acc: 0.9918\n",
      "Epoch 151/200\n",
      "33308/33308 [==============================] - 2s 67us/sample - loss: 0.0297 - acc: 0.9913 - val_loss: 0.0886 - val_acc: 0.9807\n",
      "Epoch 152/200\n",
      "33308/33308 [==============================] - 2s 69us/sample - loss: 0.0319 - acc: 0.9906 - val_loss: 0.1151 - val_acc: 0.9739\n",
      "Epoch 153/200\n",
      "33308/33308 [==============================] - 2s 69us/sample - loss: 0.0277 - acc: 0.9915 - val_loss: 0.4537 - val_acc: 0.8996\n",
      "Epoch 154/200\n",
      "33308/33308 [==============================] - 2s 69us/sample - loss: 0.0252 - acc: 0.9927 - val_loss: 0.0700 - val_acc: 0.9926\n",
      "Epoch 155/200\n",
      "33308/33308 [==============================] - 2s 69us/sample - loss: 0.0259 - acc: 0.9918 - val_loss: 0.1853 - val_acc: 0.9529\n",
      "Epoch 156/200\n",
      "33308/33308 [==============================] - 2s 72us/sample - loss: 0.0346 - acc: 0.9901 - val_loss: 0.0675 - val_acc: 0.9942\n",
      "Epoch 157/200\n",
      "33308/33308 [==============================] - 2s 67us/sample - loss: 0.0275 - acc: 0.9925 - val_loss: 0.0969 - val_acc: 0.9856\n",
      "Epoch 158/200\n",
      "33308/33308 [==============================] - 2s 66us/sample - loss: 0.0278 - acc: 0.9917 - val_loss: 0.0422 - val_acc: 0.9945\n",
      "Epoch 159/200\n",
      "33308/33308 [==============================] - 2s 67us/sample - loss: 0.0245 - acc: 0.9922 - val_loss: 0.0951 - val_acc: 0.9799\n",
      "Epoch 160/200\n",
      "33308/33308 [==============================] - 2s 67us/sample - loss: 0.0322 - acc: 0.9903 - val_loss: 0.0665 - val_acc: 0.9893\n",
      "Epoch 161/200\n",
      "33308/33308 [==============================] - 2s 67us/sample - loss: 0.0337 - acc: 0.9907 - val_loss: 0.0572 - val_acc: 0.9917\n",
      "Epoch 162/200\n",
      "33308/33308 [==============================] - 2s 67us/sample - loss: 0.0300 - acc: 0.9915 - val_loss: 0.0892 - val_acc: 0.9777\n",
      "Epoch 163/200\n",
      "33308/33308 [==============================] - 2s 68us/sample - loss: 0.0213 - acc: 0.9936 - val_loss: 0.1136 - val_acc: 0.9672\n",
      "Epoch 164/200\n",
      "33308/33308 [==============================] - 2s 68us/sample - loss: 0.0320 - acc: 0.9904 - val_loss: 0.0508 - val_acc: 0.9928\n",
      "Epoch 165/200\n",
      "33308/33308 [==============================] - 2s 68us/sample - loss: 0.0257 - acc: 0.9920 - val_loss: 0.0604 - val_acc: 0.9927\n",
      "Epoch 166/200\n",
      "33308/33308 [==============================] - 2s 69us/sample - loss: 0.0256 - acc: 0.9918 - val_loss: 0.0441 - val_acc: 0.9930\n",
      "Epoch 167/200\n",
      "33308/33308 [==============================] - 2s 68us/sample - loss: 0.0338 - acc: 0.9903 - val_loss: 0.0462 - val_acc: 0.9932\n",
      "Epoch 168/200\n",
      "33308/33308 [==============================] - 2s 68us/sample - loss: 0.0280 - acc: 0.9917 - val_loss: 0.0442 - val_acc: 0.9920\n",
      "Epoch 169/200\n",
      "33308/33308 [==============================] - 2s 69us/sample - loss: 0.0282 - acc: 0.9917 - val_loss: 0.0461 - val_acc: 0.9969\n",
      "Epoch 170/200\n",
      "33308/33308 [==============================] - 2s 68us/sample - loss: 0.0272 - acc: 0.9917 - val_loss: 0.0845 - val_acc: 0.9884\n",
      "Epoch 171/200\n",
      "33308/33308 [==============================] - 2s 69us/sample - loss: 0.0261 - acc: 0.9924 - val_loss: 0.1030 - val_acc: 0.9757\n",
      "Epoch 172/200\n",
      "33308/33308 [==============================] - 2s 68us/sample - loss: 0.0240 - acc: 0.9927 - val_loss: 0.0577 - val_acc: 0.9942\n",
      "Epoch 173/200\n",
      "33308/33308 [==============================] - 2s 68us/sample - loss: 0.0312 - acc: 0.9908 - val_loss: 0.0667 - val_acc: 0.9903\n",
      "Epoch 174/200\n",
      "33308/33308 [==============================] - 2s 68us/sample - loss: 0.0219 - acc: 0.9935 - val_loss: 0.0586 - val_acc: 0.9841\n"
     ]
    },
    {
     "name": "stdout",
     "output_type": "stream",
     "text": [
      "Epoch 175/200\n",
      "33308/33308 [==============================] - 2s 67us/sample - loss: 0.0254 - acc: 0.9923 - val_loss: 0.0295 - val_acc: 0.9959\n",
      "Epoch 176/200\n",
      "33308/33308 [==============================] - 2s 68us/sample - loss: 0.0196 - acc: 0.9935 - val_loss: 0.0462 - val_acc: 0.9953\n",
      "Epoch 177/200\n",
      "33308/33308 [==============================] - 2s 67us/sample - loss: 0.0383 - acc: 0.9894 - val_loss: 0.1341 - val_acc: 0.9756\n",
      "Epoch 178/200\n",
      "33308/33308 [==============================] - 2s 67us/sample - loss: 0.0392 - acc: 0.9884 - val_loss: 0.1294 - val_acc: 0.9825\n",
      "Epoch 179/200\n",
      "33308/33308 [==============================] - 2s 68us/sample - loss: 0.0318 - acc: 0.9903 - val_loss: 0.1267 - val_acc: 0.9786\n",
      "Epoch 180/200\n",
      "33308/33308 [==============================] - 2s 68us/sample - loss: 0.0409 - acc: 0.9879 - val_loss: 0.1291 - val_acc: 0.9754\n",
      "Epoch 181/200\n",
      "33308/33308 [==============================] - 2s 68us/sample - loss: 0.0306 - acc: 0.9907 - val_loss: 0.0768 - val_acc: 0.9927\n",
      "Epoch 182/200\n",
      "33308/33308 [==============================] - 2s 68us/sample - loss: 0.0253 - acc: 0.9920 - val_loss: 0.1062 - val_acc: 0.9849\n",
      "Epoch 183/200\n",
      "33308/33308 [==============================] - 2s 68us/sample - loss: 0.0388 - acc: 0.9900 - val_loss: 0.0781 - val_acc: 0.9940\n",
      "Epoch 184/200\n",
      "33308/33308 [==============================] - 2s 68us/sample - loss: 0.0461 - acc: 0.9887 - val_loss: 0.0507 - val_acc: 0.9909\n",
      "Epoch 185/200\n",
      "33308/33308 [==============================] - 2s 74us/sample - loss: 0.0283 - acc: 0.9911 - val_loss: 0.1504 - val_acc: 0.9623\n",
      "Epoch 186/200\n",
      "33308/33308 [==============================] - 2s 72us/sample - loss: 0.0265 - acc: 0.9920 - val_loss: 0.0606 - val_acc: 0.9936\n",
      "Epoch 187/200\n",
      "33308/33308 [==============================] - 2s 71us/sample - loss: 0.0291 - acc: 0.9914 - val_loss: 0.0548 - val_acc: 0.9939\n",
      "Epoch 188/200\n",
      "33308/33308 [==============================] - 2s 65us/sample - loss: 0.0304 - acc: 0.9907 - val_loss: 0.0448 - val_acc: 0.9936\n",
      "Epoch 189/200\n",
      "33308/33308 [==============================] - 2s 67us/sample - loss: 0.0317 - acc: 0.9905 - val_loss: 0.0888 - val_acc: 0.9798\n",
      "Epoch 190/200\n",
      "33308/33308 [==============================] - 2s 68us/sample - loss: 0.0400 - acc: 0.9897 - val_loss: 0.1238 - val_acc: 0.9855\n",
      "Epoch 191/200\n",
      "33308/33308 [==============================] - 2s 69us/sample - loss: 0.0278 - acc: 0.9914 - val_loss: 0.0482 - val_acc: 0.9911\n",
      "Epoch 192/200\n",
      "33308/33308 [==============================] - 2s 69us/sample - loss: 0.0298 - acc: 0.9915 - val_loss: 0.0915 - val_acc: 0.9911\n",
      "Epoch 193/200\n",
      "33308/33308 [==============================] - 2s 69us/sample - loss: 0.0264 - acc: 0.9912 - val_loss: 0.0487 - val_acc: 0.9939\n",
      "Epoch 194/200\n",
      "33308/33308 [==============================] - 2s 69us/sample - loss: 0.0308 - acc: 0.9917 - val_loss: 0.0488 - val_acc: 0.9956\n",
      "Epoch 195/200\n",
      "33308/33308 [==============================] - 2s 68us/sample - loss: 0.0266 - acc: 0.9924 - val_loss: 0.0979 - val_acc: 0.9850\n",
      "Epoch 196/200\n",
      "33308/33308 [==============================] - 2s 68us/sample - loss: 0.0289 - acc: 0.9907 - val_loss: 0.0496 - val_acc: 0.9914\n",
      "Epoch 197/200\n",
      "33308/33308 [==============================] - 2s 69us/sample - loss: 0.0315 - acc: 0.9903 - val_loss: 0.0953 - val_acc: 0.9805\n",
      "Epoch 198/200\n",
      "33308/33308 [==============================] - 2s 68us/sample - loss: 0.0317 - acc: 0.9902 - val_loss: 0.0547 - val_acc: 0.9952\n",
      "Epoch 199/200\n",
      "33308/33308 [==============================] - 2s 68us/sample - loss: 0.0329 - acc: 0.9903 - val_loss: 0.0444 - val_acc: 0.9962\n",
      "Epoch 200/200\n",
      "33308/33308 [==============================] - 2s 68us/sample - loss: 0.0240 - acc: 0.9918 - val_loss: 0.0479 - val_acc: 0.9926\n"
     ]
    }
   ],
   "source": [
    "from sklearn.preprocessing import OneHotEncoder\n",
    "\n",
    "ohe = OneHotEncoder()\n",
    "ohe.fit_transform(df['action'].values.reshape(-1,1))\n",
    "\n",
    "y_train = ohe.transform(df['action'][train_index].values.reshape(-1,1)).toarray()\n",
    "y_test = ohe.transform(df['action'][test_index].values.reshape(-1,1)).toarray()\n",
    "\n",
    "history = model.fit(X_train, y_train, \n",
    "                    validation_data=(X_test, y_test), \n",
    "                    batch_size=64, epochs=200, verbose=1)\n",
    "model.save('ANN', save_format='h5')"
   ]
  },
  {
   "cell_type": "code",
   "execution_count": 15,
   "metadata": {},
   "outputs": [
    {
     "data": {
      "text/html": [
       "<div>\n",
       "<style scoped>\n",
       "    .dataframe tbody tr th:only-of-type {\n",
       "        vertical-align: middle;\n",
       "    }\n",
       "\n",
       "    .dataframe tbody tr th {\n",
       "        vertical-align: top;\n",
       "    }\n",
       "\n",
       "    .dataframe thead tr th {\n",
       "        text-align: left;\n",
       "    }\n",
       "</style>\n",
       "<table border=\"1\" class=\"dataframe\">\n",
       "  <thead>\n",
       "    <tr>\n",
       "      <th></th>\n",
       "      <th>actions1</th>\n",
       "      <th>fall</th>\n",
       "      <th>pushups</th>\n",
       "      <th>sit</th>\n",
       "      <th>walking</th>\n",
       "      <th>walking-with-hands-up</th>\n",
       "    </tr>\n",
       "  </thead>\n",
       "  <tbody>\n",
       "    <tr>\n",
       "      <th>0</th>\n",
       "      <td>2.261376e-31</td>\n",
       "      <td>6.536234e-13</td>\n",
       "      <td>1.000000e+02</td>\n",
       "      <td>2.127489e-23</td>\n",
       "      <td>1.105526e-23</td>\n",
       "      <td>0.000000e+00</td>\n",
       "    </tr>\n",
       "    <tr>\n",
       "      <th>1</th>\n",
       "      <td>3.867153e-09</td>\n",
       "      <td>7.356044e-03</td>\n",
       "      <td>2.290648e-06</td>\n",
       "      <td>2.064067e-02</td>\n",
       "      <td>9.997200e+01</td>\n",
       "      <td>1.531527e-33</td>\n",
       "    </tr>\n",
       "    <tr>\n",
       "      <th>2</th>\n",
       "      <td>2.740914e-04</td>\n",
       "      <td>5.652016e-07</td>\n",
       "      <td>1.831037e-09</td>\n",
       "      <td>4.075802e-04</td>\n",
       "      <td>9.999784e+01</td>\n",
       "      <td>1.478886e-03</td>\n",
       "    </tr>\n",
       "  </tbody>\n",
       "</table>\n",
       "</div>"
      ],
      "text/plain": [
       "       actions1          fall       pushups           sit       walking  \\\n",
       "0  2.261376e-31  6.536234e-13  1.000000e+02  2.127489e-23  1.105526e-23   \n",
       "1  3.867153e-09  7.356044e-03  2.290648e-06  2.064067e-02  9.997200e+01   \n",
       "2  2.740914e-04  5.652016e-07  1.831037e-09  4.075802e-04  9.999784e+01   \n",
       "\n",
       "  walking-with-hands-up  \n",
       "0          0.000000e+00  \n",
       "1          1.531527e-33  \n",
       "2          1.478886e-03  "
      ]
     },
     "execution_count": 15,
     "metadata": {},
     "output_type": "execute_result"
    }
   ],
   "source": [
    "pd.DataFrame(model.predict(df.iloc[[1,40000,10000], :-2])*100, columns=ohe.categories_)"
   ]
  },
  {
   "cell_type": "code",
   "execution_count": 16,
   "metadata": {},
   "outputs": [],
   "source": [
    "with open('OneHotEncoding categories.txt', 'w') as f:\n",
    "    f.write(str(ohe.categories_[0]))"
   ]
  },
  {
   "cell_type": "code",
   "execution_count": 17,
   "metadata": {},
   "outputs": [
    {
     "data": {
      "text/plain": [
       "\"['actions1' 'fall' 'pushups' 'sit' 'walking' 'walking-with-hands-up']\""
      ]
     },
     "execution_count": 17,
     "metadata": {},
     "output_type": "execute_result"
    }
   ],
   "source": [
    "str(ohe.categories_[0])"
   ]
  },
  {
   "cell_type": "code",
   "execution_count": 18,
   "metadata": {},
   "outputs": [
    {
     "name": "stderr",
     "output_type": "stream",
     "text": [
      "\n",
      "Bad key \"text.kerning_factor\" on line 4 in\n",
      "D:\\ProgramData\\Anaconda3\\lib\\site-packages\\matplotlib\\mpl-data\\stylelib\\_classic_test_patch.mplstyle.\n",
      "You probably need to get an updated matplotlibrc file from\n",
      "https://github.com/matplotlib/matplotlib/blob/v3.1.3/matplotlibrc.template\n",
      "or from the matplotlib source distribution\n"
     ]
    },
    {
     "data": {
      "image/png": "[encoded data removed]",
      "text/plain": [
       "<Figure size 432x288 with 1 Axes>"
      ]
     },
     "metadata": {
      "needs_background": "light"
     },
     "output_type": "display_data"
    },
    {
     "data": {
      "image/png": "[encoded data removed]",
      "text/plain": [
       "<Figure size 432x288 with 1 Axes>"
      ]
     },
     "metadata": {
      "needs_background": "light"
     },
     "output_type": "display_data"
    }
   ],
   "source": [
    "import matplotlib.pyplot as plt\n",
    "\n",
    "plt.plot(history.epoch, history.history['acc'])\n",
    "plt.plot(history.epoch, history.history['val_acc'])\n",
    "plt.title('Acc')\n",
    "plt.legend(['Train', \"val\"], loc='upper left')\n",
    "plt.show()\n",
    "\n",
    "plt.plot(history.epoch, history.history['loss'])\n",
    "plt.plot(history.epoch, history.history['val_loss'])\n",
    "plt.title('Loss')\n",
    "plt.legend(['Train', \"val\"], loc='upper left')\n",
    "plt.show()"
   ]
  },
  {
   "cell_type": "code",
   "execution_count": 19,
   "metadata": {},
   "outputs": [
    {
     "data": {
      "text/plain": [
       "array([2], dtype=int64)"
      ]
     },
     "execution_count": 19,
     "metadata": {},
     "output_type": "execute_result"
    }
   ],
   "source": [
    "model.predict_classes(df.iloc[1:2, :-2])"
   ]
  },
  {
   "cell_type": "code",
   "execution_count": 20,
   "metadata": {},
   "outputs": [],
   "source": [
    "df[\"Transformed\"] = df[\"Transformed\"].astype('int64')"
   ]
  },
  {
   "cell_type": "code",
   "execution_count": 21,
   "metadata": {},
   "outputs": [
    {
     "data": {
      "text/plain": [
       "array([[ 268,    0,    0,    0,    0,    0],\n",
       "       [   1, 1056,    7,    6,    5,    1],\n",
       "       [   0,    1, 1449,    1,    1,    0],\n",
       "       [   0,    2,    2, 2042,    3,    0],\n",
       "       [   0,    3,    0,   18, 2846,    1],\n",
       "       [   0,    0,    0,   10,    0,  605]], dtype=int64)"
      ]
     },
     "execution_count": 21,
     "metadata": {},
     "output_type": "execute_result"
    }
   ],
   "source": [
    "confusion_matrix(df['Transformed'][test_index], model.predict_classes(df.iloc[:, :-2])[test_index])"
   ]
  },
  {
   "cell_type": "markdown",
   "metadata": {},
   "source": [
    "# Convolutional neural Network (CNN)"
   ]
  },
  {
   "cell_type": "code",
   "execution_count": 22,
   "metadata": {},
   "outputs": [
    {
     "name": "stderr",
     "output_type": "stream",
     "text": [
      "100%|███████████████████████████████████████████████████████████████████████████████████████████████| 1384/1384 [04:23<00:00,  5.26it/s]\n"
     ]
    },
    {
     "data": {
      "text/plain": [
       "((1384, 120, 34), (1384,))"
      ]
     },
     "execution_count": 22,
     "metadata": {},
     "output_type": "execute_result"
    }
   ],
   "source": [
    "from tqdm import tqdm\n",
    "import scipy.stats as stats\n",
    "\n",
    "X_CNN = []\n",
    "Y_CNN = []\n",
    "# Since its 30 frames per second\n",
    "seconds = 4\n",
    "buffer_size = seconds*30 \n",
    "shift_size = 30\n",
    "\n",
    "# Number of Features = 34\n",
    "for i in tqdm(range(0, (df.shape[0]-buffer_size), shift_size)):\n",
    "    X_frame = np.zeros((buffer_size,34))\n",
    "    for j in range(34):\n",
    "        X_frame[:,j] = df.iloc[:, :-2].values[:,j] [i:i+buffer_size]\n",
    "    label = stats.mode(df.iloc[:, -2].values[i:i+buffer_size])[0][0]\n",
    "    X_CNN.append(X_frame)\n",
    "    Y_CNN.append(label)\n",
    "\n",
    "X_CNN = np.asarray(X_CNN).reshape(-1,buffer_size,34)\n",
    "Y_CNN = np.asarray(Y_CNN)\n",
    "X_CNN.shape, Y_CNN.shape"
   ]
  },
  {
   "cell_type": "code",
   "execution_count": 23,
   "metadata": {},
   "outputs": [
    {
     "data": {
      "text/plain": [
       "(1384, 120, 34, 1)"
      ]
     },
     "execution_count": 23,
     "metadata": {},
     "output_type": "execute_result"
    }
   ],
   "source": [
    "# Necessary modifications for CNN\n",
    "X_CNN = X_CNN.reshape(X_CNN.shape[0],\n",
    "                      X_CNN.shape[1],\n",
    "                      X_CNN.shape[2],\n",
    "                      1)\n",
    "X_CNN.shape"
   ]
  },
  {
   "cell_type": "code",
   "execution_count": 24,
   "metadata": {},
   "outputs": [
    {
     "name": "stdout",
     "output_type": "stream",
     "text": [
      "TRAIN shape :  (1107,) \n",
      "TEST shape :  (277,)\n"
     ]
    }
   ],
   "source": [
    "sss = model_selection.StratifiedShuffleSplit(n_splits=1, test_size=0.2)\n",
    "\n",
    "for train_index, test_index in sss.split(X_CNN, Y_CNN):\n",
    "    print(\"TRAIN shape : \", train_index.shape, \"\\nTEST shape : \", test_index.shape)"
   ]
  },
  {
   "cell_type": "code",
   "execution_count": 25,
   "metadata": {},
   "outputs": [
    {
     "name": "stdout",
     "output_type": "stream",
     "text": [
      "Model: \"sequential_2\"\n",
      "_________________________________________________________________\n",
      "Layer (type)                 Output Shape              Param #   \n",
      "=================================================================\n",
      "Conv_1 (Conv2D)              (None, 119, 33, 64)       320       \n",
      "_________________________________________________________________\n",
      "dropout_4 (Dropout)          (None, 119, 33, 64)       0         \n",
      "_________________________________________________________________\n",
      "Conv_2 (Conv2D)              (None, 118, 32, 64)       16448     \n",
      "_________________________________________________________________\n",
      "flatten (Flatten)            (None, 241664)            0         \n",
      "_________________________________________________________________\n",
      "dropout_5 (Dropout)          (None, 241664)            0         \n",
      "_________________________________________________________________\n",
      "Dense_1 (Dense)              (None, 32)                7733280   \n",
      "_________________________________________________________________\n",
      "Dense_2 (Dense)              (None, 32)                1056      \n",
      "_________________________________________________________________\n",
      "Dense_3 (Dense)              (None, 16)                528       \n",
      "_________________________________________________________________\n",
      "Dense_4 (Dense)              (None, 10)                170       \n",
      "_________________________________________________________________\n",
      "Dense_OP (Dense)             (None, 6)                 66        \n",
      "=================================================================\n",
      "Total params: 7,751,868\n",
      "Trainable params: 7,751,868\n",
      "Non-trainable params: 0\n",
      "_________________________________________________________________\n"
     ]
    }
   ],
   "source": [
    "model_CNN = tf.keras.Sequential([tf.keras.layers.Conv2D(64, kernel_size=(2,2), activation=\"relu\", name=\"Conv_1\",\n",
    "                                                        input_shape=X_CNN[0].shape),\n",
    "                                 tf.keras.layers.Dropout(0.5),\n",
    "                                 tf.keras.layers.Conv2D(64, kernel_size=(2,2), activation=\"relu\", name=\"Conv_2\"),\n",
    "                                 tf.keras.layers.Flatten(),\n",
    "                                 tf.keras.layers.Dropout(0.2),\n",
    "                                 tf.keras.layers.Dense(32, activation=\"relu\", name=\"Dense_1\"),\n",
    "                                 tf.keras.layers.Dense(32, activation=\"relu\", name=\"Dense_2\"),\n",
    "                                 tf.keras.layers.Dense(16, activation=\"relu\", name=\"Dense_3\"),\n",
    "                                 tf.keras.layers.Dense(10, activation=\"relu\", name=\"Dense_4\"),\n",
    "                                 tf.keras.layers.Dense(len(enc.classes_), activation=\"softmax\", name=\"Dense_OP\")])\n",
    "#print(model.weights)\n",
    "model_CNN.compile(loss='categorical_crossentropy', \n",
    "              optimizer='adam', \n",
    "              metrics=['accuracy'])\n",
    "model_CNN.summary()"
   ]
  },
  {
   "cell_type": "code",
   "execution_count": 26,
   "metadata": {
    "scrolled": true
   },
   "outputs": [
    {
     "name": "stdout",
     "output_type": "stream",
     "text": [
      "Train on 1107 samples, validate on 277 samples\n",
      "Epoch 1/200\n",
      "1107/1107 [==============================] - 4s 4ms/sample - loss: 273.7572 - acc: 0.2060 - val_loss: 1.7298 - val_acc: 0.4043\n",
      "Epoch 2/200\n",
      "1107/1107 [==============================] - 1s 473us/sample - loss: 4.5338 - acc: 0.2132 - val_loss: 1.7962 - val_acc: 0.1264\n",
      "Epoch 3/200\n",
      "1107/1107 [==============================] - 1s 474us/sample - loss: 1.7241 - acc: 0.3117 - val_loss: 1.7954 - val_acc: 0.1300\n",
      "Epoch 4/200\n",
      "1107/1107 [==============================] - 1s 473us/sample - loss: 1.6285 - acc: 0.3379 - val_loss: 1.7923 - val_acc: 0.1300\n",
      "Epoch 5/200\n",
      "1107/1107 [==============================] - 1s 475us/sample - loss: 1.6103 - acc: 0.3559 - val_loss: 1.7888 - val_acc: 0.1300\n",
      "Epoch 6/200\n",
      "1107/1107 [==============================] - 1s 483us/sample - loss: 1.6065 - acc: 0.3532 - val_loss: 1.7857 - val_acc: 0.1300\n",
      "Epoch 7/200\n",
      "1107/1107 [==============================] - 1s 481us/sample - loss: 1.5786 - acc: 0.3695 - val_loss: 1.7823 - val_acc: 0.1300\n",
      "Epoch 8/200\n",
      "1107/1107 [==============================] - 1s 473us/sample - loss: 1.4791 - acc: 0.4074 - val_loss: 1.7700 - val_acc: 0.1227\n",
      "Epoch 9/200\n",
      "1107/1107 [==============================] - 1s 473us/sample - loss: 1.2414 - acc: 0.5212 - val_loss: 1.7059 - val_acc: 0.1444\n",
      "Epoch 10/200\n",
      "1107/1107 [==============================] - 1s 476us/sample - loss: 1.1488 - acc: 0.5429 - val_loss: 1.6731 - val_acc: 0.1588\n",
      "Epoch 11/200\n",
      "1107/1107 [==============================] - 1s 478us/sample - loss: 1.1384 - acc: 0.5592 - val_loss: 1.6394 - val_acc: 0.1986\n",
      "Epoch 12/200\n",
      "1107/1107 [==============================] - 1s 473us/sample - loss: 1.0756 - acc: 0.5691 - val_loss: 1.5663 - val_acc: 0.3610\n",
      "Epoch 13/200\n",
      "1107/1107 [==============================] - 1s 476us/sample - loss: 1.0467 - acc: 0.6052 - val_loss: 1.5475 - val_acc: 0.3394\n",
      "Epoch 14/200\n",
      "1107/1107 [==============================] - 1s 474us/sample - loss: 1.0222 - acc: 0.6369 - val_loss: 1.5042 - val_acc: 0.4513\n",
      "Epoch 15/200\n",
      "1107/1107 [==============================] - 1s 479us/sample - loss: 0.9757 - acc: 0.6477 - val_loss: 1.3833 - val_acc: 0.4621\n",
      "Epoch 16/200\n",
      "1107/1107 [==============================] - 1s 478us/sample - loss: 0.9105 - acc: 0.6721 - val_loss: 1.3284 - val_acc: 0.4874\n",
      "Epoch 17/200\n",
      "1107/1107 [==============================] - 1s 474us/sample - loss: 0.9242 - acc: 0.6667 - val_loss: 1.4081 - val_acc: 0.4729\n",
      "Epoch 18/200\n",
      "1107/1107 [==============================] - 1s 475us/sample - loss: 0.8824 - acc: 0.6712 - val_loss: 1.3801 - val_acc: 0.4801\n",
      "Epoch 19/200\n",
      "1107/1107 [==============================] - 1s 476us/sample - loss: 0.8697 - acc: 0.6757 - val_loss: 1.3873 - val_acc: 0.5271\n",
      "Epoch 20/200\n",
      "1107/1107 [==============================] - 1s 475us/sample - loss: 0.8879 - acc: 0.6911 - val_loss: 1.4016 - val_acc: 0.5668\n",
      "Epoch 21/200\n",
      "1107/1107 [==============================] - 1s 474us/sample - loss: 0.8469 - acc: 0.6965 - val_loss: 1.3494 - val_acc: 0.5560\n",
      "Epoch 22/200\n",
      "1107/1107 [==============================] - 1s 474us/sample - loss: 0.8409 - acc: 0.6956 - val_loss: 1.3791 - val_acc: 0.5668\n",
      "Epoch 23/200\n",
      "1107/1107 [==============================] - 1s 482us/sample - loss: 0.8330 - acc: 0.7164 - val_loss: 1.3745 - val_acc: 0.5776\n",
      "Epoch 24/200\n",
      "1107/1107 [==============================] - 1s 475us/sample - loss: 0.7694 - acc: 0.7444 - val_loss: 1.3270 - val_acc: 0.5776\n",
      "Epoch 25/200\n",
      "1107/1107 [==============================] - 1s 477us/sample - loss: 0.7842 - acc: 0.7290 - val_loss: 1.3341 - val_acc: 0.5632\n",
      "Epoch 26/200\n",
      "1107/1107 [==============================] - 1s 475us/sample - loss: 0.8440 - acc: 0.7091 - val_loss: 1.4671 - val_acc: 0.5379\n",
      "Epoch 27/200\n",
      "1107/1107 [==============================] - 1s 476us/sample - loss: 0.8007 - acc: 0.7145 - val_loss: 1.3125 - val_acc: 0.5668\n",
      "Epoch 28/200\n",
      "1107/1107 [==============================] - 1s 475us/sample - loss: 0.7938 - acc: 0.7218 - val_loss: 1.3167 - val_acc: 0.6245\n",
      "Epoch 29/200\n",
      "1107/1107 [==============================] - 1s 479us/sample - loss: 0.7511 - acc: 0.7290 - val_loss: 1.3257 - val_acc: 0.6209\n",
      "Epoch 30/200\n",
      "1107/1107 [==============================] - 1s 477us/sample - loss: 0.7470 - acc: 0.7579 - val_loss: 1.3224 - val_acc: 0.6173\n",
      "Epoch 31/200\n",
      "1107/1107 [==============================] - 1s 474us/sample - loss: 0.7289 - acc: 0.7669 - val_loss: 1.3265 - val_acc: 0.6029\n",
      "Epoch 32/200\n",
      "1107/1107 [==============================] - 1s 476us/sample - loss: 0.7055 - acc: 0.7696 - val_loss: 1.3991 - val_acc: 0.6137\n",
      "Epoch 33/200\n",
      "1107/1107 [==============================] - 1s 479us/sample - loss: 0.7240 - acc: 0.7715 - val_loss: 1.3924 - val_acc: 0.5848\n",
      "Epoch 34/200\n",
      "1107/1107 [==============================] - 1s 478us/sample - loss: 0.7265 - acc: 0.7453 - val_loss: 1.4664 - val_acc: 0.5812\n",
      "Epoch 35/200\n",
      "1107/1107 [==============================] - 1s 477us/sample - loss: 0.7163 - acc: 0.7742 - val_loss: 1.4078 - val_acc: 0.6065\n",
      "Epoch 36/200\n",
      "1107/1107 [==============================] - 1s 477us/sample - loss: 0.6937 - acc: 0.7669 - val_loss: 1.4312 - val_acc: 0.6065\n",
      "Epoch 37/200\n",
      "1107/1107 [==============================] - 1s 477us/sample - loss: 0.6417 - acc: 0.7832 - val_loss: 1.3882 - val_acc: 0.5957\n",
      "Epoch 38/200\n",
      "1107/1107 [==============================] - 1s 480us/sample - loss: 0.6231 - acc: 0.7977 - val_loss: 1.3255 - val_acc: 0.6137\n",
      "Epoch 39/200\n",
      "1107/1107 [==============================] - 1s 476us/sample - loss: 0.6152 - acc: 0.8130 - val_loss: 1.3296 - val_acc: 0.6029\n",
      "Epoch 40/200\n",
      "1107/1107 [==============================] - 1s 482us/sample - loss: 0.6804 - acc: 0.7715 - val_loss: 1.3217 - val_acc: 0.6426\n",
      "Epoch 41/200\n",
      "1107/1107 [==============================] - 1s 475us/sample - loss: 0.6428 - acc: 0.7841 - val_loss: 1.3354 - val_acc: 0.6282\n",
      "Epoch 42/200\n",
      "1107/1107 [==============================] - 1s 475us/sample - loss: 0.6047 - acc: 0.8220 - val_loss: 1.3477 - val_acc: 0.6318\n",
      "Epoch 43/200\n",
      "1107/1107 [==============================] - 1s 474us/sample - loss: 0.5808 - acc: 0.8175 - val_loss: 1.3539 - val_acc: 0.6245\n",
      "Epoch 44/200\n",
      "1107/1107 [==============================] - 1s 478us/sample - loss: 0.5768 - acc: 0.8193 - val_loss: 1.4850 - val_acc: 0.6029\n",
      "Epoch 45/200\n",
      "1107/1107 [==============================] - 1s 478us/sample - loss: 0.5435 - acc: 0.8211 - val_loss: 1.4771 - val_acc: 0.6173\n",
      "Epoch 46/200\n",
      "1107/1107 [==============================] - 1s 476us/sample - loss: 0.5146 - acc: 0.8519 - val_loss: 1.3191 - val_acc: 0.6173\n",
      "Epoch 47/200\n",
      "1107/1107 [==============================] - 1s 473us/sample - loss: 0.5347 - acc: 0.8347 - val_loss: 1.4350 - val_acc: 0.6029\n",
      "Epoch 48/200\n",
      "1107/1107 [==============================] - 1s 478us/sample - loss: 0.5065 - acc: 0.8329 - val_loss: 1.3648 - val_acc: 0.5993\n",
      "Epoch 49/200\n",
      "1107/1107 [==============================] - 1s 476us/sample - loss: 0.5099 - acc: 0.8473 - val_loss: 1.5970 - val_acc: 0.5415\n",
      "Epoch 50/200\n",
      "1107/1107 [==============================] - 1s 478us/sample - loss: 0.5570 - acc: 0.8374 - val_loss: 1.8677 - val_acc: 0.5560\n",
      "Epoch 51/200\n",
      "1107/1107 [==============================] - 1s 473us/sample - loss: 0.5583 - acc: 0.8491 - val_loss: 1.3755 - val_acc: 0.5993\n",
      "Epoch 52/200\n",
      "1107/1107 [==============================] - 1s 477us/sample - loss: 0.4713 - acc: 0.8555 - val_loss: 1.5055 - val_acc: 0.5596\n",
      "Epoch 53/200\n",
      "1107/1107 [==============================] - 1s 477us/sample - loss: 0.4766 - acc: 0.8591 - val_loss: 1.4308 - val_acc: 0.5523\n",
      "Epoch 54/200\n",
      "1107/1107 [==============================] - 1s 479us/sample - loss: 0.4891 - acc: 0.8537 - val_loss: 1.5179 - val_acc: 0.5523\n",
      "Epoch 55/200\n",
      "1107/1107 [==============================] - 1s 480us/sample - loss: 0.4779 - acc: 0.8555 - val_loss: 1.5005 - val_acc: 0.5271\n",
      "Epoch 56/200\n",
      "1107/1107 [==============================] - 1s 478us/sample - loss: 0.4463 - acc: 0.8699 - val_loss: 1.4176 - val_acc: 0.5523\n",
      "Epoch 57/200\n",
      "1107/1107 [==============================] - 1s 476us/sample - loss: 0.4242 - acc: 0.8699 - val_loss: 1.5357 - val_acc: 0.5740\n",
      "Epoch 58/200\n",
      "1107/1107 [==============================] - 1s 478us/sample - loss: 0.4376 - acc: 0.8654 - val_loss: 1.4635 - val_acc: 0.5487\n",
      "Epoch 59/200\n"
     ]
    },
    {
     "name": "stdout",
     "output_type": "stream",
     "text": [
      "1107/1107 [==============================] - 1s 478us/sample - loss: 0.3826 - acc: 0.8997 - val_loss: 1.5056 - val_acc: 0.5415\n",
      "Epoch 60/200\n",
      "1107/1107 [==============================] - 1s 476us/sample - loss: 0.4447 - acc: 0.8672 - val_loss: 1.4161 - val_acc: 0.5632\n",
      "Epoch 61/200\n",
      "1107/1107 [==============================] - 1s 475us/sample - loss: 0.4119 - acc: 0.8690 - val_loss: 1.4502 - val_acc: 0.5596\n",
      "Epoch 62/200\n",
      "1107/1107 [==============================] - 1s 480us/sample - loss: 0.3759 - acc: 0.8889 - val_loss: 1.3204 - val_acc: 0.5596\n",
      "Epoch 63/200\n",
      "1107/1107 [==============================] - 1s 478us/sample - loss: 0.3657 - acc: 0.8826 - val_loss: 1.3635 - val_acc: 0.5957\n",
      "Epoch 64/200\n",
      "1107/1107 [==============================] - 1s 480us/sample - loss: 0.4741 - acc: 0.8636 - val_loss: 1.3558 - val_acc: 0.5596\n",
      "Epoch 65/200\n",
      "1107/1107 [==============================] - 1s 475us/sample - loss: 0.3950 - acc: 0.8844 - val_loss: 1.4326 - val_acc: 0.5884\n",
      "Epoch 66/200\n",
      "1107/1107 [==============================] - 1s 478us/sample - loss: 0.3802 - acc: 0.8988 - val_loss: 1.4614 - val_acc: 0.5848\n",
      "Epoch 67/200\n",
      "1107/1107 [==============================] - 1s 477us/sample - loss: 0.4107 - acc: 0.8862 - val_loss: 1.4976 - val_acc: 0.5776\n",
      "Epoch 68/200\n",
      "1107/1107 [==============================] - 1s 477us/sample - loss: 0.3647 - acc: 0.8934 - val_loss: 1.4893 - val_acc: 0.6245\n",
      "Epoch 69/200\n",
      "1107/1107 [==============================] - 1s 475us/sample - loss: 0.3682 - acc: 0.8925 - val_loss: 1.4921 - val_acc: 0.6137\n",
      "Epoch 70/200\n",
      "1107/1107 [==============================] - 1s 480us/sample - loss: 0.3841 - acc: 0.8943 - val_loss: 1.5008 - val_acc: 0.5632\n",
      "Epoch 71/200\n",
      "1107/1107 [==============================] - 1s 475us/sample - loss: 0.3569 - acc: 0.8907 - val_loss: 1.4410 - val_acc: 0.5632\n",
      "Epoch 72/200\n",
      "1107/1107 [==============================] - 1s 479us/sample - loss: 0.3509 - acc: 0.8952 - val_loss: 1.3170 - val_acc: 0.6426\n",
      "Epoch 73/200\n",
      "1107/1107 [==============================] - 1s 479us/sample - loss: 0.3139 - acc: 0.9051 - val_loss: 1.4697 - val_acc: 0.5776\n",
      "Epoch 74/200\n",
      "1107/1107 [==============================] - 1s 478us/sample - loss: 0.2824 - acc: 0.9133 - val_loss: 1.4708 - val_acc: 0.5632\n",
      "Epoch 75/200\n",
      "1107/1107 [==============================] - 1s 476us/sample - loss: 0.3697 - acc: 0.8979 - val_loss: 1.3190 - val_acc: 0.6101\n",
      "Epoch 76/200\n",
      "1107/1107 [==============================] - 1s 478us/sample - loss: 0.3563 - acc: 0.8844 - val_loss: 1.4833 - val_acc: 0.5415\n",
      "Epoch 77/200\n",
      "1107/1107 [==============================] - 1s 477us/sample - loss: 0.3181 - acc: 0.9079 - val_loss: 1.5233 - val_acc: 0.5560\n",
      "Epoch 78/200\n",
      "1107/1107 [==============================] - 1s 478us/sample - loss: 0.3203 - acc: 0.8988 - val_loss: 1.5290 - val_acc: 0.5812\n",
      "Epoch 79/200\n",
      "1107/1107 [==============================] - 1s 477us/sample - loss: 0.3018 - acc: 0.9051 - val_loss: 1.4092 - val_acc: 0.5740\n",
      "Epoch 80/200\n",
      "1107/1107 [==============================] - 1s 478us/sample - loss: 0.3119 - acc: 0.9061 - val_loss: 1.4666 - val_acc: 0.5596\n",
      "Epoch 81/200\n",
      "1107/1107 [==============================] - 1s 480us/sample - loss: 0.4171 - acc: 0.8455 - val_loss: 1.6995 - val_acc: 0.5921\n",
      "Epoch 82/200\n",
      "1107/1107 [==============================] - 1s 480us/sample - loss: 0.3908 - acc: 0.8943 - val_loss: 1.5754 - val_acc: 0.5812\n",
      "Epoch 83/200\n",
      "1107/1107 [==============================] - 1s 478us/sample - loss: 0.3129 - acc: 0.9042 - val_loss: 1.1795 - val_acc: 0.6426\n",
      "Epoch 84/200\n",
      "1107/1107 [==============================] - 1s 477us/sample - loss: 0.3633 - acc: 0.9042 - val_loss: 1.3295 - val_acc: 0.6318\n",
      "Epoch 85/200\n",
      "1107/1107 [==============================] - 1s 478us/sample - loss: 0.3139 - acc: 0.9042 - val_loss: 1.5552 - val_acc: 0.5957\n",
      "Epoch 86/200\n",
      "1107/1107 [==============================] - 1s 478us/sample - loss: 0.3647 - acc: 0.8943 - val_loss: 1.4992 - val_acc: 0.6137\n",
      "Epoch 87/200\n",
      "1107/1107 [==============================] - 1s 477us/sample - loss: 0.3178 - acc: 0.8997 - val_loss: 1.5407 - val_acc: 0.5379\n",
      "Epoch 88/200\n",
      "1107/1107 [==============================] - 1s 477us/sample - loss: 0.2595 - acc: 0.9205 - val_loss: 1.5104 - val_acc: 0.6137\n",
      "Epoch 89/200\n",
      "1107/1107 [==============================] - 1s 478us/sample - loss: 0.2636 - acc: 0.9205 - val_loss: 1.5017 - val_acc: 0.6029\n",
      "Epoch 90/200\n",
      "1107/1107 [==============================] - 1s 480us/sample - loss: 0.3078 - acc: 0.9187 - val_loss: 1.3818 - val_acc: 0.5704\n",
      "Epoch 91/200\n",
      "1107/1107 [==============================] - 1s 480us/sample - loss: 0.2922 - acc: 0.9250 - val_loss: 1.1312 - val_acc: 0.6679\n",
      "Epoch 92/200\n",
      "1107/1107 [==============================] - 1s 479us/sample - loss: 0.2513 - acc: 0.9277 - val_loss: 1.2414 - val_acc: 0.6390\n",
      "Epoch 93/200\n",
      "1107/1107 [==============================] - 1s 480us/sample - loss: 0.2655 - acc: 0.9187 - val_loss: 1.2259 - val_acc: 0.6751\n",
      "Epoch 94/200\n",
      "1107/1107 [==============================] - 1s 479us/sample - loss: 0.3187 - acc: 0.9196 - val_loss: 1.8461 - val_acc: 0.6715\n",
      "Epoch 95/200\n",
      "1107/1107 [==============================] - 1s 477us/sample - loss: 0.2968 - acc: 0.9205 - val_loss: 1.3436 - val_acc: 0.6715\n",
      "Epoch 96/200\n",
      "1107/1107 [==============================] - 1s 478us/sample - loss: 0.2482 - acc: 0.9205 - val_loss: 1.2585 - val_acc: 0.6859\n",
      "Epoch 97/200\n",
      "1107/1107 [==============================] - 1s 479us/sample - loss: 0.2569 - acc: 0.9178 - val_loss: 1.4271 - val_acc: 0.6715\n",
      "Epoch 98/200\n",
      "1107/1107 [==============================] - 1s 477us/sample - loss: 0.2455 - acc: 0.9232 - val_loss: 1.4784 - val_acc: 0.7004\n",
      "Epoch 99/200\n",
      "1107/1107 [==============================] - 1s 478us/sample - loss: 0.2580 - acc: 0.9286 - val_loss: 1.4737 - val_acc: 0.6606\n",
      "Epoch 100/200\n",
      "1107/1107 [==============================] - 1s 478us/sample - loss: 0.2003 - acc: 0.9350 - val_loss: 1.3442 - val_acc: 0.6570\n",
      "Epoch 101/200\n",
      "1107/1107 [==============================] - 1s 484us/sample - loss: 0.2482 - acc: 0.9313 - val_loss: 1.3460 - val_acc: 0.6643\n",
      "Epoch 102/200\n",
      "1107/1107 [==============================] - 1s 478us/sample - loss: 0.2152 - acc: 0.9268 - val_loss: 1.3561 - val_acc: 0.6643\n",
      "Epoch 103/200\n",
      "1107/1107 [==============================] - 1s 475us/sample - loss: 0.2202 - acc: 0.9422 - val_loss: 1.3619 - val_acc: 0.5957\n",
      "Epoch 104/200\n",
      "1107/1107 [==============================] - 1s 481us/sample - loss: 0.2623 - acc: 0.9223 - val_loss: 1.2842 - val_acc: 0.6426\n",
      "Epoch 105/200\n",
      "1107/1107 [==============================] - 1s 479us/sample - loss: 0.2363 - acc: 0.9304 - val_loss: 1.2553 - val_acc: 0.7329\n",
      "Epoch 106/200\n",
      "1107/1107 [==============================] - 1s 476us/sample - loss: 0.2077 - acc: 0.9413 - val_loss: 1.3830 - val_acc: 0.6968\n",
      "Epoch 107/200\n",
      "1107/1107 [==============================] - 1s 477us/sample - loss: 0.2189 - acc: 0.9386 - val_loss: 1.2967 - val_acc: 0.6715\n",
      "Epoch 108/200\n",
      "1107/1107 [==============================] - 1s 477us/sample - loss: 0.2301 - acc: 0.9350 - val_loss: 1.3597 - val_acc: 0.7220\n",
      "Epoch 109/200\n",
      "1107/1107 [==============================] - 1s 480us/sample - loss: 0.2254 - acc: 0.9322 - val_loss: 1.2853 - val_acc: 0.6895\n",
      "Epoch 110/200\n",
      "1107/1107 [==============================] - 1s 479us/sample - loss: 0.3266 - acc: 0.9106 - val_loss: 1.4405 - val_acc: 0.5126\n",
      "Epoch 111/200\n",
      "1107/1107 [==============================] - 1s 480us/sample - loss: 0.3038 - acc: 0.9124 - val_loss: 1.2749 - val_acc: 0.7256\n",
      "Epoch 112/200\n",
      "1107/1107 [==============================] - 1s 475us/sample - loss: 0.3050 - acc: 0.9070 - val_loss: 1.3023 - val_acc: 0.6931\n",
      "Epoch 113/200\n",
      "1107/1107 [==============================] - 1s 481us/sample - loss: 0.2902 - acc: 0.8961 - val_loss: 1.3648 - val_acc: 0.6859\n",
      "Epoch 114/200\n",
      "1107/1107 [==============================] - 1s 477us/sample - loss: 0.2300 - acc: 0.9395 - val_loss: 1.2267 - val_acc: 0.6606\n",
      "Epoch 115/200\n",
      "1107/1107 [==============================] - 1s 478us/sample - loss: 0.2136 - acc: 0.9313 - val_loss: 1.5922 - val_acc: 0.5957\n",
      "Epoch 116/200\n",
      "1107/1107 [==============================] - 1s 479us/sample - loss: 0.2168 - acc: 0.9286 - val_loss: 1.4498 - val_acc: 0.6209\n",
      "Epoch 117/200\n"
     ]
    },
    {
     "name": "stdout",
     "output_type": "stream",
     "text": [
      "1107/1107 [==============================] - 1s 478us/sample - loss: 0.2314 - acc: 0.9250 - val_loss: 1.5390 - val_acc: 0.6570\n",
      "Epoch 118/200\n",
      "1107/1107 [==============================] - 1s 479us/sample - loss: 0.1718 - acc: 0.9449 - val_loss: 1.5645 - val_acc: 0.7112\n",
      "Epoch 119/200\n",
      "1107/1107 [==============================] - 1s 484us/sample - loss: 0.2003 - acc: 0.9341 - val_loss: 1.5688 - val_acc: 0.6606\n",
      "Epoch 120/200\n",
      "1107/1107 [==============================] - 1s 479us/sample - loss: 0.1723 - acc: 0.9440 - val_loss: 1.1024 - val_acc: 0.7617\n",
      "Epoch 121/200\n",
      "1107/1107 [==============================] - 1s 477us/sample - loss: 0.1785 - acc: 0.9404 - val_loss: 1.4571 - val_acc: 0.6823\n",
      "Epoch 122/200\n",
      "1107/1107 [==============================] - 1s 478us/sample - loss: 0.1687 - acc: 0.9431 - val_loss: 1.4432 - val_acc: 0.7220\n",
      "Epoch 123/200\n",
      "1107/1107 [==============================] - 1s 482us/sample - loss: 0.1499 - acc: 0.9476 - val_loss: 1.3126 - val_acc: 0.7978\n",
      "Epoch 124/200\n",
      "1107/1107 [==============================] - 1s 479us/sample - loss: 0.1642 - acc: 0.9359 - val_loss: 1.6966 - val_acc: 0.6462\n",
      "Epoch 125/200\n",
      "1107/1107 [==============================] - 1s 479us/sample - loss: 0.1684 - acc: 0.9458 - val_loss: 1.9369 - val_acc: 0.5523\n",
      "Epoch 126/200\n",
      "1107/1107 [==============================] - 1s 478us/sample - loss: 0.2100 - acc: 0.9295 - val_loss: 1.5334 - val_acc: 0.7184\n",
      "Epoch 127/200\n",
      "1107/1107 [==============================] - 1s 479us/sample - loss: 0.1744 - acc: 0.9422 - val_loss: 1.6850 - val_acc: 0.6318\n",
      "Epoch 128/200\n",
      "1107/1107 [==============================] - 1s 478us/sample - loss: 0.1607 - acc: 0.9458 - val_loss: 1.5162 - val_acc: 0.7473\n",
      "Epoch 129/200\n",
      "1107/1107 [==============================] - 1s 481us/sample - loss: 0.1547 - acc: 0.9485 - val_loss: 1.5377 - val_acc: 0.6931\n",
      "Epoch 130/200\n",
      "1107/1107 [==============================] - 1s 484us/sample - loss: 0.1646 - acc: 0.9485 - val_loss: 1.7051 - val_acc: 0.7220\n",
      "Epoch 131/200\n",
      "1107/1107 [==============================] - 1s 483us/sample - loss: 0.2181 - acc: 0.9304 - val_loss: 1.3453 - val_acc: 0.8123\n",
      "Epoch 132/200\n",
      "1107/1107 [==============================] - 1s 502us/sample - loss: 0.1678 - acc: 0.9377 - val_loss: 1.3890 - val_acc: 0.7870\n",
      "Epoch 133/200\n",
      "1107/1107 [==============================] - 1s 496us/sample - loss: 0.1600 - acc: 0.9449 - val_loss: 1.4161 - val_acc: 0.7473\n",
      "Epoch 134/200\n",
      "1107/1107 [==============================] - 1s 486us/sample - loss: 0.1977 - acc: 0.9377 - val_loss: 1.3177 - val_acc: 0.7690\n",
      "Epoch 135/200\n",
      "1107/1107 [==============================] - 1s 482us/sample - loss: 0.2635 - acc: 0.9332 - val_loss: 1.7082 - val_acc: 0.6029\n",
      "Epoch 136/200\n",
      "1107/1107 [==============================] - 1s 483us/sample - loss: 0.1978 - acc: 0.9377 - val_loss: 1.6655 - val_acc: 0.7184\n",
      "Epoch 137/200\n",
      "1107/1107 [==============================] - 1s 482us/sample - loss: 0.2110 - acc: 0.9368 - val_loss: 1.5136 - val_acc: 0.7906\n",
      "Epoch 138/200\n",
      "1107/1107 [==============================] - 1s 486us/sample - loss: 0.1941 - acc: 0.9422 - val_loss: 1.8626 - val_acc: 0.6751\n",
      "Epoch 139/200\n",
      "1107/1107 [==============================] - 1s 485us/sample - loss: 0.1635 - acc: 0.9377 - val_loss: 1.6459 - val_acc: 0.7329\n",
      "Epoch 140/200\n",
      "1107/1107 [==============================] - 1s 483us/sample - loss: 0.1382 - acc: 0.9449 - val_loss: 1.7951 - val_acc: 0.7509\n",
      "Epoch 141/200\n",
      "1107/1107 [==============================] - 1s 486us/sample - loss: 0.1805 - acc: 0.9341 - val_loss: 1.4002 - val_acc: 0.7834\n",
      "Epoch 142/200\n",
      "1107/1107 [==============================] - 1s 487us/sample - loss: 0.1735 - acc: 0.9440 - val_loss: 1.4289 - val_acc: 0.8159\n",
      "Epoch 143/200\n",
      "1107/1107 [==============================] - 1s 488us/sample - loss: 0.1496 - acc: 0.9503 - val_loss: 1.4327 - val_acc: 0.8339\n",
      "Epoch 144/200\n",
      "1107/1107 [==============================] - 1s 486us/sample - loss: 0.1330 - acc: 0.9476 - val_loss: 1.5351 - val_acc: 0.8123\n",
      "Epoch 145/200\n",
      "1107/1107 [==============================] - 1s 481us/sample - loss: 0.1149 - acc: 0.9548 - val_loss: 1.6626 - val_acc: 0.8159\n",
      "Epoch 146/200\n",
      "1107/1107 [==============================] - 1s 485us/sample - loss: 0.1352 - acc: 0.9476 - val_loss: 1.4812 - val_acc: 0.7690\n",
      "Epoch 147/200\n",
      "1107/1107 [==============================] - 1s 479us/sample - loss: 0.1471 - acc: 0.9503 - val_loss: 1.4368 - val_acc: 0.7834\n",
      "Epoch 148/200\n",
      "1107/1107 [==============================] - 1s 481us/sample - loss: 0.1653 - acc: 0.9494 - val_loss: 1.6321 - val_acc: 0.8123\n",
      "Epoch 149/200\n",
      "1107/1107 [==============================] - 1s 477us/sample - loss: 0.2048 - acc: 0.9313 - val_loss: 1.7813 - val_acc: 0.8231\n",
      "Epoch 150/200\n",
      "1107/1107 [==============================] - 1s 478us/sample - loss: 0.1973 - acc: 0.9413 - val_loss: 1.5729 - val_acc: 0.8123\n",
      "Epoch 151/200\n",
      "1107/1107 [==============================] - 1s 477us/sample - loss: 0.1679 - acc: 0.9467 - val_loss: 1.3781 - val_acc: 0.8051\n",
      "Epoch 152/200\n",
      "1107/1107 [==============================] - 1s 479us/sample - loss: 0.2569 - acc: 0.9250 - val_loss: 1.7702 - val_acc: 0.7329\n",
      "Epoch 153/200\n",
      "1107/1107 [==============================] - 1s 477us/sample - loss: 0.2300 - acc: 0.9196 - val_loss: 1.6161 - val_acc: 0.7978\n",
      "Epoch 154/200\n",
      "1107/1107 [==============================] - 1s 478us/sample - loss: 0.1547 - acc: 0.9530 - val_loss: 1.4575 - val_acc: 0.7906\n",
      "Epoch 155/200\n",
      "1107/1107 [==============================] - 1s 476us/sample - loss: 0.1706 - acc: 0.9431 - val_loss: 1.4035 - val_acc: 0.8123\n",
      "Epoch 156/200\n",
      "1107/1107 [==============================] - 1s 477us/sample - loss: 0.1389 - acc: 0.9512 - val_loss: 1.2541 - val_acc: 0.8448\n",
      "Epoch 157/200\n",
      "1107/1107 [==============================] - 1s 479us/sample - loss: 0.1431 - acc: 0.9503 - val_loss: 1.3325 - val_acc: 0.8267\n",
      "Epoch 158/200\n",
      "1107/1107 [==============================] - 1s 479us/sample - loss: 0.1023 - acc: 0.9612 - val_loss: 1.5247 - val_acc: 0.7978\n",
      "Epoch 159/200\n",
      "1107/1107 [==============================] - 1s 477us/sample - loss: 0.1800 - acc: 0.9512 - val_loss: 1.8069 - val_acc: 0.6715\n",
      "Epoch 160/200\n",
      "1107/1107 [==============================] - 1s 478us/sample - loss: 0.1342 - acc: 0.9512 - val_loss: 1.4778 - val_acc: 0.7978\n",
      "Epoch 161/200\n",
      "1107/1107 [==============================] - 1s 474us/sample - loss: 0.1215 - acc: 0.9584 - val_loss: 1.5150 - val_acc: 0.8195\n",
      "Epoch 162/200\n",
      "1107/1107 [==============================] - 1s 479us/sample - loss: 0.1236 - acc: 0.9612 - val_loss: 1.5442 - val_acc: 0.7834\n",
      "Epoch 163/200\n",
      "1107/1107 [==============================] - 1s 476us/sample - loss: 0.1113 - acc: 0.9593 - val_loss: 1.8602 - val_acc: 0.7617\n",
      "Epoch 164/200\n",
      "1107/1107 [==============================] - 1s 479us/sample - loss: 0.1236 - acc: 0.9539 - val_loss: 1.6594 - val_acc: 0.8159\n",
      "Epoch 165/200\n",
      "1107/1107 [==============================] - 1s 475us/sample - loss: 0.1794 - acc: 0.9422 - val_loss: 1.4553 - val_acc: 0.7906\n",
      "Epoch 166/200\n",
      "1107/1107 [==============================] - 1s 477us/sample - loss: 0.1855 - acc: 0.9458 - val_loss: 1.6188 - val_acc: 0.8051\n",
      "Epoch 167/200\n",
      "1107/1107 [==============================] - 1s 479us/sample - loss: 0.1521 - acc: 0.9422 - val_loss: 1.8172 - val_acc: 0.6823\n",
      "Epoch 168/200\n",
      "1107/1107 [==============================] - 1s 477us/sample - loss: 0.1749 - acc: 0.9458 - val_loss: 1.5146 - val_acc: 0.8592\n",
      "Epoch 169/200\n",
      "1107/1107 [==============================] - 1s 478us/sample - loss: 0.1841 - acc: 0.9350 - val_loss: 1.3014 - val_acc: 0.8556\n",
      "Epoch 170/200\n",
      "1107/1107 [==============================] - 1s 479us/sample - loss: 0.1486 - acc: 0.9458 - val_loss: 1.1011 - val_acc: 0.8664\n",
      "Epoch 171/200\n",
      "1107/1107 [==============================] - 1s 476us/sample - loss: 0.1702 - acc: 0.9521 - val_loss: 1.1642 - val_acc: 0.8339\n",
      "Epoch 172/200\n",
      "1107/1107 [==============================] - 1s 479us/sample - loss: 0.1536 - acc: 0.9512 - val_loss: 1.4154 - val_acc: 0.8014\n",
      "Epoch 173/200\n",
      "1107/1107 [==============================] - 1s 476us/sample - loss: 0.1190 - acc: 0.9621 - val_loss: 1.5775 - val_acc: 0.7942\n",
      "Epoch 174/200\n",
      "1107/1107 [==============================] - 1s 476us/sample - loss: 0.0991 - acc: 0.9657 - val_loss: 1.5264 - val_acc: 0.8339\n",
      "Epoch 175/200\n"
     ]
    },
    {
     "name": "stdout",
     "output_type": "stream",
     "text": [
      "1107/1107 [==============================] - 1s 475us/sample - loss: 0.0998 - acc: 0.9548 - val_loss: 1.6699 - val_acc: 0.8051\n",
      "Epoch 176/200\n",
      "1107/1107 [==============================] - 1s 480us/sample - loss: 0.1156 - acc: 0.9621 - val_loss: 1.6104 - val_acc: 0.8231\n",
      "Epoch 177/200\n",
      "1107/1107 [==============================] - 1s 477us/sample - loss: 0.1065 - acc: 0.9648 - val_loss: 1.6257 - val_acc: 0.8267\n",
      "Epoch 178/200\n",
      "1107/1107 [==============================] - 1s 479us/sample - loss: 0.1141 - acc: 0.9584 - val_loss: 2.0134 - val_acc: 0.7762\n",
      "Epoch 179/200\n",
      "1107/1107 [==============================] - 1s 477us/sample - loss: 0.1089 - acc: 0.9621 - val_loss: 1.4569 - val_acc: 0.8123\n",
      "Epoch 180/200\n",
      "1107/1107 [==============================] - 1s 477us/sample - loss: 0.0981 - acc: 0.9693 - val_loss: 1.4903 - val_acc: 0.8087\n",
      "Epoch 181/200\n",
      "1107/1107 [==============================] - 1s 478us/sample - loss: 0.0928 - acc: 0.9657 - val_loss: 1.7521 - val_acc: 0.7653\n",
      "Epoch 182/200\n",
      "1107/1107 [==============================] - 1s 478us/sample - loss: 0.1092 - acc: 0.9657 - val_loss: 1.5029 - val_acc: 0.8087\n",
      "Epoch 183/200\n",
      "1107/1107 [==============================] - 1s 476us/sample - loss: 0.1172 - acc: 0.9612 - val_loss: 1.5950 - val_acc: 0.8051\n",
      "Epoch 184/200\n",
      "1107/1107 [==============================] - 1s 480us/sample - loss: 0.1285 - acc: 0.9539 - val_loss: 1.7755 - val_acc: 0.8303\n",
      "Epoch 185/200\n",
      "1107/1107 [==============================] - 1s 475us/sample - loss: 0.0956 - acc: 0.9684 - val_loss: 1.4374 - val_acc: 0.8375\n",
      "Epoch 186/200\n",
      "1107/1107 [==============================] - 1s 479us/sample - loss: 0.1082 - acc: 0.9603 - val_loss: 1.6259 - val_acc: 0.7870\n",
      "Epoch 187/200\n",
      "1107/1107 [==============================] - 1s 477us/sample - loss: 0.2068 - acc: 0.9332 - val_loss: 1.3774 - val_acc: 0.8087\n",
      "Epoch 188/200\n",
      "1107/1107 [==============================] - 1s 477us/sample - loss: 0.1877 - acc: 0.9467 - val_loss: 1.3557 - val_acc: 0.7906\n",
      "Epoch 189/200\n",
      "1107/1107 [==============================] - 1s 478us/sample - loss: 0.1306 - acc: 0.9548 - val_loss: 1.6020 - val_acc: 0.8375\n",
      "Epoch 190/200\n",
      "1107/1107 [==============================] - 1s 478us/sample - loss: 0.0995 - acc: 0.9639 - val_loss: 1.4726 - val_acc: 0.8448\n",
      "Epoch 191/200\n",
      "1107/1107 [==============================] - 1s 478us/sample - loss: 0.0800 - acc: 0.9666 - val_loss: 1.5518 - val_acc: 0.8339\n",
      "Epoch 192/200\n",
      "1107/1107 [==============================] - 1s 477us/sample - loss: 0.1271 - acc: 0.9530 - val_loss: 1.4992 - val_acc: 0.7978\n",
      "Epoch 193/200\n",
      "1107/1107 [==============================] - 1s 478us/sample - loss: 0.1299 - acc: 0.9476 - val_loss: 1.6031 - val_acc: 0.7870\n",
      "Epoch 194/200\n",
      "1107/1107 [==============================] - 1s 478us/sample - loss: 0.1043 - acc: 0.9621 - val_loss: 1.5154 - val_acc: 0.8087\n",
      "Epoch 195/200\n",
      "1107/1107 [==============================] - 1s 481us/sample - loss: 0.0893 - acc: 0.9657 - val_loss: 1.4230 - val_acc: 0.8375\n",
      "Epoch 196/200\n",
      "1107/1107 [==============================] - 1s 477us/sample - loss: 0.0902 - acc: 0.9684 - val_loss: 1.4271 - val_acc: 0.8375\n",
      "Epoch 197/200\n",
      "1107/1107 [==============================] - 1s 481us/sample - loss: 0.0835 - acc: 0.9738 - val_loss: 1.4972 - val_acc: 0.8159\n",
      "Epoch 198/200\n",
      "1107/1107 [==============================] - 1s 478us/sample - loss: 0.0842 - acc: 0.9693 - val_loss: 1.5611 - val_acc: 0.8339\n",
      "Epoch 199/200\n",
      "1107/1107 [==============================] - 1s 478us/sample - loss: 0.1007 - acc: 0.9666 - val_loss: 1.6269 - val_acc: 0.8267\n",
      "Epoch 200/200\n",
      "1107/1107 [==============================] - 1s 478us/sample - loss: 0.0986 - acc: 0.9648 - val_loss: 1.8974 - val_acc: 0.8123\n"
     ]
    }
   ],
   "source": [
    "history_CNN = model_CNN.fit(X_CNN[train_index], ohe.transform(Y_CNN[train_index].reshape(-1,1)).toarray(),\n",
    "                            validation_data=(X_CNN[test_index], ohe.transform(Y_CNN[test_index].reshape(-1,1)).toarray()), \n",
    "                            batch_size=64, epochs=200, verbose=1)\n",
    "model_CNN.save('CNN', save_format='h5')"
   ]
  },
  {
   "cell_type": "code",
   "execution_count": 27,
   "metadata": {},
   "outputs": [
    {
     "data": {
      "image/png": "[encoded data removed]",
      "text/plain": [
       "<Figure size 432x288 with 1 Axes>"
      ]
     },
     "metadata": {
      "needs_background": "light"
     },
     "output_type": "display_data"
    },
    {
     "data": {
      "image/png": "[encoded data removed]",
      "text/plain": [
       "<Figure size 432x288 with 1 Axes>"
      ]
     },
     "metadata": {
      "needs_background": "light"
     },
     "output_type": "display_data"
    }
   ],
   "source": [
    "plt.plot(history_CNN.epoch, history_CNN.history['acc'])\n",
    "plt.plot(history_CNN.epoch, history_CNN.history['val_acc'])\n",
    "plt.title('Acc')\n",
    "plt.legend(['Train', \"val\"], loc='upper left')\n",
    "plt.show()\n",
    "\n",
    "plt.plot(history_CNN.epoch, history_CNN.history['loss'])\n",
    "plt.plot(history_CNN.epoch, history_CNN.history['val_loss'])\n",
    "plt.title('Loss')\n",
    "plt.legend(['Train', \"val\"], loc='upper left')\n",
    "plt.show()"
   ]
  },
  {
   "cell_type": "code",
   "execution_count": null,
   "metadata": {},
   "outputs": [],
   "source": []
  },
  {
   "cell_type": "markdown",
   "metadata": {},
   "source": [
    "# RNN"
   ]
  },
  {
   "cell_type": "code",
   "execution_count": null,
   "metadata": {},
   "outputs": [],
   "source": []
  },
  {
   "cell_type": "code",
   "execution_count": null,
   "metadata": {},
   "outputs": [],
   "source": [
    "from sklearn.metrics import accuracy_score, precision_score, recall_score, f1_score,classification_report \n",
    "print('\\nClassification Report\\n')\n",
    "\n",
    "print('\\nAccuracy of Random Forest Classifier (RFC): {:.2f}\\n'.format(accuracy_score(y_test, ohe.transform(y_pred.reshape(-1,1)).toarray())))    \n",
    "print(classification_report(ohe.transform(y_pred.reshape(-1,1)).toarray(), y_test, target_names=ohe.categories_[0]))\n",
    "\n",
    "print('\\nAccuracy of Artificial Neural Network (ANN): {:.2f}\\n'.format(accuracy_score(df['Transformed'][test_index], model.predict_classes(df.iloc[:, :-2])[test_index])))\n",
    "print(classification_report(df['Transformed'][test_index], model.predict_classes(df.iloc[:, :-2])[test_index], target_names=ohe.categories_[0]))"
   ]
  },
  {
   "cell_type": "code",
   "execution_count": null,
   "metadata": {},
   "outputs": [],
   "source": [
    "df.iloc[1, :-2].values"
   ]
  },
  {
   "cell_type": "code",
   "execution_count": null,
   "metadata": {},
   "outputs": [],
   "source": []
  }
 ],
 "metadata": {
  "kernelspec": {
   "display_name": "Python 3",
   "language": "python",
   "name": "python3"
  },
  "language_info": {
   "codemirror_mode": {
    "name": "ipython",
    "version": 3
   },
   "file_extension": ".py",
   "mimetype": "text/x-python",
   "name": "python",
   "nbconvert_exporter": "python",
   "pygments_lexer": "ipython3",
   "version": "3.7.6"
  }
 },
 "nbformat": 4,
 "nbformat_minor": 4
}
