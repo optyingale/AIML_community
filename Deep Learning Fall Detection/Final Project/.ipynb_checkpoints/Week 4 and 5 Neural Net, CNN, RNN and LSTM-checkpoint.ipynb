{
 "cells": [
  {
   "cell_type": "code",
   "execution_count": 1,
   "metadata": {},
   "outputs": [],
   "source": [
    "import pandas as pd\n",
    "from sklearn import model_selection\n",
    "import numpy as np"
   ]
  },
  {
   "cell_type": "markdown",
   "metadata": {},
   "source": [
    "### Exploration of Dataset"
   ]
  },
  {
   "cell_type": "code",
   "execution_count": 2,
   "metadata": {},
   "outputs": [
    {
     "name": "stdout",
     "output_type": "stream",
     "text": [
      "number of classes =  6\n",
      "names of classes  =  ['walking' 'sit' 'pushups' 'fall' 'walking-with-hands-up' 'actions1']\n",
      "\n",
      "Percentage of each class in the dataset :\n",
      " [34.43654529733884, 24.59890479392833, 17.43923527716399, 12.926313766932463, 7.383033912959938, 3.215966951676434]\n",
      "\n",
      "Each class in the dataset :\n",
      " walking                  14338\n",
      "sit                      10242\n",
      "pushups                   7261\n",
      "fall                      5382\n",
      "walking-with-hands-up     3074\n",
      "actions1                  1339\n",
      "Name: action, dtype: int64\n"
     ]
    }
   ],
   "source": [
    "df = pd.read_csv(\"cumulative.csv\")\n",
    "\n",
    "print('number of classes = ', len(df['action'].value_counts()))\n",
    "print('names of classes  = ', df['action'].value_counts().index.values)\n",
    "print('\\nPercentage of each class in the dataset :\\n', [i/len(df)*100 for i in df['action'].value_counts()])\n",
    "print('\\nEach class in the dataset :\\n', df['action'].value_counts())"
   ]
  },
  {
   "cell_type": "code",
   "execution_count": 3,
   "metadata": {},
   "outputs": [
    {
     "name": "stdout",
     "output_type": "stream",
     "text": [
      "<class 'pandas.core.frame.DataFrame'>\n",
      "RangeIndex: 41636 entries, 0 to 41635\n",
      "Data columns (total 35 columns):\n",
      " #   Column           Non-Null Count  Dtype  \n",
      "---  ------           --------------  -----  \n",
      " 0   nose_x           41636 non-null  float64\n",
      " 1   nose_y           41636 non-null  float64\n",
      " 2   leftEye_x        41636 non-null  float64\n",
      " 3   leftEye_y        41636 non-null  float64\n",
      " 4   rightEye_x       41636 non-null  float64\n",
      " 5   rightEye_y       41636 non-null  float64\n",
      " 6   leftEar_x        41636 non-null  float64\n",
      " 7   leftEar_y        41636 non-null  float64\n",
      " 8   rightEar_x       41636 non-null  float64\n",
      " 9   rightEar_y       41636 non-null  float64\n",
      " 10  leftShoulder_x   41636 non-null  float64\n",
      " 11  leftShoulder_y   41636 non-null  float64\n",
      " 12  rightShoulder_x  41636 non-null  float64\n",
      " 13  rightShoulder_y  41636 non-null  float64\n",
      " 14  leftElbow_x      41636 non-null  float64\n",
      " 15  leftElbow_y      41636 non-null  float64\n",
      " 16  rightElbow_x     41636 non-null  float64\n",
      " 17  rightElbow_y     41636 non-null  float64\n",
      " 18  leftWrist_x      41636 non-null  float64\n",
      " 19  leftWrist_y      41636 non-null  float64\n",
      " 20  rightWrist_x     41636 non-null  float64\n",
      " 21  rightWrist_y     41636 non-null  float64\n",
      " 22  leftHip_x        41636 non-null  float64\n",
      " 23  leftHip_y        41636 non-null  float64\n",
      " 24  rightHip_x       41636 non-null  float64\n",
      " 25  rightHip_y       41636 non-null  float64\n",
      " 26  leftKnee_x       41636 non-null  float64\n",
      " 27  leftKnee_y       41636 non-null  float64\n",
      " 28  rightKnee_x      41636 non-null  float64\n",
      " 29  rightKnee_y      41636 non-null  float64\n",
      " 30  leftAnkle_x      41636 non-null  float64\n",
      " 31  leftAnkle_y      41636 non-null  float64\n",
      " 32  rightAnkle_x     41636 non-null  float64\n",
      " 33  rightAnkle_y     41636 non-null  float64\n",
      " 34  action           41636 non-null  object \n",
      "dtypes: float64(34), object(1)\n",
      "memory usage: 11.1+ MB\n"
     ]
    }
   ],
   "source": [
    "df.info()"
   ]
  },
  {
   "cell_type": "markdown",
   "metadata": {},
   "source": [
    "##### We can see only 6 since there is clash in naming \n",
    "For example there are two videos ending with **\"sit\"** and the above is a result of only unique values"
   ]
  },
  {
   "cell_type": "code",
   "execution_count": 4,
   "metadata": {},
   "outputs": [
    {
     "name": "stdout",
     "output_type": "stream",
     "text": [
      "TRAIN: [25329 20537  1139 ... 35022  8445 25337] TEST: [11065  9010 26676 ... 40370 34525 15994]\n"
     ]
    }
   ],
   "source": [
    "sss = model_selection.StratifiedShuffleSplit(n_splits=1, test_size=0.2)\n",
    "\n",
    "X = df.iloc[:, :-1]\n",
    "y = df.iloc[:, -1]\n",
    "\n",
    "# the for loop is for when we want to see the index of train and test from one or more splits\n",
    "for train_index, test_index in sss.split(X, y):\n",
    "    print(\"TRAIN:\", train_index, \"TEST:\", test_index)\n",
    "    X_train, X_test = X.iloc[train_index], X.iloc[test_index]\n",
    "    y_train, y_test = y[train_index], y[test_index]"
   ]
  },
  {
   "cell_type": "code",
   "execution_count": 5,
   "metadata": {},
   "outputs": [
    {
     "name": "stdout",
     "output_type": "stream",
     "text": [
      "Percentage of each class after split :\n",
      " [34.436171490332654, 24.597694247628198, 17.44025459349105, 12.927825147111804, 7.38261078419599, 3.2154437372403026]\n"
     ]
    }
   ],
   "source": [
    "print('Percentage of each class after split :\\n', [i/len(y_train)*100 for i in y_train.value_counts()])"
   ]
  },
  {
   "cell_type": "markdown",
   "metadata": {},
   "source": [
    "### We can observe that the percentage of class is preserved\n",
    "Moving ahead we could choose to **downsample** the data so all can match with the lowest data we have or **upsample** and create new data so as to match with the highest data sample we have"
   ]
  },
  {
   "cell_type": "markdown",
   "metadata": {},
   "source": [
    "##### The below two blocks of code are to provide a base to compare DL models to ML model (Random Forest)"
   ]
  },
  {
   "cell_type": "markdown",
   "metadata": {},
   "source": [
    "# Random Forest Classifier (RFC)"
   ]
  },
  {
   "cell_type": "code",
   "execution_count": null,
   "metadata": {},
   "outputs": [],
   "source": [
    "# Applying Random Forest\n",
    "\n",
    "from sklearn.model_selection import GridSearchCV\n",
    "from sklearn.ensemble import RandomForestClassifier\n",
    "\n",
    "rfc = RandomForestClassifier(max_features=None, n_jobs=-1, verbose=3,)\n",
    "params = {'criterion' : ['gini', 'entropy'],\n",
    "          'n_estimators' : [10, 100, 1000, 10000]}\n",
    "\n",
    "model = GridSearchCV(rfc, params).fit(X_train, y_train)\n",
    "print('Best estimator = ', model.best_estimator_,'\\nBest score = ',model.best_score_,'\\nBest Params =',model.best_params_)"
   ]
  },
  {
   "cell_type": "code",
   "execution_count": 6,
   "metadata": {},
   "outputs": [
    {
     "name": "stderr",
     "output_type": "stream",
     "text": [
      "[Parallel(n_jobs=12)]: Using backend ThreadingBackend with 12 concurrent workers.\n",
      "[Parallel(n_jobs=12)]: Done   8 tasks      | elapsed:    0.0s\n",
      "[Parallel(n_jobs=12)]: Done 104 tasks      | elapsed:    0.0s\n",
      "[Parallel(n_jobs=12)]: Done 264 tasks      | elapsed:    0.0s\n",
      "[Parallel(n_jobs=12)]: Done 488 tasks      | elapsed:    0.1s\n",
      "[Parallel(n_jobs=12)]: Done 776 tasks      | elapsed:    0.1s\n",
      "[Parallel(n_jobs=12)]: Done 1000 out of 1000 | elapsed:    0.2s finished\n"
     ]
    },
    {
     "data": {
      "text/plain": [
       "array([[ 268,    0,    0,    0,    0,    0],\n",
       "       [   0, 1066,    6,    2,    2,    0],\n",
       "       [   0,    1, 1450,    1,    0,    0],\n",
       "       [   0,    3,    1, 2040,    5,    0],\n",
       "       [   0,    0,    0,    0, 2868,    0],\n",
       "       [   0,    0,    0,    0,    0,  615]], dtype=int64)"
      ]
     },
     "execution_count": 6,
     "metadata": {},
     "output_type": "execute_result"
    }
   ],
   "source": [
    "from sklearn.metrics import confusion_matrix, multilabel_confusion_matrix\n",
    "import pickle\n",
    "\n",
    "filename = \"RFC.pickle\"\n",
    "#pickle.dump(model, open(filename, \"wb\"))\n",
    "\n",
    "model = pickle.load(open(filename, 'rb'))\n",
    "\n",
    "y_pred = model.predict(X_test)\n",
    "confusion_matrix(y_test, y_pred)"
   ]
  },
  {
   "cell_type": "code",
   "execution_count": 7,
   "metadata": {},
   "outputs": [
    {
     "data": {
      "text/plain": [
       "array([[[8060,    0],\n",
       "        [   0,  268]],\n",
       "\n",
       "       [[7248,    4],\n",
       "        [  10, 1066]],\n",
       "\n",
       "       [[6869,    7],\n",
       "        [   2, 1450]],\n",
       "\n",
       "       [[6276,    3],\n",
       "        [   9, 2040]],\n",
       "\n",
       "       [[5453,    7],\n",
       "        [   0, 2868]],\n",
       "\n",
       "       [[7713,    0],\n",
       "        [   0,  615]]], dtype=int64)"
      ]
     },
     "execution_count": 7,
     "metadata": {},
     "output_type": "execute_result"
    }
   ],
   "source": [
    "multilabel_confusion_matrix(y_test, y_pred)"
   ]
  },
  {
   "cell_type": "markdown",
   "metadata": {},
   "source": [
    "# Artificial Neural Network"
   ]
  },
  {
   "cell_type": "code",
   "execution_count": 8,
   "metadata": {},
   "outputs": [
    {
     "name": "stderr",
     "output_type": "stream",
     "text": [
      "D:\\ProgramData\\Anaconda3\\lib\\site-packages\\sklearn\\preprocessing\\_label.py:235: DataConversionWarning: A column-vector y was passed when a 1d array was expected. Please change the shape of y to (n_samples, ), for example using ravel().\n",
      "  y = column_or_1d(y, warn=True)\n",
      "D:\\ProgramData\\Anaconda3\\lib\\site-packages\\sklearn\\preprocessing\\_label.py:268: DataConversionWarning: A column-vector y was passed when a 1d array was expected. Please change the shape of y to (n_samples, ), for example using ravel().\n",
      "  y = column_or_1d(y, warn=True)\n"
     ]
    },
    {
     "data": {
      "text/plain": [
       "array(['actions1', 'fall', 'pushups', 'sit', 'walking',\n",
       "       'walking-with-hands-up'], dtype=object)"
      ]
     },
     "execution_count": 8,
     "metadata": {},
     "output_type": "execute_result"
    }
   ],
   "source": [
    "from sklearn.preprocessing import LabelEncoder\n",
    "enc = LabelEncoder().fit(df.iloc[:, -1].values.reshape(-1,1))\n",
    "df[\"Transformed\"] = enc.transform(df.iloc[:, -1].values.reshape(-1,1))\n",
    "df['Transformed'] = df['Transformed'].astype('category')\n",
    "\n",
    "enc.classes_"
   ]
  },
  {
   "cell_type": "code",
   "execution_count": 9,
   "metadata": {},
   "outputs": [
    {
     "name": "stderr",
     "output_type": "stream",
     "text": [
      "D:\\ProgramData\\Anaconda3\\lib\\site-packages\\tensorflow\\python\\framework\\dtypes.py:516: FutureWarning: Passing (type, 1) or '1type' as a synonym of type is deprecated; in a future version of numpy, it will be understood as (type, (1,)) / '(1,)type'.\n",
      "  _np_qint8 = np.dtype([(\"qint8\", np.int8, 1)])\n",
      "D:\\ProgramData\\Anaconda3\\lib\\site-packages\\tensorflow\\python\\framework\\dtypes.py:517: FutureWarning: Passing (type, 1) or '1type' as a synonym of type is deprecated; in a future version of numpy, it will be understood as (type, (1,)) / '(1,)type'.\n",
      "  _np_quint8 = np.dtype([(\"quint8\", np.uint8, 1)])\n",
      "D:\\ProgramData\\Anaconda3\\lib\\site-packages\\tensorflow\\python\\framework\\dtypes.py:518: FutureWarning: Passing (type, 1) or '1type' as a synonym of type is deprecated; in a future version of numpy, it will be understood as (type, (1,)) / '(1,)type'.\n",
      "  _np_qint16 = np.dtype([(\"qint16\", np.int16, 1)])\n",
      "D:\\ProgramData\\Anaconda3\\lib\\site-packages\\tensorflow\\python\\framework\\dtypes.py:519: FutureWarning: Passing (type, 1) or '1type' as a synonym of type is deprecated; in a future version of numpy, it will be understood as (type, (1,)) / '(1,)type'.\n",
      "  _np_quint16 = np.dtype([(\"quint16\", np.uint16, 1)])\n",
      "D:\\ProgramData\\Anaconda3\\lib\\site-packages\\tensorflow\\python\\framework\\dtypes.py:520: FutureWarning: Passing (type, 1) or '1type' as a synonym of type is deprecated; in a future version of numpy, it will be understood as (type, (1,)) / '(1,)type'.\n",
      "  _np_qint32 = np.dtype([(\"qint32\", np.int32, 1)])\n",
      "D:\\ProgramData\\Anaconda3\\lib\\site-packages\\tensorflow\\python\\framework\\dtypes.py:525: FutureWarning: Passing (type, 1) or '1type' as a synonym of type is deprecated; in a future version of numpy, it will be understood as (type, (1,)) / '(1,)type'.\n",
      "  np_resource = np.dtype([(\"resource\", np.ubyte, 1)])\n",
      "D:\\ProgramData\\Anaconda3\\lib\\site-packages\\tensorboard\\compat\\tensorflow_stub\\dtypes.py:541: FutureWarning: Passing (type, 1) or '1type' as a synonym of type is deprecated; in a future version of numpy, it will be understood as (type, (1,)) / '(1,)type'.\n",
      "  _np_qint8 = np.dtype([(\"qint8\", np.int8, 1)])\n",
      "D:\\ProgramData\\Anaconda3\\lib\\site-packages\\tensorboard\\compat\\tensorflow_stub\\dtypes.py:542: FutureWarning: Passing (type, 1) or '1type' as a synonym of type is deprecated; in a future version of numpy, it will be understood as (type, (1,)) / '(1,)type'.\n",
      "  _np_quint8 = np.dtype([(\"quint8\", np.uint8, 1)])\n",
      "D:\\ProgramData\\Anaconda3\\lib\\site-packages\\tensorboard\\compat\\tensorflow_stub\\dtypes.py:543: FutureWarning: Passing (type, 1) or '1type' as a synonym of type is deprecated; in a future version of numpy, it will be understood as (type, (1,)) / '(1,)type'.\n",
      "  _np_qint16 = np.dtype([(\"qint16\", np.int16, 1)])\n",
      "D:\\ProgramData\\Anaconda3\\lib\\site-packages\\tensorboard\\compat\\tensorflow_stub\\dtypes.py:544: FutureWarning: Passing (type, 1) or '1type' as a synonym of type is deprecated; in a future version of numpy, it will be understood as (type, (1,)) / '(1,)type'.\n",
      "  _np_quint16 = np.dtype([(\"quint16\", np.uint16, 1)])\n",
      "D:\\ProgramData\\Anaconda3\\lib\\site-packages\\tensorboard\\compat\\tensorflow_stub\\dtypes.py:545: FutureWarning: Passing (type, 1) or '1type' as a synonym of type is deprecated; in a future version of numpy, it will be understood as (type, (1,)) / '(1,)type'.\n",
      "  _np_qint32 = np.dtype([(\"qint32\", np.int32, 1)])\n",
      "D:\\ProgramData\\Anaconda3\\lib\\site-packages\\tensorboard\\compat\\tensorflow_stub\\dtypes.py:550: FutureWarning: Passing (type, 1) or '1type' as a synonym of type is deprecated; in a future version of numpy, it will be understood as (type, (1,)) / '(1,)type'.\n",
      "  np_resource = np.dtype([(\"resource\", np.ubyte, 1)])\n"
     ]
    }
   ],
   "source": [
    "import tensorflow as tf\n",
    "\n",
    "config = tf.ConfigProto()\n",
    "config.gpu_options.allow_growth = True\n",
    "sess = tf.Session(config=config)"
   ]
  },
  {
   "cell_type": "code",
   "execution_count": 10,
   "metadata": {
    "scrolled": true
   },
   "outputs": [
    {
     "name": "stdout",
     "output_type": "stream",
     "text": [
      "WARNING:tensorflow:From D:\\ProgramData\\Anaconda3\\lib\\site-packages\\tensorflow\\python\\ops\\init_ops.py:1251: calling VarianceScaling.__init__ (from tensorflow.python.ops.init_ops) with dtype is deprecated and will be removed in a future version.\n",
      "Instructions for updating:\n",
      "Call initializer instance with the dtype argument instead of passing it to the constructor\n",
      "Model: \"sequential\"\n",
      "_________________________________________________________________\n",
      "Layer (type)                 Output Shape              Param #   \n",
      "=================================================================\n",
      "Dense_1 (Dense)              (None, 1024)              35840     \n",
      "_________________________________________________________________\n",
      "Batch_Norm (BatchNormalizati (None, 1024)              4096      \n",
      "_________________________________________________________________\n",
      "Dense_2 (Dense)              (None, 720)               738000    \n",
      "_________________________________________________________________\n",
      "dropout (Dropout)            (None, 720)               0         \n",
      "_________________________________________________________________\n",
      "Dense_3 (Dense)              (None, 480)               346080    \n",
      "_________________________________________________________________\n",
      "Dense_4 (Dense)              (None, 360)               173160    \n",
      "_________________________________________________________________\n",
      "Dense_OP (Dense)             (None, 6)                 2166      \n",
      "=================================================================\n",
      "Total params: 1,299,342\n",
      "Trainable params: 1,297,294\n",
      "Non-trainable params: 2,048\n",
      "_________________________________________________________________\n"
     ]
    }
   ],
   "source": [
    "# tf.__version__ = 1.14.0\n",
    "\n",
    "#x = tf.placeholder(dtype = tf.float32, shape = [34,1])\n",
    "#y = tf.placeholder(dtype = tf.int32, shape = [None])\n",
    "\n",
    "\n",
    "model = tf.keras.Sequential([tf.keras.layers.Dense(1024, activation=\"relu\", name=\"Dense_1\", \n",
    "                                                   input_dim=df.T.iloc[:-2, 1].values.reshape(-1, 1).shape[0]),\n",
    "                             tf.keras.layers.BatchNormalization(name=\"Batch_Norm\"),\n",
    "                             tf.keras.layers.Dense(720, activation=\"relu\", name=\"Dense_2\"),\n",
    "                             tf.keras.layers.Dropout(0.5),\n",
    "                             tf.keras.layers.Dense(480, activation=\"relu\", name=\"Dense_3\"),\n",
    "                             tf.keras.layers.Dense(360, activation=\"relu\", name=\"Dense_4\"),\n",
    "                             tf.keras.layers.Dense(len(enc.classes_), activation=\"softmax\", name=\"Dense_OP\")])\n",
    "#print(model.weights)\n",
    "model.compile(loss='categorical_crossentropy', \n",
    "              optimizer='adam', \n",
    "              metrics=['accuracy'])\n",
    "model.summary()"
   ]
  },
  {
   "cell_type": "code",
   "execution_count": 11,
   "metadata": {
    "scrolled": true
   },
   "outputs": [
    {
     "name": "stdout",
     "output_type": "stream",
     "text": [
      "Train on 33308 samples, validate on 8328 samples\n",
      "Epoch 1/200\n",
      "33308/33308 [==============================] - 3s 92us/sample - loss: 0.3985 - acc: 0.8592 - val_loss: 0.8280 - val_acc: 0.7018\n",
      "Epoch 2/200\n",
      "33308/33308 [==============================] - 2s 71us/sample - loss: 0.2694 - acc: 0.9052 - val_loss: 2.6633 - val_acc: 0.3582\n",
      "Epoch 3/200\n",
      "33308/33308 [==============================] - 2s 70us/sample - loss: 0.2198 - acc: 0.9208 - val_loss: 0.5901 - val_acc: 0.7930\n",
      "Epoch 4/200\n",
      "33308/33308 [==============================] - 2s 67us/sample - loss: 0.1950 - acc: 0.9303 - val_loss: 0.3433 - val_acc: 0.8762\n",
      "Epoch 5/200\n",
      "33308/33308 [==============================] - 2s 66us/sample - loss: 0.1641 - acc: 0.9420 - val_loss: 0.3632 - val_acc: 0.8915\n",
      "Epoch 6/200\n",
      "33308/33308 [==============================] - 2s 66us/sample - loss: 0.1507 - acc: 0.9471 - val_loss: 0.1836 - val_acc: 0.9348\n",
      "Epoch 7/200\n",
      "33308/33308 [==============================] - 2s 66us/sample - loss: 0.1294 - acc: 0.9526 - val_loss: 0.7139 - val_acc: 0.7424\n",
      "Epoch 8/200\n",
      "33308/33308 [==============================] - 2s 69us/sample - loss: 0.1281 - acc: 0.9551 - val_loss: 0.3279 - val_acc: 0.8901\n",
      "Epoch 9/200\n",
      "33308/33308 [==============================] - 2s 69us/sample - loss: 0.1194 - acc: 0.9584 - val_loss: 0.6227 - val_acc: 0.7541\n",
      "Epoch 10/200\n",
      "33308/33308 [==============================] - 2s 69us/sample - loss: 0.1151 - acc: 0.9583 - val_loss: 0.1880 - val_acc: 0.9307\n",
      "Epoch 11/200\n",
      "33308/33308 [==============================] - 2s 69us/sample - loss: 0.1135 - acc: 0.9593 - val_loss: 0.1861 - val_acc: 0.9359\n",
      "Epoch 12/200\n",
      "33308/33308 [==============================] - 2s 67us/sample - loss: 0.1132 - acc: 0.9590 - val_loss: 0.1444 - val_acc: 0.9484\n",
      "Epoch 13/200\n",
      "33308/33308 [==============================] - 2s 68us/sample - loss: 0.0944 - acc: 0.9674 - val_loss: 0.2598 - val_acc: 0.9150\n",
      "Epoch 14/200\n",
      "33308/33308 [==============================] - 2s 70us/sample - loss: 0.0858 - acc: 0.9690 - val_loss: 0.1319 - val_acc: 0.9552\n",
      "Epoch 15/200\n",
      "33308/33308 [==============================] - 2s 68us/sample - loss: 0.0902 - acc: 0.9675 - val_loss: 0.3676 - val_acc: 0.8599\n",
      "Epoch 16/200\n",
      "33308/33308 [==============================] - 2s 69us/sample - loss: 0.0781 - acc: 0.9736 - val_loss: 0.1284 - val_acc: 0.9526\n",
      "Epoch 17/200\n",
      "33308/33308 [==============================] - 2s 68us/sample - loss: 0.0788 - acc: 0.9717 - val_loss: 0.0542 - val_acc: 0.9811\n",
      "Epoch 18/200\n",
      "33308/33308 [==============================] - 2s 68us/sample - loss: 0.0726 - acc: 0.9750 - val_loss: 0.1128 - val_acc: 0.9601\n",
      "Epoch 19/200\n",
      "33308/33308 [==============================] - 2s 68us/sample - loss: 0.0660 - acc: 0.9774 - val_loss: 0.1722 - val_acc: 0.9493\n",
      "Epoch 20/200\n",
      "33308/33308 [==============================] - 2s 67us/sample - loss: 0.0730 - acc: 0.9739 - val_loss: 0.0998 - val_acc: 0.9633\n",
      "Epoch 21/200\n",
      "33308/33308 [==============================] - 2s 68us/sample - loss: 0.0691 - acc: 0.9767 - val_loss: 0.0572 - val_acc: 0.9779\n",
      "Epoch 22/200\n",
      "33308/33308 [==============================] - 2s 67us/sample - loss: 0.0656 - acc: 0.9763 - val_loss: 0.0787 - val_acc: 0.9731\n",
      "Epoch 23/200\n",
      "33308/33308 [==============================] - 2s 67us/sample - loss: 0.0683 - acc: 0.9764 - val_loss: 0.1824 - val_acc: 0.9353\n",
      "Epoch 24/200\n",
      "33308/33308 [==============================] - 2s 67us/sample - loss: 0.0625 - acc: 0.9791 - val_loss: 0.1279 - val_acc: 0.9636\n",
      "Epoch 25/200\n",
      "33308/33308 [==============================] - 2s 65us/sample - loss: 0.0637 - acc: 0.9779 - val_loss: 0.2076 - val_acc: 0.9403\n",
      "Epoch 26/200\n",
      "33308/33308 [==============================] - 2s 64us/sample - loss: 0.0596 - acc: 0.9796 - val_loss: 0.1148 - val_acc: 0.9605\n",
      "Epoch 27/200\n",
      "33308/33308 [==============================] - 2s 67us/sample - loss: 0.0605 - acc: 0.9797 - val_loss: 0.0487 - val_acc: 0.9849\n",
      "Epoch 28/200\n",
      "33308/33308 [==============================] - 2s 67us/sample - loss: 0.0550 - acc: 0.9817 - val_loss: 0.0911 - val_acc: 0.9694\n",
      "Epoch 29/200\n",
      "33308/33308 [==============================] - 2s 69us/sample - loss: 0.0515 - acc: 0.9822 - val_loss: 0.1932 - val_acc: 0.9302\n",
      "Epoch 30/200\n",
      "33308/33308 [==============================] - 2s 69us/sample - loss: 0.0568 - acc: 0.9801 - val_loss: 0.0982 - val_acc: 0.9676\n",
      "Epoch 31/200\n",
      "33308/33308 [==============================] - 2s 69us/sample - loss: 0.0582 - acc: 0.9807 - val_loss: 0.4486 - val_acc: 0.8488\n",
      "Epoch 32/200\n",
      "33308/33308 [==============================] - 2s 68us/sample - loss: 0.0557 - acc: 0.9820 - val_loss: 0.0854 - val_acc: 0.9712\n",
      "Epoch 33/200\n",
      "33308/33308 [==============================] - 2s 67us/sample - loss: 0.0494 - acc: 0.9830 - val_loss: 0.0743 - val_acc: 0.9733\n",
      "Epoch 34/200\n",
      "33308/33308 [==============================] - 2s 68us/sample - loss: 0.0483 - acc: 0.9838 - val_loss: 0.0775 - val_acc: 0.9726\n",
      "Epoch 35/200\n",
      "33308/33308 [==============================] - 2s 67us/sample - loss: 0.0448 - acc: 0.9845 - val_loss: 0.1357 - val_acc: 0.9512\n",
      "Epoch 36/200\n",
      "33308/33308 [==============================] - 2s 67us/sample - loss: 0.0464 - acc: 0.9845 - val_loss: 0.1286 - val_acc: 0.9540\n",
      "Epoch 37/200\n",
      "33308/33308 [==============================] - 2s 68us/sample - loss: 0.0504 - acc: 0.9832 - val_loss: 0.1169 - val_acc: 0.9611\n",
      "Epoch 38/200\n",
      "33308/33308 [==============================] - 2s 68us/sample - loss: 0.0483 - acc: 0.9844 - val_loss: 0.0854 - val_acc: 0.9702\n",
      "Epoch 39/200\n",
      "33308/33308 [==============================] - 2s 68us/sample - loss: 0.0465 - acc: 0.9843 - val_loss: 0.3322 - val_acc: 0.9189\n",
      "Epoch 40/200\n",
      "33308/33308 [==============================] - 2s 67us/sample - loss: 0.0497 - acc: 0.9837 - val_loss: 0.0622 - val_acc: 0.9799\n",
      "Epoch 41/200\n",
      "33308/33308 [==============================] - 2s 68us/sample - loss: 0.0489 - acc: 0.9837 - val_loss: 0.2644 - val_acc: 0.9183\n",
      "Epoch 42/200\n",
      "33308/33308 [==============================] - 2s 68us/sample - loss: 0.0516 - acc: 0.9828 - val_loss: 0.0544 - val_acc: 0.9845\n",
      "Epoch 43/200\n",
      "33308/33308 [==============================] - 2s 68us/sample - loss: 0.0481 - acc: 0.9830 - val_loss: 0.1071 - val_acc: 0.9745\n",
      "Epoch 44/200\n",
      "33308/33308 [==============================] - 2s 69us/sample - loss: 0.0463 - acc: 0.9849 - val_loss: 0.1003 - val_acc: 0.9726\n",
      "Epoch 45/200\n",
      "33308/33308 [==============================] - 2s 69us/sample - loss: 0.0364 - acc: 0.9872 - val_loss: 0.3600 - val_acc: 0.8859\n",
      "Epoch 46/200\n",
      "33308/33308 [==============================] - 2s 69us/sample - loss: 0.0462 - acc: 0.9847 - val_loss: 0.0999 - val_acc: 0.9707\n",
      "Epoch 47/200\n",
      "33308/33308 [==============================] - 2s 67us/sample - loss: 0.0424 - acc: 0.9858 - val_loss: 0.6078 - val_acc: 0.7902\n",
      "Epoch 48/200\n",
      "33308/33308 [==============================] - 2s 63us/sample - loss: 0.0375 - acc: 0.9864 - val_loss: 0.2077 - val_acc: 0.9353\n",
      "Epoch 49/200\n",
      "33308/33308 [==============================] - 2s 66us/sample - loss: 0.0342 - acc: 0.9882 - val_loss: 0.0374 - val_acc: 0.9892\n",
      "Epoch 50/200\n",
      "33308/33308 [==============================] - 2s 67us/sample - loss: 0.0439 - acc: 0.9861 - val_loss: 0.0505 - val_acc: 0.9855\n",
      "Epoch 51/200\n",
      "33308/33308 [==============================] - 2s 67us/sample - loss: 0.0361 - acc: 0.9871 - val_loss: 0.0804 - val_acc: 0.9718\n",
      "Epoch 52/200\n",
      "33308/33308 [==============================] - 2s 65us/sample - loss: 0.0408 - acc: 0.9861 - val_loss: 0.4006 - val_acc: 0.9171\n",
      "Epoch 53/200\n",
      "33308/33308 [==============================] - 2s 67us/sample - loss: 0.0365 - acc: 0.9873 - val_loss: 0.6657 - val_acc: 0.8392\n",
      "Epoch 54/200\n",
      "33308/33308 [==============================] - 2s 62us/sample - loss: 0.0386 - acc: 0.9869 - val_loss: 0.0895 - val_acc: 0.9705\n",
      "Epoch 55/200\n",
      "33308/33308 [==============================] - 2s 62us/sample - loss: 0.0349 - acc: 0.9885 - val_loss: 0.0493 - val_acc: 0.9872\n",
      "Epoch 56/200\n",
      "33308/33308 [==============================] - 2s 61us/sample - loss: 0.0409 - acc: 0.9871 - val_loss: 0.0602 - val_acc: 0.9843\n",
      "Epoch 57/200\n",
      "33308/33308 [==============================] - 2s 64us/sample - loss: 0.0331 - acc: 0.9893 - val_loss: 0.1482 - val_acc: 0.9595\n",
      "Epoch 58/200\n",
      "33308/33308 [==============================] - 2s 66us/sample - loss: 0.0330 - acc: 0.9887 - val_loss: 0.0981 - val_acc: 0.9773\n"
     ]
    },
    {
     "name": "stdout",
     "output_type": "stream",
     "text": [
      "Epoch 59/200\n",
      "33308/33308 [==============================] - 2s 66us/sample - loss: 0.0363 - acc: 0.9880 - val_loss: 0.2326 - val_acc: 0.9289\n",
      "Epoch 60/200\n",
      "33308/33308 [==============================] - 2s 66us/sample - loss: 0.0358 - acc: 0.9887 - val_loss: 0.0411 - val_acc: 0.9875\n",
      "Epoch 61/200\n",
      "33308/33308 [==============================] - 2s 67us/sample - loss: 0.0323 - acc: 0.9894 - val_loss: 0.1106 - val_acc: 0.9597\n",
      "Epoch 62/200\n",
      "33308/33308 [==============================] - 2s 67us/sample - loss: 0.0338 - acc: 0.9885 - val_loss: 0.1676 - val_acc: 0.9388\n",
      "Epoch 63/200\n",
      "33308/33308 [==============================] - 2s 67us/sample - loss: 0.0278 - acc: 0.9905 - val_loss: 0.1153 - val_acc: 0.9649\n",
      "Epoch 64/200\n",
      "33308/33308 [==============================] - 2s 67us/sample - loss: 0.0360 - acc: 0.9878 - val_loss: 0.0474 - val_acc: 0.9869\n",
      "Epoch 65/200\n",
      "33308/33308 [==============================] - 2s 67us/sample - loss: 0.0325 - acc: 0.9896 - val_loss: 0.1140 - val_acc: 0.9672\n",
      "Epoch 66/200\n",
      "33308/33308 [==============================] - 2s 67us/sample - loss: 0.0282 - acc: 0.9900 - val_loss: 0.0270 - val_acc: 0.9921\n",
      "Epoch 67/200\n",
      "33308/33308 [==============================] - 2s 66us/sample - loss: 0.0286 - acc: 0.9909 - val_loss: 0.0459 - val_acc: 0.9840\n",
      "Epoch 68/200\n",
      "33308/33308 [==============================] - 2s 67us/sample - loss: 0.0322 - acc: 0.9895 - val_loss: 0.0679 - val_acc: 0.9798\n",
      "Epoch 69/200\n",
      "33308/33308 [==============================] - 2s 67us/sample - loss: 0.0314 - acc: 0.9898 - val_loss: 0.5253 - val_acc: 0.8676\n",
      "Epoch 70/200\n",
      "33308/33308 [==============================] - 2s 66us/sample - loss: 0.0434 - acc: 0.9856 - val_loss: 0.0587 - val_acc: 0.9779\n",
      "Epoch 71/200\n",
      "33308/33308 [==============================] - 2s 67us/sample - loss: 0.0365 - acc: 0.9880 - val_loss: 0.0387 - val_acc: 0.9875\n",
      "Epoch 72/200\n",
      "33308/33308 [==============================] - 2s 66us/sample - loss: 0.0309 - acc: 0.9902 - val_loss: 0.0312 - val_acc: 0.9903\n",
      "Epoch 73/200\n",
      "33308/33308 [==============================] - 2s 67us/sample - loss: 0.0342 - acc: 0.9893 - val_loss: 0.0928 - val_acc: 0.9661\n",
      "Epoch 74/200\n",
      "33308/33308 [==============================] - 2s 66us/sample - loss: 0.0314 - acc: 0.9898 - val_loss: 0.0596 - val_acc: 0.9849\n",
      "Epoch 75/200\n",
      "33308/33308 [==============================] - 2s 66us/sample - loss: 0.0282 - acc: 0.9908 - val_loss: 0.0271 - val_acc: 0.9922\n",
      "Epoch 76/200\n",
      "33308/33308 [==============================] - 2s 65us/sample - loss: 0.0350 - acc: 0.9877 - val_loss: 0.0586 - val_acc: 0.9786\n",
      "Epoch 77/200\n",
      "33308/33308 [==============================] - 2s 67us/sample - loss: 0.0336 - acc: 0.9893 - val_loss: 0.1283 - val_acc: 0.9625\n",
      "Epoch 78/200\n",
      "33308/33308 [==============================] - 2s 66us/sample - loss: 0.0308 - acc: 0.9902 - val_loss: 0.0202 - val_acc: 0.9929\n",
      "Epoch 79/200\n",
      "33308/33308 [==============================] - 2s 64us/sample - loss: 0.0364 - acc: 0.9886 - val_loss: 0.1662 - val_acc: 0.9496\n",
      "Epoch 80/200\n",
      "33308/33308 [==============================] - 2s 64us/sample - loss: 0.0324 - acc: 0.9894 - val_loss: 0.0797 - val_acc: 0.9761\n",
      "Epoch 81/200\n",
      "33308/33308 [==============================] - 2s 65us/sample - loss: 0.0279 - acc: 0.9911 - val_loss: 0.0981 - val_acc: 0.9732\n",
      "Epoch 82/200\n",
      "33308/33308 [==============================] - 2s 64us/sample - loss: 0.0269 - acc: 0.9912 - val_loss: 0.0995 - val_acc: 0.9719\n",
      "Epoch 83/200\n",
      "33308/33308 [==============================] - 2s 66us/sample - loss: 0.0285 - acc: 0.9901 - val_loss: 0.0643 - val_acc: 0.9799\n",
      "Epoch 84/200\n",
      "33308/33308 [==============================] - 2s 66us/sample - loss: 0.0310 - acc: 0.9897 - val_loss: 0.0950 - val_acc: 0.9803\n",
      "Epoch 85/200\n",
      "33308/33308 [==============================] - 2s 66us/sample - loss: 0.0287 - acc: 0.9906 - val_loss: 0.0431 - val_acc: 0.9891\n",
      "Epoch 86/200\n",
      "33308/33308 [==============================] - 2s 66us/sample - loss: 0.0301 - acc: 0.9899 - val_loss: 0.0791 - val_acc: 0.9807\n",
      "Epoch 87/200\n",
      "33308/33308 [==============================] - 2s 65us/sample - loss: 0.0259 - acc: 0.9915 - val_loss: 0.0613 - val_acc: 0.9893\n",
      "Epoch 88/200\n",
      "33308/33308 [==============================] - 2s 66us/sample - loss: 0.0262 - acc: 0.9913 - val_loss: 0.0614 - val_acc: 0.9857\n",
      "Epoch 89/200\n",
      "33308/33308 [==============================] - 2s 66us/sample - loss: 0.0244 - acc: 0.9916 - val_loss: 0.0892 - val_acc: 0.9771\n",
      "Epoch 90/200\n",
      "33308/33308 [==============================] - 2s 66us/sample - loss: 0.0295 - acc: 0.9908 - val_loss: 0.0195 - val_acc: 0.9929\n",
      "Epoch 91/200\n",
      "33308/33308 [==============================] - 2s 65us/sample - loss: 0.0350 - acc: 0.9891 - val_loss: 0.0516 - val_acc: 0.9845\n",
      "Epoch 92/200\n",
      "33308/33308 [==============================] - 2s 65us/sample - loss: 0.0276 - acc: 0.9911 - val_loss: 0.0602 - val_acc: 0.9803\n",
      "Epoch 93/200\n",
      "33308/33308 [==============================] - 2s 66us/sample - loss: 0.0257 - acc: 0.9915 - val_loss: 0.0637 - val_acc: 0.9831\n",
      "Epoch 94/200\n",
      "33308/33308 [==============================] - 2s 66us/sample - loss: 0.0272 - acc: 0.9909 - val_loss: 0.2423 - val_acc: 0.9195\n",
      "Epoch 95/200\n",
      "33308/33308 [==============================] - 2s 63us/sample - loss: 0.0311 - acc: 0.9904 - val_loss: 0.1147 - val_acc: 0.9634\n",
      "Epoch 96/200\n",
      "33308/33308 [==============================] - 2s 61us/sample - loss: 0.0260 - acc: 0.9913 - val_loss: 0.0248 - val_acc: 0.9915\n",
      "Epoch 97/200\n",
      "33308/33308 [==============================] - 2s 59us/sample - loss: 0.0262 - acc: 0.9912 - val_loss: 0.0494 - val_acc: 0.9827\n",
      "Epoch 98/200\n",
      "33308/33308 [==============================] - 2s 62us/sample - loss: 0.0260 - acc: 0.9920 - val_loss: 0.0879 - val_acc: 0.9664\n",
      "Epoch 99/200\n",
      "33308/33308 [==============================] - 2s 63us/sample - loss: 0.0291 - acc: 0.9906 - val_loss: 0.0255 - val_acc: 0.9928\n",
      "Epoch 100/200\n",
      "33308/33308 [==============================] - 2s 65us/sample - loss: 0.0286 - acc: 0.9914 - val_loss: 0.0489 - val_acc: 0.9832\n",
      "Epoch 101/200\n",
      "33308/33308 [==============================] - 2s 63us/sample - loss: 0.0289 - acc: 0.9910 - val_loss: 0.0802 - val_acc: 0.9839\n",
      "Epoch 102/200\n",
      "33308/33308 [==============================] - 2s 63us/sample - loss: 0.0242 - acc: 0.9918 - val_loss: 0.0789 - val_acc: 0.9755\n",
      "Epoch 103/200\n",
      "33308/33308 [==============================] - 2s 65us/sample - loss: 0.0296 - acc: 0.9912 - val_loss: 0.1469 - val_acc: 0.9658\n",
      "Epoch 104/200\n",
      "33308/33308 [==============================] - 2s 65us/sample - loss: 0.0212 - acc: 0.9932 - val_loss: 0.5928 - val_acc: 0.8401\n",
      "Epoch 105/200\n",
      "33308/33308 [==============================] - 2s 65us/sample - loss: 0.0290 - acc: 0.9909 - val_loss: 0.0929 - val_acc: 0.9730\n",
      "Epoch 106/200\n",
      "33308/33308 [==============================] - 2s 64us/sample - loss: 0.0234 - acc: 0.9924 - val_loss: 0.0439 - val_acc: 0.9860\n",
      "Epoch 107/200\n",
      "33308/33308 [==============================] - 2s 66us/sample - loss: 0.0297 - acc: 0.9907 - val_loss: 0.0419 - val_acc: 0.9849\n",
      "Epoch 108/200\n",
      "33308/33308 [==============================] - 2s 67us/sample - loss: 0.0226 - acc: 0.9929 - val_loss: 0.0642 - val_acc: 0.9781\n",
      "Epoch 109/200\n",
      "33308/33308 [==============================] - 2s 67us/sample - loss: 0.0257 - acc: 0.9917 - val_loss: 0.0260 - val_acc: 0.9900\n",
      "Epoch 110/200\n",
      "33308/33308 [==============================] - 2s 66us/sample - loss: 0.0254 - acc: 0.9918 - val_loss: 0.0180 - val_acc: 0.9930\n",
      "Epoch 111/200\n",
      "33308/33308 [==============================] - 2s 65us/sample - loss: 0.0244 - acc: 0.9927 - val_loss: 0.0190 - val_acc: 0.9939\n",
      "Epoch 112/200\n",
      "33308/33308 [==============================] - 2s 67us/sample - loss: 0.0236 - acc: 0.9929 - val_loss: 0.0353 - val_acc: 0.9869\n",
      "Epoch 113/200\n",
      "33308/33308 [==============================] - 2s 67us/sample - loss: 0.0240 - acc: 0.9928 - val_loss: 0.2758 - val_acc: 0.9444\n",
      "Epoch 114/200\n",
      "33308/33308 [==============================] - 2s 67us/sample - loss: 0.0267 - acc: 0.9911 - val_loss: 0.0788 - val_acc: 0.9759\n",
      "Epoch 115/200\n",
      "33308/33308 [==============================] - 2s 66us/sample - loss: 0.0284 - acc: 0.9914 - val_loss: 0.0227 - val_acc: 0.9944\n",
      "Epoch 116/200\n",
      "33308/33308 [==============================] - 2s 65us/sample - loss: 0.0273 - acc: 0.9914 - val_loss: 0.0172 - val_acc: 0.9934\n"
     ]
    },
    {
     "name": "stdout",
     "output_type": "stream",
     "text": [
      "Epoch 117/200\n",
      "33308/33308 [==============================] - 2s 65us/sample - loss: 0.0291 - acc: 0.9914 - val_loss: 0.0501 - val_acc: 0.9826\n",
      "Epoch 118/200\n",
      "33308/33308 [==============================] - 2s 66us/sample - loss: 0.0221 - acc: 0.9935 - val_loss: 0.0103 - val_acc: 0.9969\n",
      "Epoch 119/200\n",
      "33308/33308 [==============================] - 2s 66us/sample - loss: 0.0249 - acc: 0.9925 - val_loss: 0.0239 - val_acc: 0.9917\n",
      "Epoch 120/200\n",
      "33308/33308 [==============================] - 2s 65us/sample - loss: 0.0265 - acc: 0.9922 - val_loss: 0.0566 - val_acc: 0.9821\n",
      "Epoch 121/200\n",
      "33308/33308 [==============================] - 2s 64us/sample - loss: 0.0245 - acc: 0.9923 - val_loss: 0.0184 - val_acc: 0.9951\n",
      "Epoch 122/200\n",
      "33308/33308 [==============================] - 2s 64us/sample - loss: 0.0233 - acc: 0.9924 - val_loss: 0.0107 - val_acc: 0.9969\n",
      "Epoch 123/200\n",
      "33308/33308 [==============================] - 2s 65us/sample - loss: 0.0226 - acc: 0.9931 - val_loss: 0.5308 - val_acc: 0.8774\n",
      "Epoch 124/200\n",
      "33308/33308 [==============================] - 2s 65us/sample - loss: 0.0231 - acc: 0.9928 - val_loss: 0.0122 - val_acc: 0.9960\n",
      "Epoch 125/200\n",
      "33308/33308 [==============================] - 2s 66us/sample - loss: 0.0244 - acc: 0.9918 - val_loss: 0.0319 - val_acc: 0.9893\n",
      "Epoch 126/200\n",
      "33308/33308 [==============================] - 2s 65us/sample - loss: 0.0249 - acc: 0.9923 - val_loss: 0.0281 - val_acc: 0.9928\n",
      "Epoch 127/200\n",
      "33308/33308 [==============================] - 2s 65us/sample - loss: 0.0232 - acc: 0.9923 - val_loss: 0.0601 - val_acc: 0.9833\n",
      "Epoch 128/200\n",
      "33308/33308 [==============================] - 2s 65us/sample - loss: 0.0193 - acc: 0.9941 - val_loss: 0.0762 - val_acc: 0.9774\n",
      "Epoch 129/200\n",
      "33308/33308 [==============================] - 2s 66us/sample - loss: 0.0272 - acc: 0.9917 - val_loss: 0.2029 - val_acc: 0.9437\n",
      "Epoch 130/200\n",
      "33308/33308 [==============================] - 2s 66us/sample - loss: 0.0238 - acc: 0.9923 - val_loss: 0.0319 - val_acc: 0.9910\n",
      "Epoch 131/200\n",
      "33308/33308 [==============================] - 2s 66us/sample - loss: 0.0221 - acc: 0.9931 - val_loss: 0.0240 - val_acc: 0.9947\n",
      "Epoch 132/200\n",
      "33308/33308 [==============================] - 2s 65us/sample - loss: 0.0243 - acc: 0.9917 - val_loss: 0.2059 - val_acc: 0.9451\n",
      "Epoch 133/200\n",
      "33308/33308 [==============================] - 2s 64us/sample - loss: 0.0280 - acc: 0.9916 - val_loss: 0.1633 - val_acc: 0.9556\n",
      "Epoch 134/200\n",
      "33308/33308 [==============================] - 2s 64us/sample - loss: 0.0256 - acc: 0.9927 - val_loss: 0.0193 - val_acc: 0.9960\n",
      "Epoch 135/200\n",
      "33308/33308 [==============================] - 2s 64us/sample - loss: 0.0213 - acc: 0.9929 - val_loss: 0.0316 - val_acc: 0.9920\n",
      "Epoch 136/200\n",
      "33308/33308 [==============================] - 2s 66us/sample - loss: 0.0221 - acc: 0.9929 - val_loss: 0.0290 - val_acc: 0.9940\n",
      "Epoch 137/200\n",
      "33308/33308 [==============================] - 2s 66us/sample - loss: 0.0215 - acc: 0.9929 - val_loss: 0.0505 - val_acc: 0.9845\n",
      "Epoch 138/200\n",
      "33308/33308 [==============================] - 2s 67us/sample - loss: 0.0219 - acc: 0.9931 - val_loss: 0.0840 - val_acc: 0.9784\n",
      "Epoch 139/200\n",
      "33308/33308 [==============================] - 2s 65us/sample - loss: 0.0238 - acc: 0.9933 - val_loss: 0.0248 - val_acc: 0.9941\n",
      "Epoch 140/200\n",
      "33308/33308 [==============================] - 2s 65us/sample - loss: 0.0297 - acc: 0.9910 - val_loss: 0.1095 - val_acc: 0.9604\n",
      "Epoch 141/200\n",
      "33308/33308 [==============================] - 2s 66us/sample - loss: 0.0223 - acc: 0.9934 - val_loss: 0.0487 - val_acc: 0.9838\n",
      "Epoch 142/200\n",
      "33308/33308 [==============================] - 2s 65us/sample - loss: 0.0217 - acc: 0.9931 - val_loss: 0.1004 - val_acc: 0.9678\n",
      "Epoch 143/200\n",
      "33308/33308 [==============================] - 2s 67us/sample - loss: 0.0224 - acc: 0.9936 - val_loss: 0.0686 - val_acc: 0.9792\n",
      "Epoch 144/200\n",
      "33308/33308 [==============================] - 2s 65us/sample - loss: 0.0275 - acc: 0.9923 - val_loss: 0.0201 - val_acc: 0.9954\n",
      "Epoch 145/200\n",
      "33308/33308 [==============================] - 2s 65us/sample - loss: 0.0182 - acc: 0.9936 - val_loss: 0.0257 - val_acc: 0.9941\n",
      "Epoch 146/200\n",
      "33308/33308 [==============================] - 2s 66us/sample - loss: 0.0307 - acc: 0.9904 - val_loss: 0.0909 - val_acc: 0.9965\n",
      "Epoch 147/200\n",
      "33308/33308 [==============================] - 2s 65us/sample - loss: 0.0233 - acc: 0.9931 - val_loss: 0.0608 - val_acc: 0.9835\n",
      "Epoch 148/200\n",
      "33308/33308 [==============================] - 2s 64us/sample - loss: 0.0199 - acc: 0.9944 - val_loss: 0.0360 - val_acc: 0.9903\n",
      "Epoch 149/200\n",
      "33308/33308 [==============================] - 2s 64us/sample - loss: 0.0235 - acc: 0.9925 - val_loss: 0.0585 - val_acc: 0.9834\n",
      "Epoch 150/200\n",
      "33308/33308 [==============================] - 2s 64us/sample - loss: 0.0243 - acc: 0.9929 - val_loss: 0.0228 - val_acc: 0.9941\n",
      "Epoch 151/200\n",
      "33308/33308 [==============================] - 2s 65us/sample - loss: 0.0264 - acc: 0.9925 - val_loss: 0.0462 - val_acc: 0.9875\n",
      "Epoch 152/200\n",
      "33308/33308 [==============================] - 2s 64us/sample - loss: 0.0223 - acc: 0.9932 - val_loss: 0.0204 - val_acc: 0.9944\n",
      "Epoch 153/200\n",
      "33308/33308 [==============================] - 2s 64us/sample - loss: 0.0302 - acc: 0.9921 - val_loss: 2.6787 - val_acc: 0.7504\n",
      "Epoch 154/200\n",
      "33308/33308 [==============================] - 2s 64us/sample - loss: 0.0241 - acc: 0.9929 - val_loss: 0.0744 - val_acc: 0.9854\n",
      "Epoch 155/200\n",
      "33308/33308 [==============================] - 2s 65us/sample - loss: 0.0190 - acc: 0.9941 - val_loss: 0.0697 - val_acc: 0.9833\n",
      "Epoch 156/200\n",
      "33308/33308 [==============================] - 2s 65us/sample - loss: 0.0202 - acc: 0.9940 - val_loss: 0.0333 - val_acc: 0.9959\n",
      "Epoch 157/200\n",
      "33308/33308 [==============================] - 2s 65us/sample - loss: 0.0220 - acc: 0.9933 - val_loss: 0.0573 - val_acc: 0.9805\n",
      "Epoch 158/200\n",
      "33308/33308 [==============================] - 2s 66us/sample - loss: 0.0239 - acc: 0.9927 - val_loss: 0.0760 - val_acc: 0.9797\n",
      "Epoch 159/200\n",
      "33308/33308 [==============================] - 2s 65us/sample - loss: 0.0197 - acc: 0.9941 - val_loss: 0.0680 - val_acc: 0.9843\n",
      "Epoch 160/200\n",
      "33308/33308 [==============================] - 2s 64us/sample - loss: 0.0236 - acc: 0.9932 - val_loss: 0.0548 - val_acc: 0.9893\n",
      "Epoch 161/200\n",
      "33308/33308 [==============================] - 2s 65us/sample - loss: 0.0192 - acc: 0.9942 - val_loss: 0.4342 - val_acc: 0.8674\n",
      "Epoch 162/200\n",
      "33308/33308 [==============================] - 2s 65us/sample - loss: 0.0416 - acc: 0.9888 - val_loss: 0.0651 - val_acc: 0.9791\n",
      "Epoch 163/200\n",
      "33308/33308 [==============================] - 2s 67us/sample - loss: 0.0261 - acc: 0.9919 - val_loss: 0.0191 - val_acc: 0.9946\n",
      "Epoch 164/200\n",
      "33308/33308 [==============================] - 2s 65us/sample - loss: 0.0233 - acc: 0.9935 - val_loss: 0.0190 - val_acc: 0.9951\n",
      "Epoch 165/200\n",
      "33308/33308 [==============================] - 2s 67us/sample - loss: 0.0209 - acc: 0.9940 - val_loss: 0.0238 - val_acc: 0.9940\n",
      "Epoch 166/200\n",
      "33308/33308 [==============================] - 2s 70us/sample - loss: 0.0285 - acc: 0.9917 - val_loss: 0.4888 - val_acc: 0.8984\n",
      "Epoch 167/200\n",
      "33308/33308 [==============================] - 2s 73us/sample - loss: 0.0229 - acc: 0.9933 - val_loss: 0.0214 - val_acc: 0.9935\n",
      "Epoch 168/200\n",
      "33308/33308 [==============================] - 2s 69us/sample - loss: 0.0287 - acc: 0.9921 - val_loss: 0.0297 - val_acc: 0.9879\n",
      "Epoch 169/200\n",
      "33308/33308 [==============================] - 2s 64us/sample - loss: 0.0221 - acc: 0.9935 - val_loss: 0.0166 - val_acc: 0.9950\n",
      "Epoch 170/200\n",
      "33308/33308 [==============================] - 2s 65us/sample - loss: 0.0227 - acc: 0.9931 - val_loss: 0.1313 - val_acc: 0.9663\n",
      "Epoch 171/200\n",
      "33308/33308 [==============================] - 2s 66us/sample - loss: 0.0277 - acc: 0.9923 - val_loss: 0.0234 - val_acc: 0.9921\n",
      "Epoch 172/200\n",
      "33308/33308 [==============================] - 2s 69us/sample - loss: 0.0231 - acc: 0.9932 - val_loss: 0.0454 - val_acc: 0.9875\n",
      "Epoch 173/200\n",
      "33308/33308 [==============================] - 2s 70us/sample - loss: 0.0225 - acc: 0.9935 - val_loss: 0.0301 - val_acc: 0.9911\n",
      "Epoch 174/200\n",
      "33308/33308 [==============================] - 2s 71us/sample - loss: 0.0230 - acc: 0.9931 - val_loss: 0.0511 - val_acc: 0.9873\n"
     ]
    },
    {
     "name": "stdout",
     "output_type": "stream",
     "text": [
      "Epoch 175/200\n",
      "33308/33308 [==============================] - 2s 70us/sample - loss: 0.0226 - acc: 0.9932 - val_loss: 0.0333 - val_acc: 0.9876\n",
      "Epoch 176/200\n",
      "33308/33308 [==============================] - 2s 66us/sample - loss: 0.0189 - acc: 0.9948 - val_loss: 0.0221 - val_acc: 0.9929\n",
      "Epoch 177/200\n",
      "33308/33308 [==============================] - 2s 67us/sample - loss: 0.0267 - acc: 0.9925 - val_loss: 0.0150 - val_acc: 0.9953\n",
      "Epoch 178/200\n",
      "33308/33308 [==============================] - 2s 72us/sample - loss: 0.0194 - acc: 0.9943 - val_loss: 0.0290 - val_acc: 0.9918\n",
      "Epoch 179/200\n",
      "33308/33308 [==============================] - 2s 68us/sample - loss: 0.0223 - acc: 0.9933 - val_loss: 0.0862 - val_acc: 0.9739\n",
      "Epoch 180/200\n",
      "33308/33308 [==============================] - 2s 66us/sample - loss: 0.0293 - acc: 0.9917 - val_loss: 0.0116 - val_acc: 0.9974\n",
      "Epoch 181/200\n",
      "33308/33308 [==============================] - 2s 66us/sample - loss: 0.0222 - acc: 0.9933 - val_loss: 0.0324 - val_acc: 0.9899\n",
      "Epoch 182/200\n",
      "33308/33308 [==============================] - 2s 65us/sample - loss: 0.0227 - acc: 0.9941 - val_loss: 0.0173 - val_acc: 0.9956\n",
      "Epoch 183/200\n",
      "33308/33308 [==============================] - 2s 66us/sample - loss: 0.0217 - acc: 0.9929 - val_loss: 0.0431 - val_acc: 0.9870\n",
      "Epoch 184/200\n",
      "33308/33308 [==============================] - 2s 64us/sample - loss: 0.0188 - acc: 0.9942 - val_loss: 0.0337 - val_acc: 0.9899\n",
      "Epoch 185/200\n",
      "33308/33308 [==============================] - 2s 65us/sample - loss: 0.0211 - acc: 0.9938 - val_loss: 0.0172 - val_acc: 0.9938\n",
      "Epoch 186/200\n",
      "33308/33308 [==============================] - 2s 66us/sample - loss: 0.0210 - acc: 0.9939 - val_loss: 0.0121 - val_acc: 0.9970\n",
      "Epoch 187/200\n",
      "33308/33308 [==============================] - 2s 67us/sample - loss: 0.0179 - acc: 0.9944 - val_loss: 0.0217 - val_acc: 0.9942\n",
      "Epoch 188/200\n",
      "33308/33308 [==============================] - 2s 66us/sample - loss: 0.0274 - acc: 0.9922 - val_loss: 0.0656 - val_acc: 0.9789\n",
      "Epoch 189/200\n",
      "33308/33308 [==============================] - 2s 63us/sample - loss: 0.0213 - acc: 0.9945 - val_loss: 0.0791 - val_acc: 0.9759\n",
      "Epoch 190/200\n",
      "33308/33308 [==============================] - 2s 63us/sample - loss: 0.0195 - acc: 0.9944 - val_loss: 0.2884 - val_acc: 0.9373\n",
      "Epoch 191/200\n",
      "33308/33308 [==============================] - 2s 65us/sample - loss: 0.0201 - acc: 0.9940 - val_loss: 0.0313 - val_acc: 0.9874\n",
      "Epoch 192/200\n",
      "33308/33308 [==============================] - 2s 66us/sample - loss: 0.0200 - acc: 0.9937 - val_loss: 0.0184 - val_acc: 0.9954\n",
      "Epoch 193/200\n",
      "33308/33308 [==============================] - 2s 66us/sample - loss: 0.0157 - acc: 0.9951 - val_loss: 0.0795 - val_acc: 0.9820\n",
      "Epoch 194/200\n",
      "33308/33308 [==============================] - 2s 65us/sample - loss: 0.0249 - acc: 0.9928 - val_loss: 0.0736 - val_acc: 0.9777\n",
      "Epoch 195/200\n",
      "33308/33308 [==============================] - 2s 67us/sample - loss: 0.0202 - acc: 0.9946 - val_loss: 0.1216 - val_acc: 0.9681\n",
      "Epoch 196/200\n",
      "33308/33308 [==============================] - 2s 66us/sample - loss: 0.0268 - acc: 0.9924 - val_loss: 0.0647 - val_acc: 0.9864\n",
      "Epoch 197/200\n",
      "33308/33308 [==============================] - 2s 65us/sample - loss: 0.0219 - acc: 0.9929 - val_loss: 0.0998 - val_acc: 0.9747\n",
      "Epoch 198/200\n",
      "33308/33308 [==============================] - 2s 65us/sample - loss: 0.0187 - acc: 0.9947 - val_loss: 0.0162 - val_acc: 0.9944\n",
      "Epoch 199/200\n",
      "33308/33308 [==============================] - 2s 66us/sample - loss: 0.0194 - acc: 0.9940 - val_loss: 0.0311 - val_acc: 0.9909\n",
      "Epoch 200/200\n",
      "33308/33308 [==============================] - 2s 65us/sample - loss: 0.0226 - acc: 0.9935 - val_loss: 0.0224 - val_acc: 0.9928\n"
     ]
    }
   ],
   "source": [
    "from sklearn.preprocessing import OneHotEncoder\n",
    "\n",
    "ohe = OneHotEncoder()\n",
    "ohe.fit_transform(df['action'].values.reshape(-1,1))\n",
    "\n",
    "y_train = ohe.transform(df['action'][train_index].values.reshape(-1,1)).toarray()\n",
    "y_test = ohe.transform(df['action'][test_index].values.reshape(-1,1)).toarray()\n",
    "\n",
    "history = model.fit(X_train, y_train, \n",
    "                    validation_data=(X_test, y_test), \n",
    "                    batch_size=64, epochs=200, verbose=1)\n",
    "model.save('ANN', save_format='h5')"
   ]
  },
  {
   "cell_type": "code",
   "execution_count": 12,
   "metadata": {},
   "outputs": [
    {
     "data": {
      "text/html": [
       "<div>\n",
       "<style scoped>\n",
       "    .dataframe tbody tr th:only-of-type {\n",
       "        vertical-align: middle;\n",
       "    }\n",
       "\n",
       "    .dataframe tbody tr th {\n",
       "        vertical-align: top;\n",
       "    }\n",
       "\n",
       "    .dataframe thead tr th {\n",
       "        text-align: left;\n",
       "    }\n",
       "</style>\n",
       "<table border=\"1\" class=\"dataframe\">\n",
       "  <thead>\n",
       "    <tr>\n",
       "      <th></th>\n",
       "      <th>actions1</th>\n",
       "      <th>fall</th>\n",
       "      <th>pushups</th>\n",
       "      <th>sit</th>\n",
       "      <th>walking</th>\n",
       "      <th>walking-with-hands-up</th>\n",
       "    </tr>\n",
       "  </thead>\n",
       "  <tbody>\n",
       "    <tr>\n",
       "      <th>0</th>\n",
       "      <td>1.216099e-12</td>\n",
       "      <td>1.445600e-05</td>\n",
       "      <td>9.999996e+01</td>\n",
       "      <td>2.815589e-05</td>\n",
       "      <td>2.647200e-10</td>\n",
       "      <td>0.000000e+00</td>\n",
       "    </tr>\n",
       "    <tr>\n",
       "      <th>1</th>\n",
       "      <td>4.219005e-08</td>\n",
       "      <td>1.703904e+00</td>\n",
       "      <td>5.082090e-07</td>\n",
       "      <td>2.120696e-01</td>\n",
       "      <td>9.808403e+01</td>\n",
       "      <td>7.919475e-17</td>\n",
       "    </tr>\n",
       "    <tr>\n",
       "      <th>2</th>\n",
       "      <td>4.687350e-15</td>\n",
       "      <td>7.634088e-20</td>\n",
       "      <td>9.881274e-21</td>\n",
       "      <td>2.648890e-12</td>\n",
       "      <td>1.000000e+02</td>\n",
       "      <td>3.231460e-08</td>\n",
       "    </tr>\n",
       "  </tbody>\n",
       "</table>\n",
       "</div>"
      ],
      "text/plain": [
       "       actions1          fall       pushups           sit       walking  \\\n",
       "0  1.216099e-12  1.445600e-05  9.999996e+01  2.815589e-05  2.647200e-10   \n",
       "1  4.219005e-08  1.703904e+00  5.082090e-07  2.120696e-01  9.808403e+01   \n",
       "2  4.687350e-15  7.634088e-20  9.881274e-21  2.648890e-12  1.000000e+02   \n",
       "\n",
       "  walking-with-hands-up  \n",
       "0          0.000000e+00  \n",
       "1          7.919475e-17  \n",
       "2          3.231460e-08  "
      ]
     },
     "execution_count": 12,
     "metadata": {},
     "output_type": "execute_result"
    }
   ],
   "source": [
    "pd.DataFrame(model.predict(df.iloc[[1,40000,10000], :-2])*100, columns=ohe.categories_)"
   ]
  },
  {
   "cell_type": "code",
   "execution_count": 13,
   "metadata": {},
   "outputs": [],
   "source": [
    "#ohe_categories[np.argmax(model.predict(temp))]"
   ]
  },
  {
   "cell_type": "code",
   "execution_count": 14,
   "metadata": {},
   "outputs": [],
   "source": [
    "with open('OneHotEncoding categories.txt', 'w') as f:\n",
    "    f.write(str(ohe.categories_[0]))"
   ]
  },
  {
   "cell_type": "code",
   "execution_count": 15,
   "metadata": {},
   "outputs": [
    {
     "data": {
      "text/plain": [
       "\"['actions1' 'fall' 'pushups' 'sit' 'walking' 'walking-with-hands-up']\""
      ]
     },
     "execution_count": 15,
     "metadata": {},
     "output_type": "execute_result"
    }
   ],
   "source": [
    "str(ohe.categories_[0])"
   ]
  },
  {
   "cell_type": "code",
   "execution_count": 16,
   "metadata": {},
   "outputs": [
    {
     "data": {
      "text/plain": [
       "dict_keys(['loss', 'acc', 'val_loss', 'val_acc'])"
      ]
     },
     "execution_count": 16,
     "metadata": {},
     "output_type": "execute_result"
    }
   ],
   "source": [
    "history.history.keys()"
   ]
  },
  {
   "cell_type": "code",
   "execution_count": 17,
   "metadata": {},
   "outputs": [
    {
     "name": "stderr",
     "output_type": "stream",
     "text": [
      "\n",
      "Bad key \"text.kerning_factor\" on line 4 in\n",
      "D:\\ProgramData\\Anaconda3\\lib\\site-packages\\matplotlib\\mpl-data\\stylelib\\_classic_test_patch.mplstyle.\n",
      "You probably need to get an updated matplotlibrc file from\n",
      "https://github.com/matplotlib/matplotlib/blob/v3.1.3/matplotlibrc.template\n",
      "or from the matplotlib source distribution\n"
     ]
    },
    {
     "data": {
      "image/png": "[encoded data removed]",
      "text/plain": [
       "<Figure size 432x288 with 1 Axes>"
      ]
     },
     "metadata": {
      "needs_background": "light"
     },
     "output_type": "display_data"
    },
    {
     "data": {
      "image/png": "[encoded data removed]",
      "text/plain": [
       "<Figure size 432x288 with 1 Axes>"
      ]
     },
     "metadata": {
      "needs_background": "light"
     },
     "output_type": "display_data"
    }
   ],
   "source": [
    "import matplotlib.pyplot as plt\n",
    "\n",
    "plt.plot(history.epoch, history.history['acc'])\n",
    "plt.plot(history.epoch, history.history['val_acc'])\n",
    "plt.title('Acc')\n",
    "plt.legend(['Train', \"val\"], loc='upper left')\n",
    "plt.show()\n",
    "\n",
    "plt.plot(history.epoch, history.history['loss'])\n",
    "plt.plot(history.epoch, history.history['val_loss'])\n",
    "plt.title('Loss')\n",
    "plt.legend(['Train', \"val\"], loc='upper left')\n",
    "plt.show()"
   ]
  },
  {
   "cell_type": "code",
   "execution_count": 18,
   "metadata": {},
   "outputs": [
    {
     "data": {
      "text/plain": [
       "array([2], dtype=int64)"
      ]
     },
     "execution_count": 18,
     "metadata": {},
     "output_type": "execute_result"
    }
   ],
   "source": [
    "model.predict_classes(df.iloc[1:2, :-2])"
   ]
  },
  {
   "cell_type": "code",
   "execution_count": 19,
   "metadata": {},
   "outputs": [],
   "source": [
    "df[\"Transformed\"] = df[\"Transformed\"].astype('int64')"
   ]
  },
  {
   "cell_type": "code",
   "execution_count": 20,
   "metadata": {},
   "outputs": [
    {
     "data": {
      "text/plain": [
       "array([[ 268,    0,    0,    0,    0,    0],\n",
       "       [   0, 1065,    9,    2,    0,    0],\n",
       "       [   0,    2, 1450,    0,    0,    0],\n",
       "       [   0,   25,    0, 2020,    4,    0],\n",
       "       [   0,    5,    0,   11, 2852,    0],\n",
       "       [   0,    0,    0,    2,    0,  613]], dtype=int64)"
      ]
     },
     "execution_count": 20,
     "metadata": {},
     "output_type": "execute_result"
    }
   ],
   "source": [
    "confusion_matrix(df['Transformed'][test_index], model.predict_classes(df.iloc[:, :-2])[test_index])"
   ]
  },
  {
   "cell_type": "markdown",
   "metadata": {},
   "source": [
    "# Convolutional neural Network (CNN)"
   ]
  },
  {
   "cell_type": "code",
   "execution_count": null,
   "metadata": {},
   "outputs": [],
   "source": []
  },
  {
   "cell_type": "markdown",
   "metadata": {},
   "source": [
    "# RNN"
   ]
  },
  {
   "cell_type": "code",
   "execution_count": null,
   "metadata": {},
   "outputs": [],
   "source": []
  },
  {
   "cell_type": "code",
   "execution_count": 21,
   "metadata": {},
   "outputs": [
    {
     "name": "stdout",
     "output_type": "stream",
     "text": [
      "\n",
      "Classification Report\n",
      "\n",
      "\n",
      "Accuracy of Random Forest Classifier (RFC): 1.00\n",
      "\n",
      "                       precision    recall  f1-score   support\n",
      "\n",
      "             actions1       1.00      1.00      1.00       268\n",
      "                 fall       0.99      1.00      0.99      1070\n",
      "              pushups       1.00      1.00      1.00      1457\n",
      "                  sit       1.00      1.00      1.00      2043\n",
      "              walking       1.00      1.00      1.00      2875\n",
      "walking-with-hands-up       1.00      1.00      1.00       615\n",
      "\n",
      "            micro avg       1.00      1.00      1.00      8328\n",
      "            macro avg       1.00      1.00      1.00      8328\n",
      "         weighted avg       1.00      1.00      1.00      8328\n",
      "          samples avg       1.00      1.00      1.00      8328\n",
      "\n",
      "\n",
      "Accuracy of Artificial Neural Network (ANN): 0.99\n",
      "\n",
      "                       precision    recall  f1-score   support\n",
      "\n",
      "             actions1       1.00      1.00      1.00       268\n",
      "                 fall       0.97      0.99      0.98      1076\n",
      "              pushups       0.99      1.00      1.00      1452\n",
      "                  sit       0.99      0.99      0.99      2049\n",
      "              walking       1.00      0.99      1.00      2868\n",
      "walking-with-hands-up       1.00      1.00      1.00       615\n",
      "\n",
      "             accuracy                           0.99      8328\n",
      "            macro avg       0.99      0.99      0.99      8328\n",
      "         weighted avg       0.99      0.99      0.99      8328\n",
      "\n"
     ]
    }
   ],
   "source": [
    "from sklearn.metrics import accuracy_score, precision_score, recall_score, f1_score,classification_report \n",
    "print('\\nClassification Report\\n')\n",
    "\n",
    "print('\\nAccuracy of Random Forest Classifier (RFC): {:.2f}\\n'.format(accuracy_score(y_test, ohe.transform(y_pred.reshape(-1,1)).toarray())))    \n",
    "print(classification_report(ohe.transform(y_pred.reshape(-1,1)).toarray(), y_test, target_names=ohe.categories_[0]))\n",
    "\n",
    "print('\\nAccuracy of Artificial Neural Network (ANN): {:.2f}\\n'.format(accuracy_score(df['Transformed'][test_index], model.predict_classes(df.iloc[:, :-2])[test_index])))\n",
    "print(classification_report(df['Transformed'][test_index], model.predict_classes(df.iloc[:, :-2])[test_index], target_names=ohe.categories_[0]))"
   ]
  },
  {
   "cell_type": "code",
   "execution_count": 22,
   "metadata": {},
   "outputs": [
    {
     "data": {
      "text/plain": [
       "array([258.8809064423327, 1096.1560963877098, 247.6743717696233,\n",
       "       1103.16589102719, 237.49869866443905, 1111.8137990339578,\n",
       "       211.85583551118512, 1091.1299527575502, 197.20654406924518,\n",
       "       1082.078272799418, 240.85130642588032, 1042.566650771797,\n",
       "       224.6896357542929, 1012.5111997844092, 290.9416211163948,\n",
       "       1054.6050492941076, 324.71345306269507, 967.8415862775054,\n",
       "       305.6517183036645, 1068.0997568885393, 379.74106977782867,\n",
       "       972.2731288460247, 355.97467642055307, 1028.445288295582,\n",
       "       314.87228964965647, 906.4956276720152, 445.0320768951543,\n",
       "       1030.3417711458944, 406.206993282916, 952.7757588370903,\n",
       "       535.5605948946843, 1017.1907375791313, 486.6165264304237,\n",
       "       951.2660654441721], dtype=object)"
      ]
     },
     "execution_count": 22,
     "metadata": {},
     "output_type": "execute_result"
    }
   ],
   "source": [
    "df.iloc[1, :-2].values"
   ]
  },
  {
   "cell_type": "code",
   "execution_count": null,
   "metadata": {},
   "outputs": [],
   "source": []
  }
 ],
 "metadata": {
  "kernelspec": {
   "display_name": "Python 3",
   "language": "python",
   "name": "python3"
  },
  "language_info": {
   "codemirror_mode": {
    "name": "ipython",
    "version": 3
   },
   "file_extension": ".py",
   "mimetype": "text/x-python",
   "name": "python",
   "nbconvert_exporter": "python",
   "pygments_lexer": "ipython3",
   "version": "3.7.6"
  }
 },
 "nbformat": 4,
 "nbformat_minor": 4
}
