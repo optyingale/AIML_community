{
 "cells": [
  {
   "cell_type": "code",
   "execution_count": 2,
   "metadata": {},
   "outputs": [],
   "source": [
    "import cv2\n",
    "import os\n",
    "import shutil\n",
    "import time\n"
   ]
  },
  {
   "cell_type": "markdown",
   "metadata": {},
   "source": [
    "# This does the necessary conversion of video to sequence of images\n",
    "```python\n",
    "start = time.time()\n",
    "if 'temp' not in os.listdir():\n",
    "    os.mkdir('temp')\n",
    "    print('Made file')\n",
    "else:\n",
    "    shutil.rmtree('temp')\n",
    "    os.mkdir('temp')\n",
    "    print('remade file')\n",
    "    \n",
    "cap = cv2.VideoCapture('MVI_2951.MOV')\n",
    "count = 0\n",
    "frameRate = cap.get(5)\n",
    "\n",
    "print(f'Frame Rate = {frameRate}\\n{int(cap.get(3))} X {int(cap.get(4))}\\n{cap.get(2)}\\n{cap.get(6)}')\n",
    "\n",
    "while True:\n",
    "    frameId = cap.get(1)\n",
    "    \n",
    "    check, frame = cap.read(1)\n",
    "    if check == False:\n",
    "        break\n",
    "    #if frameId % frameRate == 0:\n",
    "    count += 1\n",
    "    filename = f\"temp/{count}.jpg\"\n",
    "    cv2.imwrite(filename, frame)\n",
    "\n",
    "cap.release()\n",
    "print(f\"time taken = {time.time()-start} s\")\n",
    "```"
   ]
  },
  {
   "cell_type": "code",
   "execution_count": null,
   "metadata": {},
   "outputs": [],
   "source": []
  }
 ],
 "metadata": {
  "kernelspec": {
   "display_name": "Python 3",
   "language": "python",
   "name": "python3"
  },
  "language_info": {
   "codemirror_mode": {
    "name": "ipython",
    "version": 3
   },
   "file_extension": ".py",
   "mimetype": "text/x-python",
   "name": "python",
   "nbconvert_exporter": "python",
   "pygments_lexer": "ipython3",
   "version": "3.7.6"
  }
 },
 "nbformat": 4,
 "nbformat_minor": 4
}
