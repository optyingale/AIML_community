{
 "cells": [
  {
   "cell_type": "code",
   "execution_count": 1,
   "metadata": {},
   "outputs": [
    {
     "name": "stdout",
     "output_type": "stream",
     "text": [
      "Requirement already satisfied: PyDrive in d:\\programdata\\anaconda3\\lib\\site-packages (1.3.1)\n",
      "Requirement already satisfied: PyYAML>=3.0 in d:\\programdata\\anaconda3\\lib\\site-packages (from PyDrive) (5.3.1)\n",
      "Requirement already satisfied: oauth2client>=4.0.0 in d:\\programdata\\anaconda3\\lib\\site-packages (from PyDrive) (4.1.3)\n",
      "Requirement already satisfied: google-api-python-client>=1.2 in d:\\programdata\\anaconda3\\lib\\site-packages (from PyDrive) (1.9.3)\n",
      "Requirement already satisfied: pyasn1-modules>=0.0.5 in d:\\programdata\\anaconda3\\lib\\site-packages (from oauth2client>=4.0.0->PyDrive) (0.2.8)\n",
      "Requirement already satisfied: pyasn1>=0.1.7 in d:\\programdata\\anaconda3\\lib\\site-packages (from oauth2client>=4.0.0->PyDrive) (0.4.8)\n",
      "Requirement already satisfied: six>=1.6.1 in d:\\programdata\\anaconda3\\lib\\site-packages (from oauth2client>=4.0.0->PyDrive) (1.15.0)\n",
      "Requirement already satisfied: rsa>=3.1.4 in d:\\programdata\\anaconda3\\lib\\site-packages (from oauth2client>=4.0.0->PyDrive) (4.0)\n",
      "Requirement already satisfied: httplib2>=0.9.1 in d:\\programdata\\anaconda3\\lib\\site-packages (from oauth2client>=4.0.0->PyDrive) (0.18.1)\n",
      "Requirement already satisfied: google-auth-httplib2>=0.0.3 in d:\\programdata\\anaconda3\\lib\\site-packages (from google-api-python-client>=1.2->PyDrive) (0.0.3)\n",
      "Requirement already satisfied: google-api-core<2dev,>=1.18.0 in d:\\programdata\\anaconda3\\lib\\site-packages (from google-api-python-client>=1.2->PyDrive) (1.21.0)\n",
      "Requirement already satisfied: uritemplate<4dev,>=3.0.0 in d:\\programdata\\anaconda3\\lib\\site-packages (from google-api-python-client>=1.2->PyDrive) (3.0.1)\n",
      "Requirement already satisfied: google-auth>=1.16.0 in d:\\programdata\\anaconda3\\lib\\site-packages (from google-api-python-client>=1.2->PyDrive) (1.16.1)\n",
      "Requirement already satisfied: googleapis-common-protos<2.0dev,>=1.6.0 in d:\\programdata\\anaconda3\\lib\\site-packages (from google-api-core<2dev,>=1.18.0->google-api-python-client>=1.2->PyDrive) (1.52.0)\n",
      "Requirement already satisfied: requests<3.0.0dev,>=2.18.0 in d:\\programdata\\anaconda3\\lib\\site-packages (from google-api-core<2dev,>=1.18.0->google-api-python-client>=1.2->PyDrive) (2.23.0)\n",
      "Requirement already satisfied: pytz in d:\\programdata\\anaconda3\\lib\\site-packages (from google-api-core<2dev,>=1.18.0->google-api-python-client>=1.2->PyDrive) (2020.1)\n",
      "Requirement already satisfied: setuptools>=34.0.0 in d:\\programdata\\anaconda3\\lib\\site-packages (from google-api-core<2dev,>=1.18.0->google-api-python-client>=1.2->PyDrive) (47.1.1.post20200604)\n",
      "Requirement already satisfied: protobuf>=3.12.0 in d:\\programdata\\anaconda3\\lib\\site-packages (from google-api-core<2dev,>=1.18.0->google-api-python-client>=1.2->PyDrive) (3.12.3)\n",
      "Requirement already satisfied: cachetools<5.0,>=2.0.0 in d:\\programdata\\anaconda3\\lib\\site-packages (from google-auth>=1.16.0->google-api-python-client>=1.2->PyDrive) (4.1.0)\n",
      "Requirement already satisfied: idna<3,>=2.5 in d:\\programdata\\anaconda3\\lib\\site-packages (from requests<3.0.0dev,>=2.18.0->google-api-core<2dev,>=1.18.0->google-api-python-client>=1.2->PyDrive) (2.9)\n",
      "Requirement already satisfied: certifi>=2017.4.17 in d:\\programdata\\anaconda3\\lib\\site-packages (from requests<3.0.0dev,>=2.18.0->google-api-core<2dev,>=1.18.0->google-api-python-client>=1.2->PyDrive) (2020.4.5.2)\n",
      "Requirement already satisfied: urllib3!=1.25.0,!=1.25.1,<1.26,>=1.21.1 in d:\\programdata\\anaconda3\\lib\\site-packages (from requests<3.0.0dev,>=2.18.0->google-api-core<2dev,>=1.18.0->google-api-python-client>=1.2->PyDrive) (1.25.9)\n",
      "Requirement already satisfied: chardet<4,>=3.0.2 in d:\\programdata\\anaconda3\\lib\\site-packages (from requests<3.0.0dev,>=2.18.0->google-api-core<2dev,>=1.18.0->google-api-python-client>=1.2->PyDrive) (3.0.4)\n"
     ]
    }
   ],
   "source": [
    "!pip install PyDrive\n"
   ]
  },
  {
   "cell_type": "code",
   "execution_count": 1,
   "metadata": {},
   "outputs": [],
   "source": [
    "# Importing necessities\n",
    "\n",
    "import warnings\n",
    "warnings.filterwarnings(\"ignore\")\n",
    "import tensorflow as tf\n",
    "import cv2\n",
    "import os\n",
    "import posenet\n",
    "import time\n",
    "import pandas as pd\n",
    "import numpy as np\n",
    "\n"
   ]
  },
  {
   "cell_type": "code",
   "execution_count": 2,
   "metadata": {},
   "outputs": [
    {
     "data": {
      "text/plain": [
       "'..\\\\..\\\\..\\\\AIML community add\\\\deep learning\\\\final\\\\mp4\\\\bhavesh_ingale_band-stretching.mp4'"
      ]
     },
     "execution_count": 2,
     "metadata": {},
     "output_type": "execute_result"
    }
   ],
   "source": [
    "# Directory for my files\n",
    "# Will change this later to read files from drive, so it can run fast on colab\n",
    "\n",
    "dir_ = \"..\\..\\..\\AIML community add\\deep learning\\\\final\\mp4\"\n",
    "files = os.listdir(dir_)\n",
    "file = files[0]\n",
    "os.path.join(dir_, file)"
   ]
  },
  {
   "cell_type": "code",
   "execution_count": 3,
   "metadata": {},
   "outputs": [],
   "source": [
    "# Configuring my cudnn for tensorflow 1\n",
    "# Needed for my laptop, unsure for others\n",
    "\n",
    "config = tf.ConfigProto()\n",
    "config.gpu_options.allow_growth = True\n",
    "sess = tf.Session(config=config)"
   ]
  },
  {
   "cell_type": "code",
   "execution_count": 5,
   "metadata": {},
   "outputs": [
    {
     "ename": "OSError",
     "evalue": "webcam failure or video has ended",
     "output_type": "error",
     "traceback": [
      "\u001b[1;31m---------------------------------------------------------------------------\u001b[0m",
      "\u001b[1;31mOSError\u001b[0m                                   Traceback (most recent call last)",
      "\u001b[1;32m<ipython-input-5-27f74919ce4d>\u001b[0m in \u001b[0;36m<module>\u001b[1;34m\u001b[0m\n\u001b[0;32m     17\u001b[0m     \u001b[1;32mwhile\u001b[0m \u001b[1;32mTrue\u001b[0m\u001b[1;33m:\u001b[0m\u001b[1;33m\u001b[0m\u001b[1;33m\u001b[0m\u001b[0m\n\u001b[0;32m     18\u001b[0m \u001b[1;33m\u001b[0m\u001b[0m\n\u001b[1;32m---> 19\u001b[1;33m         \u001b[0minput_image\u001b[0m\u001b[1;33m,\u001b[0m \u001b[0mdisplay_image\u001b[0m\u001b[1;33m,\u001b[0m \u001b[0moutput_scale\u001b[0m \u001b[1;33m=\u001b[0m \u001b[0mposenet\u001b[0m\u001b[1;33m.\u001b[0m\u001b[0mread_cap\u001b[0m\u001b[1;33m(\u001b[0m\u001b[0mcap\u001b[0m\u001b[1;33m)\u001b[0m\u001b[1;33m\u001b[0m\u001b[1;33m\u001b[0m\u001b[0m\n\u001b[0m\u001b[0;32m     20\u001b[0m \u001b[1;33m\u001b[0m\u001b[0m\n\u001b[0;32m     21\u001b[0m         heatmaps_result, offsets_result, displacement_fwd_result, displacement_bwd_result = sess.run(\n",
      "\u001b[1;32mE:\\AIML community\\Deep Learning Fall Detection\\Final\\posenet\\utils.py\u001b[0m in \u001b[0;36mread_cap\u001b[1;34m(cap, scale_factor, output_stride)\u001b[0m\n\u001b[0;32m     27\u001b[0m     \u001b[0mres\u001b[0m\u001b[1;33m,\u001b[0m \u001b[0mimg\u001b[0m \u001b[1;33m=\u001b[0m \u001b[0mcap\u001b[0m\u001b[1;33m.\u001b[0m\u001b[0mread\u001b[0m\u001b[1;33m(\u001b[0m\u001b[1;33m)\u001b[0m\u001b[1;33m\u001b[0m\u001b[1;33m\u001b[0m\u001b[0m\n\u001b[0;32m     28\u001b[0m     \u001b[1;32mif\u001b[0m \u001b[1;32mnot\u001b[0m \u001b[0mres\u001b[0m\u001b[1;33m:\u001b[0m\u001b[1;33m\u001b[0m\u001b[1;33m\u001b[0m\u001b[0m\n\u001b[1;32m---> 29\u001b[1;33m         \u001b[1;32mraise\u001b[0m \u001b[0mIOError\u001b[0m\u001b[1;33m(\u001b[0m\u001b[1;34m\"webcam failure or video has ended\"\u001b[0m\u001b[1;33m)\u001b[0m\u001b[1;33m\u001b[0m\u001b[1;33m\u001b[0m\u001b[0m\n\u001b[0m\u001b[0;32m     30\u001b[0m     \u001b[1;32mreturn\u001b[0m \u001b[0m_process_input\u001b[0m\u001b[1;33m(\u001b[0m\u001b[0mimg\u001b[0m\u001b[1;33m,\u001b[0m \u001b[0mscale_factor\u001b[0m\u001b[1;33m,\u001b[0m \u001b[0moutput_stride\u001b[0m\u001b[1;33m)\u001b[0m\u001b[1;33m\u001b[0m\u001b[1;33m\u001b[0m\u001b[0m\n\u001b[0;32m     31\u001b[0m \u001b[1;33m\u001b[0m\u001b[0m\n",
      "\u001b[1;31mOSError\u001b[0m: webcam failure or video has ended"
     ]
    }
   ],
   "source": [
    "csv_name = 'my_csv.csv'\n",
    "with tf.Session() as sess:\n",
    "    \n",
    "    # Setting ouput stride to 16\n",
    "    output_stride = 16\n",
    "    model_id = 101\n",
    "    model_cfg, model_outputs = posenet.load_model(model_id, sess)\n",
    "    \n",
    "    # change to for loop after testing on single file\n",
    "    file = files[0]\n",
    "    action = files[0].split(\"_\")[-1].split(\".\")[0]\n",
    "    cap = cv2.VideoCapture(os.path.join(dir_, file))\n",
    "    input_image, display_image, output_scale = posenet.read_cap(cap)\n",
    "    \n",
    "    start = time.time()\n",
    "    frame_count = 0\n",
    "    while True:\n",
    "        \n",
    "        input_image, display_image, output_scale = posenet.read_cap(cap)\n",
    "\n",
    "        heatmaps_result, offsets_result, displacement_fwd_result, displacement_bwd_result = sess.run(\n",
    "            model_outputs,\n",
    "            feed_dict={'image:0': input_image})\n",
    "\n",
    "        # print(heatmaps_result.shape) # (1, 33, 58, 17)\n",
    "\n",
    "        pose_scores, keypoint_scores, keypoint_coords = posenet.decode_multi.decode_multiple_poses(\n",
    "            heatmaps_result.squeeze(axis=0),\n",
    "            offsets_result.squeeze(axis=0),\n",
    "            displacement_fwd_result.squeeze(axis=0),\n",
    "            displacement_bwd_result.squeeze(axis=0),\n",
    "            output_stride=output_stride,\n",
    "            max_pose_detections=10,\n",
    "            min_pose_score=0.15)\n",
    "\n",
    "        keypoint_coords *= output_scale\n",
    "\n",
    "        # TODO this isn't particularly fast, use GL for drawing and display someday...\n",
    "        overlay_image = posenet.draw_skel_and_kp(\n",
    "            display_image, pose_scores, keypoint_scores, keypoint_coords,\n",
    "            min_pose_score=0.15, min_part_score=0.3)\n",
    "        # setting min_pose_score and min_part_score =0 prints the estimated value\n",
    "\n",
    "        x = keypoint_coords[0][:,0]\n",
    "        y = keypoint_coords[0][:,1]\n",
    "        data = {'action': action, \n",
    "                'frame_number': frame_count+1, \n",
    "                'input_number': np.arange(1, posenet.NUM_KEYPOINTS+1), \n",
    "                'x_inputs': x, 'y_inputs': y}\n",
    "        temp = pd.DataFrame(data=data)\n",
    "        \n",
    "        if csv_name not in os.listdir():\n",
    "            temp.to_csv(csv_name, \n",
    "                        header=True, \n",
    "                        index=False)\n",
    "        else:\n",
    "            temp.to_csv(csv_name, \n",
    "                        mode='a', \n",
    "                        header=False, \n",
    "                        index=False)\n",
    "        \n",
    "        cv2.imshow('posenet', overlay_image)\n",
    "        frame_count += 1\n",
    "        if cv2.waitKey(1) & 0xFF == ord('q'):\n",
    "            break\n",
    "\n",
    "    # print(cap.get(cv2.CAP_PROP_FPS)) -> frame rate\n",
    "    print('Average FPS: ', frame_count / (time.time() - start))\n",
    "    print(frame_count)\n"
   ]
  },
  {
   "cell_type": "code",
   "execution_count": null,
   "metadata": {},
   "outputs": [],
   "source": [
    "# Later, Wont show video as well"
   ]
  },
  {
   "cell_type": "code",
   "execution_count": null,
   "metadata": {},
   "outputs": [],
   "source": []
  },
  {
   "cell_type": "code",
   "execution_count": 10,
   "metadata": {},
   "outputs": [
    {
     "ename": "ModuleNotFoundError",
     "evalue": "No module named 'google.colab'",
     "output_type": "error",
     "traceback": [
      "\u001b[1;31m---------------------------------------------------------------------------\u001b[0m",
      "\u001b[1;31mModuleNotFoundError\u001b[0m                       Traceback (most recent call last)",
      "\u001b[1;32m<ipython-input-10-761aabc1b564>\u001b[0m in \u001b[0;36m<module>\u001b[1;34m\u001b[0m\n\u001b[0;32m      1\u001b[0m \u001b[1;32mfrom\u001b[0m \u001b[0mpydrive\u001b[0m\u001b[1;33m.\u001b[0m\u001b[0mauth\u001b[0m \u001b[1;32mimport\u001b[0m \u001b[0mGoogleAuth\u001b[0m\u001b[1;33m\u001b[0m\u001b[1;33m\u001b[0m\u001b[0m\n\u001b[0;32m      2\u001b[0m \u001b[1;32mfrom\u001b[0m \u001b[0mpydrive\u001b[0m\u001b[1;33m.\u001b[0m\u001b[0mdrive\u001b[0m \u001b[1;32mimport\u001b[0m \u001b[0mGoogleDrive\u001b[0m\u001b[1;33m\u001b[0m\u001b[1;33m\u001b[0m\u001b[0m\n\u001b[1;32m----> 3\u001b[1;33m \u001b[1;32mfrom\u001b[0m \u001b[0mgoogle\u001b[0m\u001b[1;33m.\u001b[0m\u001b[0mcolab\u001b[0m \u001b[1;32mimport\u001b[0m \u001b[0mauth\u001b[0m\u001b[1;33m\u001b[0m\u001b[1;33m\u001b[0m\u001b[0m\n\u001b[0m\u001b[0;32m      4\u001b[0m \u001b[1;32mfrom\u001b[0m \u001b[0moauth2client\u001b[0m\u001b[1;33m.\u001b[0m\u001b[0mclient\u001b[0m \u001b[1;32mimport\u001b[0m \u001b[0mGoogleCredentials\u001b[0m\u001b[1;33m\u001b[0m\u001b[1;33m\u001b[0m\u001b[0m\n",
      "\u001b[1;31mModuleNotFoundError\u001b[0m: No module named 'google.colab'"
     ]
    }
   ],
   "source": [
    "from pydrive.auth import GoogleAuth\n",
    "from pydrive.drive import GoogleDrive\n",
    "from google.colab import auth\n",
    "from oauth2client.client import GoogleCredentials"
   ]
  },
  {
   "cell_type": "code",
   "execution_count": 5,
   "metadata": {},
   "outputs": [],
   "source": [
    "# Authenticate and create the PyDrive client.\n",
    "auth.authenticate_user()\n",
    "gauth = GoogleAuth()\n",
    "gauth.credentials = GoogleCredentials.get_application_default()\n",
    "drive = GoogleDrive(gauth)"
   ]
  },
  {
   "cell_type": "code",
   "execution_count": 9,
   "metadata": {},
   "outputs": [
    {
     "data": {
      "text/plain": [
       "GoogleDriveFileList({'q': \"'root' in parents and trashed=false\"})"
      ]
     },
     "execution_count": 9,
     "metadata": {},
     "output_type": "execute_result"
    }
   ],
   "source": [
    "drive.ListFile({'q': \"'root' in parents and trashed=false\"})#.GetList()"
   ]
  },
  {
   "cell_type": "code",
   "execution_count": null,
   "metadata": {},
   "outputs": [],
   "source": [
    "drive."
   ]
  }
 ],
 "metadata": {
  "kernelspec": {
   "display_name": "Python 3",
   "language": "python",
   "name": "python3"
  },
  "language_info": {
   "codemirror_mode": {
    "name": "ipython",
    "version": 3
   },
   "file_extension": ".py",
   "mimetype": "text/x-python",
   "name": "python",
   "nbconvert_exporter": "python",
   "pygments_lexer": "ipython3",
   "version": "3.7.6"
  }
 },
 "nbformat": 4,
 "nbformat_minor": 4
}
