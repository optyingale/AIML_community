{
 "cells": [
  {
   "cell_type": "code",
   "execution_count": 2,
   "metadata": {},
   "outputs": [],
   "source": [
    "# Importing necessities\n",
    "\n",
    "import warnings\n",
    "warnings.filterwarnings(\"ignore\")\n",
    "\n",
    "import tensorflow as tf\n",
    "import cv2\n",
    "import os\n",
    "import posenet\n",
    "import time\n",
    "import pandas as pd\n",
    "import numpy as np\n"
   ]
  },
  {
   "cell_type": "code",
   "execution_count": 5,
   "metadata": {},
   "outputs": [
    {
     "data": {
      "text/plain": [
       "'.\\\\data\\\\bhavesh_ingale_pushups.mp4'"
      ]
     },
     "execution_count": 5,
     "metadata": {},
     "output_type": "execute_result"
    }
   ],
   "source": [
    "#dir_ = \"..\\..\\..\\AIML community add\\deep learning\\\\final\\mp4\"\n",
    "dir_ = \".\\data\"\n",
    "files = os.listdir(dir_)\n",
    "file = files[0]\n",
    "os.path.join(dir_, file)"
   ]
  },
  {
   "cell_type": "code",
   "execution_count": 3,
   "metadata": {},
   "outputs": [],
   "source": [
    "# Configuring my cudnn for tensorflow 1\n",
    "# Needed for my laptop, unsure for others\n",
    "\n",
    "config = tf.ConfigProto()\n",
    "config.gpu_options.allow_growth = True\n",
    "sess = tf.Session(config=config)"
   ]
  },
  {
   "cell_type": "code",
   "execution_count": 5,
   "metadata": {},
   "outputs": [
    {
     "ename": "OSError",
     "evalue": "webcam failure or video has ended",
     "output_type": "error",
     "traceback": [
      "\u001b[1;31m---------------------------------------------------------------------------\u001b[0m",
      "\u001b[1;31mOSError\u001b[0m                                   Traceback (most recent call last)",
      "\u001b[1;32m<ipython-input-5-27f74919ce4d>\u001b[0m in \u001b[0;36m<module>\u001b[1;34m\u001b[0m\n\u001b[0;32m     17\u001b[0m     \u001b[1;32mwhile\u001b[0m \u001b[1;32mTrue\u001b[0m\u001b[1;33m:\u001b[0m\u001b[1;33m\u001b[0m\u001b[1;33m\u001b[0m\u001b[0m\n\u001b[0;32m     18\u001b[0m \u001b[1;33m\u001b[0m\u001b[0m\n\u001b[1;32m---> 19\u001b[1;33m         \u001b[0minput_image\u001b[0m\u001b[1;33m,\u001b[0m \u001b[0mdisplay_image\u001b[0m\u001b[1;33m,\u001b[0m \u001b[0moutput_scale\u001b[0m \u001b[1;33m=\u001b[0m \u001b[0mposenet\u001b[0m\u001b[1;33m.\u001b[0m\u001b[0mread_cap\u001b[0m\u001b[1;33m(\u001b[0m\u001b[0mcap\u001b[0m\u001b[1;33m)\u001b[0m\u001b[1;33m\u001b[0m\u001b[1;33m\u001b[0m\u001b[0m\n\u001b[0m\u001b[0;32m     20\u001b[0m \u001b[1;33m\u001b[0m\u001b[0m\n\u001b[0;32m     21\u001b[0m         heatmaps_result, offsets_result, displacement_fwd_result, displacement_bwd_result = sess.run(\n",
      "\u001b[1;32mE:\\AIML community\\Deep Learning Fall Detection\\Final\\posenet\\utils.py\u001b[0m in \u001b[0;36mread_cap\u001b[1;34m(cap, scale_factor, output_stride)\u001b[0m\n\u001b[0;32m     27\u001b[0m     \u001b[0mres\u001b[0m\u001b[1;33m,\u001b[0m \u001b[0mimg\u001b[0m \u001b[1;33m=\u001b[0m \u001b[0mcap\u001b[0m\u001b[1;33m.\u001b[0m\u001b[0mread\u001b[0m\u001b[1;33m(\u001b[0m\u001b[1;33m)\u001b[0m\u001b[1;33m\u001b[0m\u001b[1;33m\u001b[0m\u001b[0m\n\u001b[0;32m     28\u001b[0m     \u001b[1;32mif\u001b[0m \u001b[1;32mnot\u001b[0m \u001b[0mres\u001b[0m\u001b[1;33m:\u001b[0m\u001b[1;33m\u001b[0m\u001b[1;33m\u001b[0m\u001b[0m\n\u001b[1;32m---> 29\u001b[1;33m         \u001b[1;32mraise\u001b[0m \u001b[0mIOError\u001b[0m\u001b[1;33m(\u001b[0m\u001b[1;34m\"webcam failure or video has ended\"\u001b[0m\u001b[1;33m)\u001b[0m\u001b[1;33m\u001b[0m\u001b[1;33m\u001b[0m\u001b[0m\n\u001b[0m\u001b[0;32m     30\u001b[0m     \u001b[1;32mreturn\u001b[0m \u001b[0m_process_input\u001b[0m\u001b[1;33m(\u001b[0m\u001b[0mimg\u001b[0m\u001b[1;33m,\u001b[0m \u001b[0mscale_factor\u001b[0m\u001b[1;33m,\u001b[0m \u001b[0moutput_stride\u001b[0m\u001b[1;33m)\u001b[0m\u001b[1;33m\u001b[0m\u001b[1;33m\u001b[0m\u001b[0m\n\u001b[0;32m     31\u001b[0m \u001b[1;33m\u001b[0m\u001b[0m\n",
      "\u001b[1;31mOSError\u001b[0m: webcam failure or video has ended"
     ]
    }
   ],
   "source": [
    "csv_name = 'my_csv.csv'\n",
    "with tf.Session() as sess:\n",
    "    \n",
    "    # Setting ouput stride to 16\n",
    "    output_stride = 16\n",
    "    model_id = 101\n",
    "    model_cfg, model_outputs = posenet.load_model(model_id, sess)\n",
    "    \n",
    "    # change to for loop after testing on single file\n",
    "    file = files[0]\n",
    "    action = files[0].split(\"_\")[-1].split(\".\")[0]\n",
    "    cap = cv2.VideoCapture(os.path.join(dir_, file))\n",
    "    input_image, display_image, output_scale = posenet.read_cap(cap)\n",
    "    \n",
    "    start = time.time()\n",
    "    frame_count = 0\n",
    "    while True:\n",
    "        \n",
    "        input_image, display_image, output_scale = posenet.read_cap(cap)\n",
    "\n",
    "        heatmaps_result, offsets_result, displacement_fwd_result, displacement_bwd_result = sess.run(\n",
    "            model_outputs,\n",
    "            feed_dict={'image:0': input_image})\n",
    "\n",
    "        # print(heatmaps_result.shape) # (1, 33, 58, 17)\n",
    "\n",
    "        pose_scores, keypoint_scores, keypoint_coords = posenet.decode_multi.decode_multiple_poses(\n",
    "            heatmaps_result.squeeze(axis=0),\n",
    "            offsets_result.squeeze(axis=0),\n",
    "            displacement_fwd_result.squeeze(axis=0),\n",
    "            displacement_bwd_result.squeeze(axis=0),\n",
    "            output_stride=output_stride,\n",
    "            max_pose_detections=10,\n",
    "            min_pose_score=0.15)\n",
    "\n",
    "        keypoint_coords *= output_scale\n",
    "\n",
    "        # TODO this isn't particularly fast, use GL for drawing and display someday...\n",
    "        overlay_image = posenet.draw_skel_and_kp(\n",
    "            display_image, pose_scores, keypoint_scores, keypoint_coords,\n",
    "            min_pose_score=0.15, min_part_score=0.3)\n",
    "        # setting min_pose_score and min_part_score =0 prints the estimated value\n",
    "\n",
    "        x = keypoint_coords[0][:,0]\n",
    "        y = keypoint_coords[0][:,1]\n",
    "        data = {'action': action, \n",
    "                'frame_number': frame_count+1, \n",
    "                'input_number': np.arange(1, posenet.NUM_KEYPOINTS+1), \n",
    "                'x_inputs': x, 'y_inputs': y}\n",
    "        temp = pd.DataFrame(data=data)\n",
    "        \n",
    "        if csv_name not in os.listdir():\n",
    "            temp.to_csv(csv_name, \n",
    "                        header=True, \n",
    "                        index=False)\n",
    "        else:\n",
    "            temp.to_csv(csv_name, \n",
    "                        mode='a', \n",
    "                        header=False, \n",
    "                        index=False)\n",
    "        \n",
    "        cv2.imshow('posenet', overlay_image)\n",
    "        frame_count += 1\n",
    "        if cv2.waitKey(1) & 0xFF == ord('q'):\n",
    "            break\n",
    "\n",
    "    # print(cap.get(cv2.CAP_PROP_FPS)) -> frame rate\n",
    "    print('Average FPS: ', frame_count / (time.time() - start))\n",
    "    print(frame_count)\n"
   ]
  },
  {
   "cell_type": "markdown",
   "metadata": {},
   "source": [
    "### Since not all videos from drives are to be taken into account, I'll download them manually"
   ]
  },
  {
   "cell_type": "code",
   "execution_count": null,
   "metadata": {},
   "outputs": [],
   "source": []
  },
  {
   "cell_type": "code",
   "execution_count": null,
   "metadata": {},
   "outputs": [],
   "source": []
  },
  {
   "cell_type": "code",
   "execution_count": null,
   "metadata": {},
   "outputs": [],
   "source": []
  }
 ],
 "metadata": {
  "kernelspec": {
   "display_name": "Python 3",
   "language": "python",
   "name": "python3"
  },
  "language_info": {
   "codemirror_mode": {
    "name": "ipython",
    "version": 3
   },
   "file_extension": ".py",
   "mimetype": "text/x-python",
   "name": "python",
   "nbconvert_exporter": "python",
   "pygments_lexer": "ipython3",
   "version": "3.7.6"
  }
 },
 "nbformat": 4,
 "nbformat_minor": 4
}
